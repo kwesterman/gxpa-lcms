{
 "cells": [
  {
   "cell_type": "markdown",
   "metadata": {},
   "source": [
    "# Preliminaries"
   ]
  },
  {
   "cell_type": "code",
   "execution_count": null,
   "metadata": {},
   "outputs": [],
   "source": [
    "suppressPackageStartupMessages(library(tidyverse))\n",
    "library(patchwork)"
   ]
  },
  {
   "cell_type": "code",
   "execution_count": null,
   "metadata": {},
   "outputs": [],
   "source": [
    "ws_namespace <- Sys.getenv(\"WORKSPACE_NAMESPACE\")\n",
    "ws_name <- Sys.getenv(\"WORKSPACE_NAME\")\n",
    "ws_bucket <- Sys.getenv(\"WORKSPACE_BUCKET\")"
   ]
  },
  {
   "cell_type": "code",
   "execution_count": null,
   "metadata": {},
   "outputs": [],
   "source": [
    "theme_set(theme_bw())"
   ]
  },
  {
   "cell_type": "markdown",
   "metadata": {},
   "source": [
    "# Read in and align datasets\n",
    "\n",
    "We will read in various data types to merge (phenotypes and genotypes) and align (with a separate metabolomic dataset)."
   ]
  },
  {
   "cell_type": "code",
   "execution_count": null,
   "metadata": {},
   "outputs": [],
   "source": [
    "system(paste0(\"gsutil cp -R \", ws_bucket, \"/phenotypes .\"))"
   ]
  },
  {
   "cell_type": "markdown",
   "metadata": {},
   "source": [
    "## Basic info: draw dates, study site, etc."
   ]
  },
  {
   "cell_type": "code",
   "execution_count": null,
   "metadata": {},
   "outputs": [],
   "source": [
    "basic_info_df <- readxl::read_excel(\"phenotypes/draw_dates_MESA_study_site.xlsx\") %>%\n",
    "    mutate(sidno = as.integer(sidno),\n",
    "           site = paste0(\"s\", site1c),\n",
    "           race = factor(race1c, levels=1:4, labels=c(\"white\", \"asian\", \"hispanic\", \"african-american\")),\n",
    "           month = paste0(\"month\", `exam1:month`),\n",
    "           season = paste0(\"season\", `exam1:season`)) %>%\n",
    "    select(mesa_id=sidno, gender1, race, site, \n",
    "           month, season)\n",
    "head(basic_info_df, 3)\n",
    "table(basic_info_df$race) / sum(table(basic_info_df$race))"
   ]
  },
  {
   "cell_type": "markdown",
   "metadata": {},
   "source": [
    "## Batch info"
   ]
  },
  {
   "cell_type": "code",
   "execution_count": null,
   "metadata": {},
   "outputs": [],
   "source": [
    "batch_info_df <- read_csv(\"phenotypes/sample_info.csv\", col_types=cols())\n",
    "#     mutate(sidno = as.integer(sidno),\n",
    "#            site = paste0(\"s\", site1c),\n",
    "#            race = paste0(\"r\", race1c)) %>%\n",
    "#     select(mesa_id=sidno, gender1, race, site, \n",
    "#            exam1mo=`exam1:month`, exam1season=`exam1:season`)\n",
    "# names(batch_info_df)\n",
    "head(batch_info_df, 3)"
   ]
  },
  {
   "cell_type": "markdown",
   "metadata": {},
   "source": [
    "## Main phenotypes\n",
    "\n",
    "Retrieved using PIC-SURE"
   ]
  },
  {
   "cell_type": "code",
   "execution_count": null,
   "metadata": {},
   "outputs": [],
   "source": [
    "fix_pheno_names <- function(pheno_names) {\n",
    "    \n",
    "    # Remove front matter and trailing backslashes from MESA phenotype names\n",
    "    \n",
    "    new_pheno_names <- unlist(lapply(pheno_names, function(nm) {\n",
    "        if (grepl(\"phs000209\", nm)) {\n",
    "            capture_str <- \".*\\\\\\\\(.*)\\\\\\\\$\"\n",
    "            nm <- str_match(nm, capture_str)[, 2]  # Extract real column name from front matter\n",
    "            nm\n",
    "        } else {\n",
    "            nm\n",
    "        }\n",
    "    }))\n",
    "    new_pheno_names\n",
    "}\n",
    "\n",
    "winsorize <- function(x, SDs=5) {\n",
    "  bounds <- mean(x, na.rm=TRUE) + c(-1, 1) * SDs * sd(x, na.rm=TRUE)\n",
    "  print(paste0(sum(x < bounds[1], na.rm=TRUE), \" values winsorized at the lower bound.\"))\n",
    "  print(paste0(sum(x > bounds[2], na.rm=TRUE), \" values winsorized at the upper bound.\"))\n",
    "  case_when(\n",
    "    x < bounds[1] ~ bounds[1],\n",
    "    x > bounds[2] ~ bounds[2],\n",
    "    TRUE ~ x\n",
    "  )\n",
    "}"
   ]
  },
  {
   "cell_type": "code",
   "execution_count": null,
   "metadata": {},
   "outputs": [],
   "source": [
    "basic_pheno_df <- read_csv(\"phenotypes/basic_phenotypes.csv\", col_types=cols()) %>%\n",
    "    rename_with(fix_pheno_names, everything()) %>%\n",
    "    mutate(mesa_id = gsub(\"phs000209.v13_\", \"\", \n",
    "                          `\\\\_Parent Study Accession with Subject ID\\\\`),\n",
    "           mesa_id = as.integer(mesa_id),\n",
    "           gender_f0m1 = c(FEMALE=0, MALE=1)[gender1]) %>%\n",
    "    select(\n",
    "        mesa_id,\n",
    "        age=age1c, gender_f0m1, bmi=bmi1c,\n",
    "    )\n",
    "\n",
    "primary_pheno_df <- read_csv(\"phenotypes/primary_phenotypes.csv\", col_types=cols()) %>%\n",
    "    rename_with(fix_pheno_names, everything()) %>%\n",
    "    mutate(mesa_id = gsub(\"phs000209.v13_\", \"\", \n",
    "                          `\\\\_Parent Study Accession with Subject ID\\\\`),\n",
    "           mesa_id = as.integer(mesa_id),\n",
    "           hdl_log = log(hdl1)) %>%\n",
    "    select(\n",
    "        mesa_id,\n",
    "        hdl=hdl1, hdl_log, ldl=ldl1, chol=chol1, tg=trig1,\n",
    "        pa=exercm1c, mod_pa=pamcm1c, vig_pa=pavcm1c, mvpa=pamvcm1c\n",
    "    ) %>%\n",
    "    mutate(across(c(pa, mod_pa, vig_pa, mvpa), ~ . / 60),\n",
    "           across(c(pa, mod_pa, vig_pa, mvpa), winsorize),\n",
    "           pa_bin = as.integer(pa > 3.75))\n",
    "\n",
    "covariate_df <- read_csv(\"phenotypes/covariates.csv\", col_types=cols()) %>%\n",
    "    rename_with(fix_pheno_names, everything()) %>%\n",
    "    mutate(mesa_id = gsub(\"phs000209.v13_\", \"\", \n",
    "                          `\\\\_Parent Study Accession with Subject ID\\\\`),\n",
    "           mesa_id = as.integer(mesa_id)) %>%\n",
    "    select(\n",
    "        mesa_id,\n",
    "        ses_score=F1_PC2_1, income_cat=income1,\n",
    "        drinks_per_week=alcwkc1, smoking=cig1c,\n",
    "        ahei_score=ahei_2010_1, dash_score=dash_sodium1\n",
    "    ) %>%\n",
    "    mutate(across(c(ses_score, drinks_per_week, ahei_score, dash_score), winsorize))"
   ]
  },
  {
   "cell_type": "markdown",
   "metadata": {},
   "source": [
    "## NMR data"
   ]
  },
  {
   "cell_type": "code",
   "execution_count": null,
   "metadata": {},
   "outputs": [],
   "source": [
    "system(\"unzip phenotypes/SHARe_AncilMesaNMR_LP4_DS.zip -d phenotypes/\")"
   ]
  },
  {
   "cell_type": "code",
   "execution_count": null,
   "metadata": {},
   "outputs": [],
   "source": [
    "nmr_df <- read_table(\"phenotypes/SHARe_AncilMesaNMR_LP4_DS.txt\", col_types=cols()) %>%\n",
    "    select(\n",
    "        mesa_id = subject_id,\n",
    "        HDL_C = nhdlc1,\n",
    "        HDL_P = chdlp1, HDL_size = hdlz1,\n",
    "        L_HDL_P = l_chdlp1, M_HDL_P = m_chdlp1, S_HDL_P = s_chdlp1,\n",
    "        H1P = h1p1, H2P = h2p1, H3P = h3p1, H4P = h4p1, H5P = h5p1, H6P = h6p1, H7P = h7p1\n",
    "    )\n",
    "\n",
    "nmr_lp3_df <- read_csv(\"phenotypes/nmr_metabolites.csv\", col_types=cols()) %>%\n",
    "    rename_with(fix_pheno_names, everything()) %>%\n",
    "    mutate(mesa_id = gsub(\"phs000209.v13_\", \"\", \n",
    "                          `\\\\_Parent Study Accession with Subject ID\\\\`),\n",
    "           mesa_id = as.integer(mesa_id)) %>%\n",
    "    select(\n",
    "        mesa_id,\n",
    "        HDL_C_lp3 = nhdlc31c,\n",
    "        HDL_P_lp3 = hdlp31c, HDL_size_lp3 = hz31,\n",
    "        L_HDL_P_lp3 = hl31, M_HDL_P_lp3 = hm31, S_HDL_P_lp3 = hs31\n",
    "    )"
   ]
  },
  {
   "cell_type": "markdown",
   "metadata": {},
   "source": [
    "## Genetic principal components"
   ]
  },
  {
   "cell_type": "code",
   "execution_count": null,
   "metadata": {},
   "outputs": [],
   "source": [
    "system(paste0(\"gsutil cp \", ws_bucket, \"/freeze9b_sample_annot_2020-08-20.txt phenotypes/\"))\n",
    "f9b_sample_map <- read_tsv(\"phenotypes/freeze9b_sample_annot_2020-08-20.txt\",\n",
    "                       col_types=cols_only(\"sample.id\"=\"c\", \"subject_id\"=\"c\", \"study\"=\"c\")) %>%\n",
    "  filter(study == \"MESA\") %>%\n",
    "  rename(NWD_ID=sample.id, mesa_id=subject_id) %>%\n",
    "  mutate(mesa_id = as.integer(mesa_id))\n",
    "\n",
    "gPC_df <- read_tsv(\"phenotypes/freeze9_pcair_results.tsv\", col_types=cols()) %>%\n",
    "    inner_join(f9b_sample_map, by=c(\"sample.id\"=\"NWD_ID\")) %>%\n",
    "    rename_with(~paste0(\"g\", .), contains(\"PC\")) %>%\n",
    "    select(mesa_id, NWD_ID=sample.id, contains(\"gPC\"))\n",
    "\n",
    "# gPC_df <- read_tsv(\"phenotypes/freeze9_pcair_results.tsv\", col_types=cols()) %>%\n",
    "#     inner_join(select(id_df, NWD_ID, mesa_id), by=c(\"sample.id\"=\"NWD_ID\")) %>%\n",
    "#     rename_with(~paste0(\"g\", .), contains(\"PC\")) %>%\n",
    "#     select(mesa_id, contains(\"gPC\"))\n",
    "head(gPC_df, 3)"
   ]
  },
  {
   "cell_type": "markdown",
   "metadata": {},
   "source": [
    "## Ancestry proportions"
   ]
  },
  {
   "cell_type": "code",
   "execution_count": null,
   "metadata": {},
   "outputs": [],
   "source": [
    "ancestry_prop_fields <- c(\"African\", \"American\", \"East_Asian\", \"European\")\n",
    "ancestry_prop_df <- read_csv(\"phenotypes/id_match_file.csv\", col_types=cols()) %>%\n",
    "    mutate(mesa_id = as.integer(Cohort_Specific_Id)) %>%\n",
    "    filter(is.na(Exclusion_Reason)) %>%\n",
    "    select(mesa_id, all_of(ancestry_prop_fields)) %>%\n",
    "    rename_with(~paste0(\"prop_\", .), -mesa_id)\n",
    "head(ancestry_prop_df, 3)"
   ]
  },
  {
   "cell_type": "markdown",
   "metadata": {},
   "source": [
    "## Genotypes of interest"
   ]
  },
  {
   "cell_type": "markdown",
   "metadata": {},
   "source": [
    "## ID matching file"
   ]
  },
  {
   "cell_type": "code",
   "execution_count": null,
   "metadata": {},
   "outputs": [],
   "source": [
    "id_df <- read_csv(\"phenotypes/id_match_file.csv\", col_types=cols()) %>%\n",
    "    mutate(mesa_id = as.integer(Cohort_Specific_Id)) %>%\n",
    "    filter(is.na(Exclusion_Reason)) %>%\n",
    "    select(mesa_id, NWD_ID=NWD_Id, TOM_ID=TOM_Id)\n",
    "head(id_df, 3)"
   ]
  },
  {
   "cell_type": "code",
   "execution_count": null,
   "metadata": {},
   "outputs": [],
   "source": [
    "genos <- readRDS(\"genotypes/analysis_genotypes.rds\")\n",
    "head(genos, 3)"
   ]
  },
  {
   "cell_type": "markdown",
   "metadata": {},
   "source": [
    "# Create primary analysis dataset"
   ]
  },
  {
   "cell_type": "markdown",
   "metadata": {},
   "source": [
    "## Merge phenotype and genotype datasets"
   ]
  },
  {
   "cell_type": "code",
   "execution_count": null,
   "metadata": {},
   "outputs": [],
   "source": [
    "dim(basic_info_df)\n",
    "dim(basic_pheno_df)\n",
    "dim(primary_pheno_df)\n",
    "dim(covariate_df)\n",
    "dim(nmr_df)\n",
    "dim(gPC_df)\n",
    "dim(ancestry_prop_df)\n",
    "dim(genos)\n",
    "dim(id_df)"
   ]
  },
  {
   "cell_type": "code",
   "execution_count": null,
   "metadata": {},
   "outputs": [],
   "source": [
    "# Full dataset without subsetting to LC/MS subgroup\n",
    "analysis_df <- basic_info_df %>%\n",
    "    inner_join(basic_pheno_df, by=\"mesa_id\") %>%\n",
    "    inner_join(primary_pheno_df, by=\"mesa_id\") %>%\n",
    "    inner_join(covariate_df, by=\"mesa_id\") %>%\n",
    "    inner_join(nmr_df, by=\"mesa_id\") %>%\n",
    "    inner_join(nmr_lp3_df, by=\"mesa_id\") %>%\n",
    "    inner_join(gPC_df, by=\"mesa_id\") %>%\n",
    "    inner_join(genos, by=\"NWD_ID\") %>%\n",
    "    left_join(id_df, by=c(\"mesa_id\", \"NWD_ID\"))  # Adds TOM_ID"
   ]
  },
  {
   "cell_type": "code",
   "execution_count": null,
   "metadata": {},
   "outputs": [],
   "source": [
    "str(analysis_df)"
   ]
  },
  {
   "cell_type": "code",
   "execution_count": null,
   "metadata": {},
   "outputs": [],
   "source": [
    "summarize_continuous <- function(x) {\n",
    "  m <- round(mean(x, na.rm=TRUE), 1)\n",
    "  s <- round(sd(x, na.rm=TRUE), 1)\n",
    "  paste0(m, \" (\", s, \")\")\n",
    "}\n",
    "\n",
    "pop_description_tbl <- analysis_df %>%\n",
    "    rename(Race=race) %>%\n",
    "  group_by(Race) %>%\n",
    "  summarise(\n",
    "    N = n(),\n",
    "    Gender = paste(round(sum(gender_f0m1 == 0) / n() * 100, 1), \"% female\"),\n",
    "    Age = summarize_continuous(age),\n",
    "    BMI = summarize_continuous(bmi),\n",
    "    `Intentional PA` = paste0(round(sum(pa_bin == 1, na.rm=TRUE) / n() * 100, 1), \"%\"),\n",
    "    `Smoking (current)` = paste0(round(sum(smoking == \"CURRENT\", na.rm=TRUE) / n() * 100, 1), \"%\"),\n",
    "    `Smoking (former)` = paste0(round(sum(smoking == \"FORMER\", na.rm=TRUE) / n() * 100, 1), \"%\"),\n",
    "    `PCA-based measure of SES` = summarize_continuous(ses_score),\n",
    "    \n",
    "  ) %>%\n",
    "  arrange(desc(N))\n",
    "\n",
    "pop_description_tbl %>% t()"
   ]
  },
  {
   "cell_type": "markdown",
   "metadata": {},
   "source": [
    "## Distributions"
   ]
  },
  {
   "cell_type": "code",
   "execution_count": null,
   "metadata": {},
   "outputs": [],
   "source": [
    "plot_continuous <- function(cont_var) {\n",
    "    analysis_df %>%\n",
    "    filter(!is.na(!!sym(cont_var))) %>%\n",
    "    ggplot(aes_string(x=cont_var)) +\n",
    "    geom_histogram(bins=30) +\n",
    "    labs(title=cont_var)\n",
    "}\n",
    "\n",
    "plot_categorical <- function(cat_var) {\n",
    "    ggplot(analysis_df, aes(x=factor(!!sym(cat_var)))) +\n",
    "    geom_bar(stat=\"count\") +\n",
    "    labs(title=cat_var) +\n",
    "    theme(axis.text.x=element_text(angle=30, hjust=0.9))\n",
    "}\n",
    "\n",
    "options(repr.plot.width=12, repr.plot.height=5)"
   ]
  },
  {
   "cell_type": "code",
   "execution_count": null,
   "metadata": {},
   "outputs": [],
   "source": [
    "# Basic biological variables\n",
    "age_plt <- plot_continuous(\"age\")\n",
    "gender_plt <- plot_categorical(\"gender_f0m1\")\n",
    "bmi_plt <- plot_continuous(\"bmi\")\n",
    "age_plt + gender_plt + bmi_plt\n",
    "\n",
    "race_plt <- plot_categorical(\"race\")\n",
    "race_plt"
   ]
  },
  {
   "cell_type": "code",
   "execution_count": null,
   "metadata": {},
   "outputs": [],
   "source": [
    "# Outcomes\n",
    "hdl_plt <- plot_continuous(\"hdl\")\n",
    "hdl_log_plt <- plot_continuous(\"hdl_log\")\n",
    "hdl_plt + hdl_log_plt\n",
    "\n",
    "hdl_p_plt <- plot_continuous(\"HDL_P\")\n",
    "m_hdl_p_plt <- plot_continuous(\"M_HDL_P\")\n",
    "l_hdl_p_plt <- plot_continuous(\"L_HDL_P\")\n",
    "hdl_p_plt + m_hdl_p_plt + l_hdl_p_plt"
   ]
  },
  {
   "cell_type": "code",
   "execution_count": null,
   "metadata": {},
   "outputs": [],
   "source": [
    "# Exposures\n",
    "pa_plt <- plot_continuous(\"pa\")\n",
    "pa_bin_plt <- plot_categorical(\"pa_bin\")\n",
    "pa_plt + pa_bin_plt\n",
    "\n",
    "mvpa_plt <- plot_continuous(\"mvpa\")\n",
    "mod_pa_plt <- plot_continuous(\"mod_pa\")\n",
    "vig_pa_plt <- plot_continuous(\"vig_pa\")\n",
    "mvpa_plt + mod_pa_plt + vig_pa_plt"
   ]
  },
  {
   "cell_type": "code",
   "execution_count": null,
   "metadata": {},
   "outputs": [],
   "source": [
    "analysis_df %>%\n",
    "    filter(!is.na(vig_pa)) %>%\n",
    "    ggplot(aes(x=vig_pa, group=gender_f0m1, fill=factor(gender_f0m1))) +\n",
    "#     geom_density() +\n",
    "geom_histogram(bins=100) +\n",
    "    labs(title=\"vig_pa by gender\") +\n",
    "coord_cartesian(ylim=c(0, 200))"
   ]
  },
  {
   "cell_type": "code",
   "execution_count": null,
   "metadata": {},
   "outputs": [],
   "source": [
    "# Covariates\n",
    "ses_plt <- plot_continuous(\"ses_score\")\n",
    "income_plt <- plot_categorical(\"income_cat\")\n",
    "ses_plt + income_plt\n",
    "\n",
    "alc_plt <- plot_continuous(\"drinks_per_week\")\n",
    "smk_plt <- plot_categorical(\"smoking\")\n",
    "alc_plt + smk_plt\n",
    "\n",
    "ahei_plt <- plot_continuous(\"ahei_score\")\n",
    "dash_plt <- plot_continuous(\"dash_score\")\n",
    "ahei_plt + dash_plt"
   ]
  },
  {
   "cell_type": "code",
   "execution_count": null,
   "metadata": {},
   "outputs": [],
   "source": [
    "# Batch variables\n",
    "site_plt <- plot_categorical(\"site\")\n",
    "month_plt <- plot_categorical(\"month\") + theme(axis.text.x=element_text(angle=30, hjust=0.9))\n",
    "season_plt <- plot_categorical(\"season\")\n",
    "site_plt + month_plt + season_plt"
   ]
  },
  {
   "cell_type": "code",
   "execution_count": null,
   "metadata": {},
   "outputs": [],
   "source": [
    "missingness_vars <- c(\n",
    "    \"age\", \"gender_f0m1\", \"bmi\", \"race\",\n",
    "    \"hdl_log\",\n",
    "    \"pa\",\n",
    "    \"ses_score\", \"income_cat\",\n",
    "    \"drinks_per_week\", \"smoking\", \"ahei_score\", \"dash_score\",\n",
    "    \"site\", \"month\", \"season\"\n",
    ")\n",
    "analysis_df %>%\n",
    "    select(all_of(missingness_vars)) %>%\n",
    "    mutate(across(everything(), is.na)) %>%\n",
    "    summarise(across(everything(), sum))"
   ]
  },
  {
   "cell_type": "markdown",
   "metadata": {},
   "source": [
    "## Additional phenotype preprocessing"
   ]
  },
  {
   "cell_type": "markdown",
   "metadata": {},
   "source": [
    "We will include a few more preprocessing steps to prepare the data for analysis.\n",
    "\n",
    "* ___ of continuous PA variables to reduce the extreme skewness\n",
    "* Imputation of covariate values to retain sample size, using:\n",
    "    - Median value for continuous variables\n",
    "    - \"Missing\" indicator for categorical income\n",
    "    - \"Never\" for smoking"
   ]
  },
  {
   "cell_type": "code",
   "execution_count": null,
   "metadata": {},
   "outputs": [],
   "source": [
    "analysis_df <- analysis_df %>%\n",
    "  mutate(income_cat = ifelse(is.na(income_cat), \"Missing\", income_cat),  # Add missing indicators to SES & HL covariates rather than drop them\n",
    "         smoking = ifelse(is.na(smoking), \"NEVER\", smoking),\n",
    "         across(all_of(c(\"ses_score\", \"drinks_per_week\", \"ahei_score\", \"dash_score\")), \n",
    "                ~ ifelse(is.na(.), median(., na.rm = TRUE), .)))"
   ]
  },
  {
   "cell_type": "markdown",
   "metadata": {},
   "source": [
    "# Incorporate LC/MS metabolomics"
   ]
  },
  {
   "cell_type": "markdown",
   "metadata": {},
   "source": [
    "## Preprocessed and QCed MESA metabolomics data"
   ]
  },
  {
   "cell_type": "code",
   "execution_count": null,
   "metadata": {},
   "outputs": [],
   "source": [
    "system(paste0(\"gsutil cp -R \", ws_bucket, \"/QCd .\"))"
   ]
  },
  {
   "cell_type": "code",
   "execution_count": null,
   "metadata": {},
   "outputs": [],
   "source": [
    "mesa_metab_files <- c(\n",
    "    an = \"an_MESA_QCd_l2.csv\", \n",
    "    cp = \"cp_MESA_QCd_l2.csv\", \n",
    "    hp = \"hp_MESA_QCd_l2.csv\"\n",
    "#     proteo = \"proteo_MESA_QCd_l2.csv\"\n",
    ")\n",
    "mesa_metab_mat_list <- lapply(mesa_metab_files, function(f) {\n",
    "    tmp_df <- read_csv(paste0(\"QCd/l2/\", f), col_types=cols())\n",
    "    metab_names <- tmp_df[[1]]  # First column are metabolite names\n",
    "    metab_mat <- as.matrix(t(tmp_df[, -1]))\n",
    "    colnames(metab_mat) <- metab_names\n",
    "    metab_mat\n",
    "})\n",
    "\n",
    "metabolite_types <- lapply(mesa_metab_mat_list, function(df) {\n",
    "    tibble(metabolite = colnames(df))\n",
    "}) %>%\n",
    "    bind_rows(.id=\"type\")"
   ]
  },
  {
   "cell_type": "markdown",
   "metadata": {},
   "source": [
    "## Merge and align primary and metabolomics datasets"
   ]
  },
  {
   "cell_type": "code",
   "execution_count": null,
   "metadata": {},
   "outputs": [],
   "source": [
    "common_samples <- Reduce(intersect, lapply(mesa_metab_mat_list, rownames))\n",
    "\n",
    "mesa_metab_mat <- do.call(cbind, lapply(mesa_metab_mat_list, function(mat) mat[common_samples, ]))\n",
    "mesa_metab_mat <- mesa_metab_mat[rownames(mesa_metab_mat) %in% analysis_df$TOM_ID, ]\n",
    "                                        \n",
    "mesa_metabs <- colnames(mesa_metab_mat)                          "
   ]
  },
  {
   "cell_type": "code",
   "execution_count": null,
   "metadata": {},
   "outputs": [],
   "source": [
    "analysis_df_lcms <- analysis_df[match(rownames(mesa_metab_mat), \n",
    "                                      analysis_df$TOM_ID), ]\n",
    "\n",
    "dim(analysis_df_lcms)"
   ]
  },
  {
   "cell_type": "markdown",
   "metadata": {},
   "source": [
    "## PCA"
   ]
  },
  {
   "cell_type": "code",
   "execution_count": null,
   "metadata": {},
   "outputs": [],
   "source": [
    "pc_res <- prcomp(mesa_metab_mat, center=TRUE, scale=TRUE)\n",
    "pc_df <- as_tibble(pc_res$x, rownames=\"TOM_ID\") %>%\n",
    "    select(1:21) %>%\n",
    "    rename_with(~paste0(\"m\", .), -TOM_ID)"
   ]
  },
  {
   "cell_type": "code",
   "execution_count": null,
   "metadata": {},
   "outputs": [],
   "source": [
    "options(repr.plot.width=8, repr.plot.height=6)\n",
    "\n",
    "screeplot(pc_res, npcs=20, main=\"Metabolite PCA Scree plot\")"
   ]
  },
  {
   "cell_type": "markdown",
   "metadata": {},
   "source": [
    "## PEER factors"
   ]
  },
  {
   "cell_type": "code",
   "execution_count": null,
   "metadata": {},
   "outputs": [],
   "source": [
    "# system(paste0(\n",
    "#     \"conda config --add channels bioconda &&\",\n",
    "#     \"conda install r-peer\"\n",
    "# ))\n",
    "\n",
    "# system(\"wget https://github.com/downloads/PMBio/peer/R_peer_source_1.3.tgz\", intern=T)\n",
    "# system(\"R CMD INSTALL R_peer_source_1.3.tgz\")"
   ]
  },
  {
   "cell_type": "code",
   "execution_count": null,
   "metadata": {},
   "outputs": [],
   "source": [
    "# Chunk: create PEER factors"
   ]
  },
  {
   "cell_type": "code",
   "execution_count": null,
   "metadata": {},
   "outputs": [],
   "source": [
    "# Chunk: compare PEER factors to PCs"
   ]
  },
  {
   "cell_type": "markdown",
   "metadata": {},
   "source": [
    "## Add metabolomic summary variables to analysis dataset"
   ]
  },
  {
   "cell_type": "code",
   "execution_count": null,
   "metadata": {},
   "outputs": [],
   "source": [
    "analysis_df_lcms <- analysis_df_lcms %>%\n",
    "    left_join(pc_df, by=\"TOM_ID\")"
   ]
  },
  {
   "cell_type": "markdown",
   "metadata": {},
   "source": [
    "# Covariate associations with metabolomic PCs"
   ]
  },
  {
   "cell_type": "code",
   "execution_count": null,
   "metadata": {},
   "outputs": [],
   "source": [
    "race_plt <- bind_cols(analysis_df_lcms, pc_res$x[, 1:5]) %>%\n",
    "    ggplot(aes(x=PC1, y=PC2)) +\n",
    "    geom_point(aes(color=race), alpha=0.5)\n",
    "\n",
    "site_plt <- bind_cols(analysis_df_lcms, pc_res$x[, 1:5]) %>%\n",
    "    ggplot(aes(x=PC1, y=PC2)) +\n",
    "    geom_point(aes(color=site), alpha=0.5)\n",
    "\n",
    "gender_plt <- bind_cols(analysis_df_lcms, pc_res$x[, 1:5]) %>%\n",
    "    ggplot(aes(x=PC1, y=PC2)) +\n",
    "    geom_point(aes(color=gender1), alpha=0.5)\n",
    "\n",
    "options(repr.plot.width=12, repr.plot.height=3)\n",
    "\n",
    "race_plt + site_plt + gender_plt"
   ]
  },
  {
   "cell_type": "code",
   "execution_count": null,
   "metadata": {},
   "outputs": [],
   "source": [
    "cont_vars <- c(\"age\", \"bmi\", \n",
    "#                paste0(\"prop_\", ancestry_prop_fields), \n",
    "               paste0(\"gPC\", 1:11))\n",
    "bin_vars <- c(\"smoking\", \"gender_f0m1\")\n",
    "cat_vars <- c(\"race\", \"site\", \"season\", \"month\")\n",
    "\n",
    "pc_test <- function(pc_var, covariate) {\n",
    "    lm_res <- lm(pc_res$x[, pc_var] ~ analysis_df_lcms[[covariate]])\n",
    "    model_p <- anova(lm_res)[1, 5]\n",
    "    model_p\n",
    "}\n",
    "\n",
    "pc_test_res <- expand_grid(\n",
    "    pc = paste0(\"PC\", 1:20),\n",
    "    covar = c(cont_vars, bin_vars, cat_vars)\n",
    ") %>%\n",
    "    rowwise() %>%\n",
    "    mutate(p = pc_test(pc, covar))"
   ]
  },
  {
   "cell_type": "code",
   "execution_count": null,
   "metadata": {},
   "outputs": [],
   "source": [
    "pc_test_plt_df <- pc_test_res %>%\n",
    "    mutate(nlp = -log10(p),\n",
    "           sig = ifelse(p < 0.05, \"*\", \"\"),\n",
    "           pc = factor(pc, levels=paste0(\"PC\", 1:20)))\n",
    "\n",
    "options(repr.plot.width=12, repr.plot.height=6)\n",
    "\n",
    "pc_test_plt_df %>%\n",
    "    ggplot(aes(x=pc, y=covar, fill=nlp)) +\n",
    "    geom_tile() +\n",
    "    geom_text(aes(label=sig), color=\"white\") +\n",
    "    scale_fill_continuous(name=expression(-log[10] * \"(p)\")) +\n",
    "    scale_size_area(max_size=1.5) +\n",
    "    labs(title=\"Covariate-mPC association p-values\")\n",
    "\n",
    "pc_test_plt_df %>%\n",
    "    mutate(nlp=pmin(nlp, 10)) %>%\n",
    "    ggplot(aes(x=pc, y=covar, fill=nlp)) +\n",
    "    geom_tile() +\n",
    "    geom_text(aes(label=sig), color=\"white\") +\n",
    "    scale_fill_continuous(name=expression(-log[10] * \"(p)\")) +\n",
    "    scale_size_area(max_size=1.5) +\n",
    "    labs(title=\"Covariate-mPC association p-values (capped below p<1e-10)\")"
   ]
  },
  {
   "cell_type": "markdown",
   "metadata": {},
   "source": [
    "# Assessment of the SNPs and exposures of interest"
   ]
  },
  {
   "cell_type": "code",
   "execution_count": null,
   "metadata": {},
   "outputs": [],
   "source": [
    "snp_info_df <- read_csv(\"genotypes/snp_info.csv\", col_types=cols())\n",
    "exposures <- c(\"pa_bin\")"
   ]
  },
  {
   "cell_type": "markdown",
   "metadata": {},
   "source": [
    "## Univariate SNP-mPC and exposure-mPC associations"
   ]
  },
  {
   "cell_type": "code",
   "execution_count": null,
   "metadata": {},
   "outputs": [],
   "source": [
    "snp_mPC_assoc_df <- lapply(snp_info_df$rsID, function(rsID) {\n",
    "    g_dominant <- analysis_df_lcms[[rsID]] > 0\n",
    "    form_str <- paste0(\"g_dominant ~ \", paste0(\"mPC\", 1:20, collapse=\" + \"))\n",
    "    glm(as.formula(form_str), data=analysis_df_lcms, family=\"binomial\") %>%\n",
    "        broom::tidy()\n",
    "}) %>%\n",
    "    setNames(snp_info_df$rsID) %>%\n",
    "    bind_rows(.id=\"snp\")\n",
    "\n",
    "exp_mPC_assoc_df <- lapply(exposures, function(e) {\n",
    "    e <- analysis_df_lcms[[e]]\n",
    "    form_str <- paste0(\"e ~ \", paste0(\"mPC\", 1:20, collapse=\" + \"))\n",
    "    glm(as.formula(form_str), data=analysis_df_lcms, family=\"binomial\") %>%\n",
    "        broom::tidy()\n",
    "}) %>%\n",
    "    setNames(exposures) %>%\n",
    "    bind_rows(.id=\"exposure\")"
   ]
  },
  {
   "cell_type": "code",
   "execution_count": null,
   "metadata": {},
   "outputs": [],
   "source": [
    "options(repr.plot.width=12, repr.plot.height=3)\n",
    "\n",
    "snp_mPC_assoc_df %>%\n",
    "    filter(term != \"(Intercept)\") %>%\n",
    "    mutate(nlp = -log10(p.value),\n",
    "           term = factor(term, levels=paste0(\"mPC\", 1:20))) %>%\n",
    "    ggplot(aes(x=term, y=snp, fill=nlp)) +\n",
    "    geom_tile() +\n",
    "    scale_fill_continuous(name=expression(-log[10] * \"(p)\"))\n",
    "\n",
    "exp_mPC_assoc_df %>%\n",
    "    filter(term != \"(Intercept)\") %>%\n",
    "    mutate(nlp = -log10(p.value),\n",
    "           term = factor(term, levels=paste0(\"mPC\", 1:20))) %>%\n",
    "    ggplot(aes(x=term, y=exposure, fill=nlp)) +\n",
    "    geom_tile() +\n",
    "    scale_fill_continuous(name=expression(-log[10] * \"(p)\"))"
   ]
  },
  {
   "cell_type": "markdown",
   "metadata": {},
   "source": [
    "## Incorporation of technical covariates"
   ]
  },
  {
   "cell_type": "code",
   "execution_count": null,
   "metadata": {},
   "outputs": [],
   "source": [
    "technical_covar_sets <- list(\n",
    "    none = \"\",\n",
    "    add_site = c(\"gender_f0m1\", \"age\", \"site\")\n",
    ")\n",
    "\n",
    "test_univariate <- function(y, x, covar_vec) {\n",
    "    form_str <- paste0(y, \" ~ \", x)\n",
    "    if (!identical(covar_vec, \"\")) {\n",
    "        form_str <- paste0(form_str, \" + \", paste(covar_vec, collapse=\" + \"))\n",
    "    }\n",
    "    lm(as.formula(form_str), data=analysis_df_lcms) %>%\n",
    "        broom::tidy() %>%\n",
    "        filter(term == x)\n",
    "}"
   ]
  },
  {
   "cell_type": "code",
   "execution_count": null,
   "metadata": {},
   "outputs": [],
   "source": [
    "snp_mPC_technical_covar_assoc_df <- expand_grid(\n",
    "    snp = snp_info_df$rsID,\n",
    "    mPC = paste0(\"mPC\", 1:3),\n",
    "    covar_set = names(technical_covar_sets) \n",
    ") %>%\n",
    "    rowwise() %>%\n",
    "    mutate(lm_res = list(test_univariate(mPC, snp, technical_covar_sets[[covar_set]]))) %>%\n",
    "    unnest(lm_res)\n",
    "\n",
    "exp_mPC_technical_covar_assoc_df <- expand_grid(\n",
    "    e = exposures,\n",
    "    mPC = paste0(\"mPC\", 1:3),\n",
    "    covar_set = names(technical_covar_sets) \n",
    ") %>%\n",
    "    rowwise() %>%\n",
    "    mutate(lm_res = list(test_univariate(mPC, e, technical_covar_sets[[covar_set]]))) %>%\n",
    "    unnest(lm_res)"
   ]
  },
  {
   "cell_type": "code",
   "execution_count": null,
   "metadata": {},
   "outputs": [],
   "source": [
    "options(repr.plot.width=8, repr.plot.height=6)\n",
    "\n",
    "snp_mPC_technical_covar_assoc_df %>%\n",
    "    mutate(l95 = estimate - 1.96 * std.error,\n",
    "           u95 = estimate + 1.96 * std.error,\n",
    "           covar_set = factor(covar_set, levels=names(technical_covar_sets))) %>%\n",
    "    ggplot(aes(x=snp, y=estimate, color=covar_set)) +\n",
    "    geom_point(position=position_dodge(width=0.2)) +\n",
    "    geom_errorbar(aes(ymin=l95, ymax=u95), \n",
    "                  position=position_dodge(width=0.2), width=0.1) +\n",
    "    geom_hline(yintercept=0, color=\"gray\") +\n",
    "    facet_wrap(~mPC, ncol=1, scales=\"free\")\n",
    "\n",
    "exp_mPC_technical_covar_assoc_df %>%\n",
    "    mutate(l95 = estimate - 1.96 * std.error,\n",
    "           u95 = estimate + 1.96 * std.error,\n",
    "           covar_set = factor(covar_set, levels=names(technical_covar_sets))) %>%\n",
    "    ggplot(aes(x=e, y=estimate, color=covar_set)) +\n",
    "    geom_point(position=position_dodge(width=0.2)) +\n",
    "    geom_errorbar(aes(ymin=l95, ymax=u95), \n",
    "                  position=position_dodge(width=0.2), width=0.1) +\n",
    "    geom_hline(yintercept=0, color=\"gray\") +\n",
    "    facet_wrap(~mPC, ncol=1, scales=\"free\")"
   ]
  },
  {
   "cell_type": "markdown",
   "metadata": {},
   "source": [
    "## Incorporation of biological covariates"
   ]
  },
  {
   "cell_type": "code",
   "execution_count": null,
   "metadata": {},
   "outputs": [],
   "source": [
    "biological_covar_sets <- list(\n",
    "    basic = \"site\",\n",
    "    add_gender_age = c(\"site\", \"gender_f0m1\", \"age\"),\n",
    "    add_gender_age_race = c(\"site\", \"gender_f0m1\", \"age\", \"race\"),\n",
    "    add_gender_age_ses = c(\"site\", \"gender_f0m1\", \"age\", \"ses_score\", \"income_cat\"),\n",
    "    add_gender_age_ses_HL = c(\"site\", \"gender_f0m1\", \"age\", \"ses_score\", \"income_cat\", \n",
    "                              \"drinks_per_week\", \"smoking\", \"ahei_score\", \"dash_score\"),\n",
    "    add_gender_age_gPC = c(\"gender_f0m1\", \"age\", paste0(\"gPC\", 1:5)),\n",
    "    add_gender_age_race_gPC = c(\"site\", \"gender_f0m1\", \"age\", \"race\", paste0(\"gPC\", 1:5))\n",
    ")"
   ]
  },
  {
   "cell_type": "code",
   "execution_count": null,
   "metadata": {},
   "outputs": [],
   "source": [
    "snp_mPC_biological_covar_assoc_df <- expand_grid(\n",
    "    snp = snp_info_df$rsID,\n",
    "    mPC = paste0(\"mPC\", 1:3),\n",
    "    covar_set = names(biological_covar_sets) \n",
    ") %>%\n",
    "    rowwise() %>%\n",
    "    mutate(lm_res = list(test_univariate(snp, mPC, biological_covar_sets[[covar_set]]))) %>%\n",
    "    unnest(lm_res)\n",
    "\n",
    "exp_mPC_biological_covar_assoc_df <- expand_grid(\n",
    "    e = exposures,\n",
    "    mPC = paste0(\"mPC\", 1:3),\n",
    "    covar_set = names(biological_covar_sets) \n",
    ") %>%\n",
    "    rowwise() %>%\n",
    "    mutate(lm_res = list(test_univariate(e, mPC, biological_covar_sets[[covar_set]]))) %>%\n",
    "    unnest(lm_res)"
   ]
  },
  {
   "cell_type": "code",
   "execution_count": null,
   "metadata": {},
   "outputs": [],
   "source": [
    "options(repr.plot.width=12, repr.plot.height=6)\n",
    "\n",
    "snp_mPC_biological_covar_assoc_df %>%\n",
    "    mutate(l95 = estimate - 1.96 * std.error,\n",
    "           u95 = estimate + 1.96 * std.error,\n",
    "           covar_set = factor(covar_set, levels=names(biological_covar_sets))) %>%\n",
    "    ggplot(aes(x=snp, y=estimate, color=covar_set)) +\n",
    "    geom_point(position=position_dodge(width=0.2)) +\n",
    "    geom_errorbar(aes(ymin=l95, ymax=u95), \n",
    "                  position=position_dodge(width=0.2), width=0.1) +\n",
    "    geom_hline(yintercept=0, color=\"gray\") +\n",
    "    facet_wrap(~mPC, ncol=1, scales=\"free\")\n",
    "\n",
    "exp_mPC_biological_covar_assoc_df %>%\n",
    "    mutate(l95 = estimate - 1.96 * std.error,\n",
    "           u95 = estimate + 1.96 * std.error,\n",
    "           covar_set = factor(covar_set, levels=names(biological_covar_sets))) %>%\n",
    "    ggplot(aes(x=e, y=estimate, color=covar_set)) +\n",
    "    geom_point(position=position_dodge(width=0.2)) +\n",
    "    geom_errorbar(aes(ymin=l95, ymax=u95), \n",
    "                  position=position_dodge(width=0.2), width=0.1) +\n",
    "    geom_hline(yintercept=0, color=\"gray\") +\n",
    "    facet_wrap(~mPC, ncol=1, scales=\"free\")"
   ]
  },
  {
   "cell_type": "markdown",
   "metadata": {},
   "source": [
    "# Conclusions"
   ]
  },
  {
   "cell_type": "markdown",
   "metadata": {},
   "source": [
    "* The most important covariates affecting top PCs are study site and race (highly correlated) as well as gender\n",
    "* It appears that most of the high-level metabolite associations can be captured with about 9 metabolite PCs (for both genotypes and exposures) \n",
    "* So, we want to adjust for PEER factors, and we are OK knowing that they are representing expected variables."
   ]
  },
  {
   "cell_type": "markdown",
   "metadata": {},
   "source": [
    "# Export final datasets for analysis"
   ]
  },
  {
   "cell_type": "code",
   "execution_count": null,
   "metadata": {},
   "outputs": [],
   "source": [
    "write_csv(analysis_df, \"analysis/analysis_df.csv\")  # All individuals\n",
    "write_csv(analysis_df_lcms, \"analysis/analysis_df_lcms.csv\")  # Matched to the LC/MS dataset\n",
    "saveRDS(mesa_metab_mat, \"metabolites/lcms_metabolites.rds\")\n",
    "system(paste0(\"gsutil cp -R phenotypes analysis metabolites \", ws_bucket, \"/\"))"
   ]
  }
 ],
 "metadata": {
  "kernelspec": {
   "display_name": "R",
   "language": "R",
   "name": "ir"
  },
  "language_info": {
   "codemirror_mode": "r",
   "file_extension": ".r",
   "mimetype": "text/x-r-source",
   "name": "R",
   "pygments_lexer": "r",
   "version": "4.3.0"
  },
  "toc": {
   "base_numbering": 1,
   "nav_menu": {},
   "number_sections": true,
   "sideBar": true,
   "skip_h1_title": false,
   "title_cell": "Table of Contents",
   "title_sidebar": "Contents",
   "toc_cell": false,
   "toc_position": {},
   "toc_section_display": true,
   "toc_window_display": false
  }
 },
 "nbformat": 4,
 "nbformat_minor": 2
}
