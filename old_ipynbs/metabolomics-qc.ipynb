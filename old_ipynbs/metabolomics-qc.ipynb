{
 "cells": [
  {
   "cell_type": "markdown",
   "metadata": {},
   "source": [
    "# Setup"
   ]
  },
  {
   "cell_type": "markdown",
   "metadata": {},
   "source": [
    "## Libs"
   ]
  },
  {
   "cell_type": "code",
   "execution_count": null,
   "metadata": {},
   "outputs": [],
   "source": [
    "library(data.table)\n",
    "if(!require(GGally)) install.packages(\"GGally\");           library(\"GGally\")\n",
    "BiocManager::install(\"limma\");                             library(\"limma\")\n",
    "if(!require(matrixStats)) install.packages(\"matrixStats\"); library(\"matrixStats\")\n",
    "if(!require(ggplot2)) install.packages(\"ggplot2\");         library(\"ggplot2\")\n",
    "\n",
    "options(stringsAsFactors=F)"
   ]
  },
  {
   "cell_type": "markdown",
   "metadata": {},
   "source": [
    "## Functions"
   ]
  },
  {
   "cell_type": "markdown",
   "metadata": {},
   "source": [
    "### T2\n",
    "Convenience function to transpose preserving dimnames"
   ]
  },
  {
   "cell_type": "code",
   "execution_count": null,
   "metadata": {},
   "outputs": [],
   "source": [
    "t2 <- function(x) {\n",
    "  rn <- rownames(x); cn <- colnames(x)\n",
    "  x <- t(x)\n",
    "  rownames(x) <- cn; colnames(x) <- rn\n",
    "  return(x)\n",
    "}"
   ]
  },
  {
   "cell_type": "markdown",
   "metadata": {},
   "source": [
    "### PCA Plot\n",
    "Limited to categorical variables for now"
   ]
  },
  {
   "cell_type": "code",
   "execution_count": null,
   "metadata": {},
   "outputs": [],
   "source": [
    "PCAPlot <- function(df, color_var, n_PC, title=\"\") {\n",
    "  pca <- prcomp(df, center=T, scale.=T)\n",
    "\n",
    "  var_explained <- scales::percent(summary(pca)$importance[2,], 0.1)\n",
    "  for(i in 1:n_PC) colnames(pca$x)[i] <- paste0(\"PC\",i,\" (\",var_explained[i],\")\")\n",
    "\n",
    "  ggpairs(data = data.frame(pca$x[,1:n_PC], check.names=F),\n",
    "          lower = list(continuous = wrap(\"points\", alpha=0.5, size=0.5, pch=1)),\n",
    "          diag  = list(continuous = wrap(\"densityDiag\", alpha=0.5)),\n",
    "          #upper= list(continuous = wrap(\"cor\"),\n",
    "          axisLabels = \"none\",\n",
    "          mapping = aes(color = color_var),\n",
    "          legend  = c(2,1) ) + labs(color=\"legend_title\") + ggtitle(title)\n",
    "}"
   ]
  },
  {
   "cell_type": "markdown",
   "metadata": {},
   "source": [
    "### Rm 0 variance"
   ]
  },
  {
   "cell_type": "code",
   "execution_count": null,
   "metadata": {},
   "outputs": [],
   "source": [
    "rm0VarRows <- function(df) {\n",
    "    rows2rm <- rowVars(df, na.rm=T) == 0\n",
    "    print(paste(sum(rows2rm),\"rows will be removed for 0 variance\"))\n",
    "    df[!rows2rm,]\n",
    "}"
   ]
  },
  {
   "cell_type": "markdown",
   "metadata": {},
   "source": [
    "### Missingness Removal TODO: add print statements (\"x # metabolites and y # of samples removed for high missingness\")\n",
    "Note that high-missingness rows (signatures) are removed first"
   ]
  },
  {
   "cell_type": "code",
   "execution_count": null,
   "metadata": {},
   "outputs": [],
   "source": [
    "rmHighMissingness <- function(df, thresh) {\n",
    "  rows2rm <- rowSums(is.na(df)) > thresh*ncol(df)\n",
    "  print(paste( sum(rows2rm),\"rows will be removed for >\",scales::percent(thresh),\"missingness\" ))\n",
    "  df <- df[!rows2rm,]\n",
    "\n",
    "  cols2rm <- colSums(is.na(df)) > thresh*nrow(df)\n",
    "  print(paste( sum(cols2rm),\"cols will be removed for >\",scales::percent(thresh),\"missingness\" ))\n",
    "  df <- df[,!cols2rm]\n",
    "}"
   ]
  },
  {
   "cell_type": "markdown",
   "metadata": {},
   "source": [
    "### Winsorization"
   ]
  },
  {
   "cell_type": "code",
   "execution_count": null,
   "metadata": {},
   "outputs": [],
   "source": [
    "winsorizeBySd <- function(df, n_sds) {\n",
    "  t2(apply(df,1, function(r) {\n",
    "    u <- mean(r) + sd(r)*n_sds\n",
    "    l <- mean(r) - sd(r)*n_sds\n",
    "    r <- sapply(r, function(x) {\n",
    "      if(x > u) {x <- u}\n",
    "      if(x < l) {x <- l}\n",
    "      else      {x}})}))\n",
    "}"
   ]
  },
  {
   "cell_type": "markdown",
   "metadata": {},
   "source": [
    "### Z-score"
   ]
  },
  {
   "cell_type": "code",
   "execution_count": null,
   "metadata": {},
   "outputs": [],
   "source": [
    "zScoreRows <- function(df) {\n",
    "    t2(apply(df,1, function(r) {\n",
    "        m <- mean(r)\n",
    "        s <- sd(r)\n",
    "        r <- sapply(r, function(x) (x-m)/s)\n",
    "}))}"
   ]
  },
  {
   "cell_type": "markdown",
   "metadata": {},
   "source": [
    "### Skew vs. Kurtosis Plot"
   ]
  },
  {
   "cell_type": "code",
   "execution_count": null,
   "metadata": {},
   "outputs": [],
   "source": [
    "plotSkewKurt <- function(df, title) {\n",
    "  n <- ncol(df)\n",
    "  ms <- rowMeans(df)\n",
    "  sds <- rowSds(df)\n",
    "  skews <- sapply(1:nrow(df), function(r) (sum((df[r,]-ms[r])^3)/sds[r]^3)/n   )\n",
    "  kurts <- sapply(1:nrow(df), function(r) (sum((df[r,]-ms[r])^4)/sds[r]^4)/n-3 )\n",
    "  sk <- data.frame(skews=skews, kurts=kurts)\n",
    "  \n",
    "  ggplot(sk, aes(x=skews, y=kurts)) +\n",
    "    geom_point(size=0.5) + ggtitle(title) +\n",
    "    geom_vline(xintercept = -0.5, linetype=\"dotted\", color=\"blue\", size=1) +\n",
    "    geom_vline(xintercept =  0.5, linetype=\"dotted\", color=\"blue\", size=1) + \n",
    "    geom_hline(yintercept = -2.0, linetype=\"dotted\", color=\"blue\", size=1) +\n",
    "    geom_hline(yintercept =  2.0, linetype=\"dotted\", color=\"blue\", size=1)\n",
    "}"
   ]
  },
  {
   "cell_type": "markdown",
   "metadata": {},
   "source": [
    "# Main"
   ]
  },
  {
   "cell_type": "markdown",
   "metadata": {},
   "source": [
    "## SET INPUT HERE"
   ]
  },
  {
   "cell_type": "markdown",
   "metadata": {},
   "source": [
    "### Import\n",
    "Note that the last 4 data files (amines_MESA, and proteo_\\[FHS,WHI,MESA\\]) will be handed differently, as they do not have batch information.\n",
    "Additionally, proteo_WHI already has log2 applied."
   ]
  },
  {
   "cell_type": "code",
   "execution_count": null,
   "metadata": {},
   "outputs": [],
   "source": [
    "data_files <- c(\"cp_FHS_clean.txt\", \"cn_FHS_clean.txt\", \"hp_FHS_clean.txt\", \"an_FHS_clean.txt\",\n",
    "                \"cp_WHI_clean.txt\", \"cn_WHI_clean.txt\", \"hp_WHI_clean.txt\", \"an_WHI_clean.txt\",\n",
    "                \"cp_MESA_clean.txt\",                    \"hp_MESA_clean.txt\",\"an_MESA_clean.txt\",\n",
    "                \"proteo_FHS_clean.txt\", \"proteo_WHI_clean.txt\", \"proteo_MESA_clean.txt\")\n",
    "dict_files <- c(\"met_info_v12.csv\", \"sample_info.csv\")\n",
    "filepaths <- c(paste0(\"gs://fc-secure-4b3e979d-ba8b-43c4-a5ec-b41ab42ce606/PH_files/cleaned/\", data_files),\n",
    "               paste0(\"gs://fc-secure-4b3e979d-ba8b-43c4-a5ec-b41ab42ce606/PH_files/\"        , dict_files))"
   ]
  },
  {
   "cell_type": "code",
   "execution_count": null,
   "metadata": {},
   "outputs": [],
   "source": [
    "sapply(filepaths, function(filepath) system(paste(\"gsutil cp\",filepath,\"./ 2>&1\")) )"
   ]
  },
  {
   "cell_type": "markdown",
   "metadata": {},
   "source": [
    "### Load"
   ]
  },
  {
   "cell_type": "code",
   "execution_count": null,
   "metadata": {},
   "outputs": [],
   "source": [
    "met_info <- fread(dict_files[1])\n",
    "sample_info <- fread(dict_files[2])\n",
    "\n",
    "batch_info_cols <- c(\"cp_FHS_batch\", \"cn_FHS_batch\", \"hp_FHS_batch\", \"an_FHS_batch\",\n",
    "                     \"cp_WHI_batch\", \"cn_WHI_batch\", \"hp_WHI_batch\", \"an_WHI_batch\",\n",
    "                     \"cp_MESA_batch\",                \"hp_MESA_batch\")"
   ]
  },
  {
   "cell_type": "code",
   "execution_count": null,
   "metadata": {},
   "outputs": [],
   "source": [
    "dfs <- lapply(data_files, function(filename) {\n",
    "    df <- as.matrix(fread(filename))\n",
    "    rownames(df) <- df[,\"sample_id\"]; df <- df[,-1]\n",
    "    mode(df) <- \"numeric\"\n",
    "    df <- t2(df)\n",
    "    \n",
    "    non_control <- colnames(df) %in% sample_info$sample_id[!sample_info$is_control]\n",
    "    if(sum(non_control)>0) df <- df[,non_control] # only non-control samples\n",
    "    \n",
    "    return(df)\n",
    "})\n",
    "\n",
    "df_labels <- c(\"cp_FHS\", \"cn_FHS\", \"hp_FHS\", \"an_FHS\",\n",
    "               \"cp_WHI\", \"cn_WHI\", \"hp_WHI\", \"an_WHI\",\n",
    "               \"cp_MESA\",          \"hp_MESA\",\"an_MESA\",\n",
    "               \"proteo_FHS\", \"proteo_WHI\", \"proteo_MESA\")\n",
    "names(dfs) <- df_labels\n",
    "\n",
    "# Don't worry about the \"NAs introduced by coercion\" warning (from `mode(df) <- \"numeric\"`).\n",
    "# It is just due to \"\" being converted to NA from string. Only MESA amines & WHI proteo are affected.\n",
    "# You may use the code below to verify this is what's happening.\n",
    "#lapply(dfs,function(df) sum(is.na(df)))\n",
    "#tmp <- as.numeric(dfs[[\"proteo_WHI\"]]); mode(tmp) <- \"numeric\"\n",
    "#dfs[[\"proteo_WHI\"]][is.na(tmp)] # Show what in proteo_WHI becomes NA when converting it to numeric"
   ]
  },
  {
   "cell_type": "code",
   "execution_count": null,
   "metadata": {},
   "outputs": [],
   "source": [
    "# Fixing data entry errors\n",
    "table(sample_info$hp_WHI_batch)\n",
    "# One sample was taken ~90 years in the future, and one ~90 years ago!\n",
    "# Joking aside, even if changed to what the enterer maybe meant, these samples are still alone in their batches. So omit.\n",
    "\n",
    "incorrect_TOM_ids <- sample_info$sample_id[sample_info$hp_WHI_batch %in% c(\"11/12/2109\",\"11/15/1929\") & !sample_info$is_control]\n",
    "print(incorrect_TOM_ids)\n",
    "\n",
    "incorrect_TOM_ids %in% colnames(dfs[[\"hp_WHI\"]]) # Confirm presence\n",
    "dfs[[\"hp_WHI\"]] <- dfs[[\"hp_WHI\"]][,which(colnames(dfs[[\"hp_WHI\"]]) != incorrect_TOM_ids)] # Remove\n",
    "incorrect_TOM_ids %in% colnames(dfs[[\"hp_WHI\"]]) # Confirm removal"
   ]
  },
  {
   "cell_type": "code",
   "execution_count": null,
   "metadata": {},
   "outputs": [],
   "source": [
    "# Previews\n",
    "head(met_info)\n",
    "lapply(dfs, function(df) df[1:5,1:5])"
   ]
  },
  {
   "cell_type": "code",
   "execution_count": null,
   "metadata": {},
   "outputs": [],
   "source": [
    "dfs[[\"an_WHI\"]]"
   ]
  },
  {
   "cell_type": "markdown",
   "metadata": {},
   "source": [
    "## QC\n",
    "1\\. Remove signatures w/ σ^2 = 0\\\n",
    "2\\. Remove signatures w/ >25% missingness\\\n",
    "3\\. Impute (half-min)\\\n",
    "4\\. Winsorize (to 5*σ)\\\n",
    "5a. Log2\\\n",
    "5b. Log2 and z-score\\\n",
    "5c. Inverse normal transform\\\n",
    "5d. ln\\\n",
    "5e. ln and z-score\\\n",
    "6abc. Adjust for batch"
   ]
  },
  {
   "cell_type": "code",
   "execution_count": null,
   "metadata": {},
   "outputs": [],
   "source": [
    "print(\"order of dfs:\"); print(names(dfs))\n",
    "\n",
    "tmp <- lapply(dfs, function(df) {\n",
    "    print(\"\")\n",
    "    \n",
    "    df <- rm0VarRows(df) # 1\n",
    "    df <- rmHighMissingness(df, 0.25) # 2\n",
    "    df <- t2(apply(df,1, function(r) { r[is.na(r)] <- min(r,na.rm=T)/2; r })) # 3\n",
    "    df <- winsorizeBySd(df, 5) # 4\n",
    "\n",
    "    df_l2 <- log2(df+1) # 5a\n",
    "    df_l2_z <- zScoreRows(log2(df+1)) # 5b\n",
    "    df_inv_norm <- t2(apply(df,1, function(r) qnorm( (rank(r)-0.5)/length(r) ) )) # 5c\n",
    "    df_ln <- log(df+1) # 5d\n",
    "    df_ln_z <- zScoreRows(log(df+1))\n",
    "\n",
    "    return(list(default=df, l2=df_l2, l2_z=df_l2_z, inv_norm=df_inv_norm, ln=df_ln, ln_z=df_ln_z))\n",
    "})\n",
    "\n",
    "# tmp is a list of QC transforms (l2, l2_z, etc.) per cohort. Rearrange to List of cohorts per transform. \n",
    "dfss <- list(default  = lapply(tmp, function(cohort) cohort[[\"default\" ]]),\n",
    "             l2       = lapply(tmp, function(cohort) cohort[[   \"l2\"   ]]),\n",
    "             l2_z     = lapply(tmp, function(cohort) cohort[[  \"l2_z\"  ]]),\n",
    "             inv_norm = lapply(tmp, function(cohort) cohort[[\"inv_norm\"]]),\n",
    "             ln       = lapply(tmp, function(cohort) cohort[[   \"ln\"   ]]),\n",
    "             ln_z     = lapply(tmp, function(cohort) cohort[[  \"ln_z\"  ]]))\n",
    "rm(tmp)"
   ]
  },
  {
   "cell_type": "code",
   "execution_count": null,
   "metadata": {},
   "outputs": [],
   "source": [
    "# Reason for the NaNs: there are a few negative values in amines FHS, WHI, and MESA (1,7,2 NaNs respectively).\n",
    "  # Except proteo_WHI, but that's already log'd so it's ok.\n",
    "lapply(dfs, function(df) sum(df[!is.na(df)]<0))\n",
    "lapply(dfs, function(df) df[!is.na(df) & df<0])"
   ]
  },
  {
   "cell_type": "code",
   "execution_count": null,
   "metadata": {},
   "outputs": [],
   "source": [
    "rm(dfs)"
   ]
  },
  {
   "cell_type": "code",
   "execution_count": null,
   "metadata": {},
   "outputs": [],
   "source": [
    "# Actually, the raw proteo_WHI was already log2'd, so:\n",
    "dfss[[   \"l2\"   ]][[\"proteo_WHI\"]] <- dfss[[\"default\"]][[\"proteo_WHI\"]]\n",
    "dfss[[  \"l2_z\"  ]][[\"proteo_WHI\"]] <- zScoreRows(dfss[[\"l2\"]][[\"proteo_WHI\"]])\n",
    "dfss[[\"default\" ]][[\"proteo_WHI\"]] <- NULL\n",
    "dfss[[\"inv_norm\"]][[\"proteo_WHI\"]] <- NULL\n",
    "dfss[[   \"ln\"   ]][[\"proteo_WHI\"]] <- NULL\n",
    "dfss[[  \"ln_z\"  ]][[\"proteo_WHI\"]] <- NULL"
   ]
  },
  {
   "cell_type": "code",
   "execution_count": null,
   "metadata": {},
   "outputs": [],
   "source": [
    "lapply(dfss, function(dfs) lapply(dfs, function(df) { print(dim(df)); df[1:5,1:5] })) # Inspect"
   ]
  },
  {
   "cell_type": "code",
   "execution_count": null,
   "metadata": {},
   "outputs": [],
   "source": [
    "# Only dfs 1-10 have  v batch info.\n",
    "batch_list <- lapply(1:10, function(i) {\n",
    "    df <- dfss[[\"default\"]][[i]]\n",
    "\n",
    "    batch <- sample_info[sample_id %in% colnames(df), sample_id, eval(batch_info_cols[i])]\n",
    "    batch <- batch[complete.cases(batch),]\n",
    "\n",
    "    # identical(batch$sample_id, colnames(df)) # == FALSE: samples are not in the same order at first!!\n",
    "\n",
    "    #batch <- batch[order(match(sample_id, colnames(df)))] # Reorder batch to match the order of samples in the main df\n",
    "    batch <- batch[match(colnames(df),sample_id),] # Reorder batch to match the order of samples in the main df\n",
    "    print( identical(colnames(df), batch$sample_id) ) # == TRUE\n",
    "    batch <- factor(unlist(batch[,1])) # Need only the dates column, as a vector\n",
    "})\n",
    "\n",
    "# Display\n",
    "names(batch_list) <- df_labels[1:10]\n",
    "lapply(batch_list,table)"
   ]
  },
  {
   "cell_type": "code",
   "execution_count": null,
   "metadata": {},
   "outputs": [],
   "source": [
    "# Comment/Uncomment the optional PCAPlot lines to inspect data before & after batch adjustment (takes a while to load)\n",
    "#for(i in seq_along(dfss)) { for(j in seq_along(dfss[[i]])) { print( PCAPlot(t2(dfss[[i]][[j]]), color_var=batch_list[[j]], n_PC=3, title=paste(df_labels[j],names(dfss)[i],\"BEFORE\")) )}}\n",
    "\n",
    "# Again only datasets 1:10 have batch  v info\n",
    "for(i in seq_along(dfss)) { for(j in 1:10) { removeBatchEffect(dfss[[i]][[j]], batch=batch_list[[j]]) }}\n",
    "\n",
    "#for(i in seq_along(dfss)) { for(j in seq_along(dfss[[i]])) { print( PCAPlot(t2(dfss[[i]][[j]]), color_var=batch_list[[j]], n_PC=3, title=paste(df_labels[j],names(dfss)[i],\"AFTER\")) )}}"
   ]
  },
  {
   "cell_type": "markdown",
   "metadata": {},
   "source": [
    "## Diagnostics"
   ]
  },
  {
   "cell_type": "markdown",
   "metadata": {},
   "source": [
    "### Overall distribution"
   ]
  },
  {
   "cell_type": "code",
   "execution_count": null,
   "metadata": {},
   "outputs": [],
   "source": [
    "for(i in seq_along(dfss     )) {\n",
    "for(j in seq_along(dfss[[i]])) {\n",
    "    hist(rowMeans(dfss[[i]][[j]]), main=paste(names(dfss[[i]])[j],names(dfss)[i],\": Distribution of signature medians\"))\n",
    "}}"
   ]
  },
  {
   "cell_type": "markdown",
   "metadata": {},
   "source": [
    "### Skew vs. Kurtosis"
   ]
  },
  {
   "cell_type": "code",
   "execution_count": null,
   "metadata": {},
   "outputs": [],
   "source": [
    "for(i in seq_along(dfss     )) {\n",
    "for(j in seq_along(dfss[[i]])) {\n",
    "    print( plotSkewKurt(dfss[[i]][[j]], title=paste(names(dfss[[i]])[j],names(dfss)[i])) )\n",
    "}}"
   ]
  },
  {
   "cell_type": "markdown",
   "metadata": {},
   "source": [
    "### Plot a random signature's measurements for each sample to make sure things look alright"
   ]
  },
  {
   "cell_type": "code",
   "execution_count": null,
   "metadata": {},
   "outputs": [],
   "source": [
    "length(dfss)"
   ]
  },
  {
   "cell_type": "code",
   "execution_count": null,
   "metadata": {},
   "outputs": [],
   "source": [
    "for(i in seq_along(dfss     )) {\n",
    "for(j in seq_along(dfss[[i]])) {\n",
    "    random_row <- trunc(runif(1, 1,nrow(dfss[[i]][[j]]+1)))\n",
    "    plot(dfss[[i]][[j]][random_row,], col=\"red\", main=rownames(dfss[[i]][[j]])[random_row])\n",
    "}}"
   ]
  },
  {
   "cell_type": "markdown",
   "metadata": {},
   "source": [
    "## Write to file"
   ]
  },
  {
   "cell_type": "code",
   "execution_count": null,
   "metadata": {},
   "outputs": [],
   "source": [
    "dir.create(file.path(paste0(\"QCd/\")), showWarnings=F)\n",
    "for(type in names(dfss)) { dir.create(file.path(paste0(\"QCd/\",type)), showWarnings=F) }\n",
    "\n",
    "for(i in seq_along(dfss)) {\n",
    "for(j in seq_along(dfss[[i]])) {\n",
    "    write.csv(dfss[[i]][[j]], paste0(\"QCd/\",names(dfss)[i],\"/\",names(dfss[[i]])[j],\"_QCd_\",names(dfss)[i],\".csv\"))\n",
    "}}"
   ]
  },
  {
   "cell_type": "code",
   "execution_count": null,
   "metadata": {},
   "outputs": [],
   "source": [
    "export_location <- paste0( Sys.getenv('WORKSPACE_BUCKET'), \"/PH_files\" )\n",
    "system(paste(\"gsutil cp -R QCd\", export_location))"
   ]
  }
 ],
 "metadata": {
  "kernelspec": {
   "display_name": "R",
   "language": "R",
   "name": "ir"
  },
  "language_info": {
   "codemirror_mode": "r",
   "file_extension": ".r",
   "mimetype": "text/x-r-source",
   "name": "R",
   "pygments_lexer": "r",
   "version": "4.3.0"
  },
  "toc": {
   "base_numbering": 1,
   "nav_menu": {},
   "number_sections": true,
   "sideBar": true,
   "skip_h1_title": false,
   "title_cell": "Table of Contents",
   "title_sidebar": "Contents",
   "toc_cell": false,
   "toc_position": {},
   "toc_section_display": true,
   "toc_window_display": false
  }
 },
 "nbformat": 4,
 "nbformat_minor": 2
}
