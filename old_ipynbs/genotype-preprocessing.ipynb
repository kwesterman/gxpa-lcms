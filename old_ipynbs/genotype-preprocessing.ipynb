{
 "cells": [
  {
   "cell_type": "markdown",
   "metadata": {},
   "source": [
    "# Preliminaries"
   ]
  },
  {
   "cell_type": "code",
   "execution_count": null,
   "metadata": {},
   "outputs": [],
   "source": [
    "library(tidyverse)\n",
    "library(reticulate)\n",
    "\n",
    "fapi <- import(\"firecloud.api\")\n",
    "tnu <- import(\"terra_notebook_utils\")\n",
    "\n",
    "ws_namespace <- Sys.getenv(\"WORKSPACE_NAMESPACE\")\n",
    "ws_name <- Sys.getenv(\"WORKSPACE_NAME\")\n",
    "ws_bucket <- Sys.getenv(\"WORKSPACE_BUCKET\")"
   ]
  },
  {
   "cell_type": "code",
   "execution_count": null,
   "metadata": {},
   "outputs": [],
   "source": [
    "# # Install bcftools\n",
    "# bcftools_install_cmds <- paste(\n",
    "#     \"wget https://github.com/samtools/bcftools/releases/download/1.15.1/bcftools-1.15.1.tar.bz2\",\n",
    "#     \"bzip2 -d bcftools-1.15.1.tar.bz2\",\n",
    "#     \"tar xvf bcftools-1.15.1.tar\",\n",
    "#     \"cd bcftools-1.15.1\",\n",
    "#     \"./configure\",\n",
    "#     \"make\",\n",
    "#     sep=\" && \"\n",
    "# )\n",
    "# system(bcftools_install_cmds)"
   ]
  },
  {
   "cell_type": "markdown",
   "metadata": {},
   "source": [
    "# Import and subset TOPMed genotype files"
   ]
  },
  {
   "cell_type": "markdown",
   "metadata": {},
   "source": [
    "## Basic info about the variants of interest"
   ]
  },
  {
   "cell_type": "code",
   "execution_count": null,
   "metadata": {},
   "outputs": [],
   "source": [
    "snp_info_df <- tribble(\n",
    "    ~CHR, ~POS, ~rsID,\n",
    "    2, 121657822, \"rs2862183\",\n",
    "    17, 36804493, \"rs295849\",\n",
    "    20, 33426108, \"rs141588480\",\n",
    "    7, 121864095, \"rs77810251\"\n",
    ")\n",
    "write_csv(snp_info_df, \"genotypes/snp_info.csv\")\n",
    "\n",
    "pilot_snps <- snp_info_df$rsID\n",
    "write(pilot_snps, \"genotypes/pilot_snps.txt\")\n",
    "\n",
    "# Region/locus file will be used in bcftools subsetting command\n",
    "snp_info_df %>%\n",
    "    mutate(CHR = paste0(\"chr\", CHR)) %>%\n",
    "    select(CHR, POS) %>%\n",
    "    write_tsv(\"genotypes/pilot_snp_regions.txt\", col_names=FALSE)"
   ]
  },
  {
   "cell_type": "markdown",
   "metadata": {},
   "source": [
    "## Import and subset TOPMed-wide VCF files"
   ]
  },
  {
   "cell_type": "code",
   "execution_count": null,
   "metadata": {},
   "outputs": [],
   "source": [
    "# Data table contains references to TOPMed genotype file locations\n",
    "ref_file_tsv <- fapi$get_entities_tsv(ws_namespace, ws_name, \"reference_file\", model=\"flexible\")\n",
    "ref_file_df <- read_tsv(ref_file_tsv$text, col_types=cols())"
   ]
  },
  {
   "cell_type": "code",
   "execution_count": null,
   "metadata": {},
   "outputs": [],
   "source": [
    "pilot_chroms <- unique(snp_info_df$CHR)\n",
    "\n",
    "# for (chr in pilot_chroms) {  # Loop through relevant chromosomes, extracting variants of interest\n",
    "#     fn <- paste0(\"freeze.9b.chr\", chr, \".pass_and_fail.gtonly.minDP0.bcf\")\n",
    "#     if (!file.exists(fn)) {\n",
    "#         drs_uri <- ref_file_df$`pfb:ga4gh_drs_uri`[ref_file_df$`pfb:file_name` == fn]\n",
    "#         print(drs_uri)\n",
    "#         tnu$drs$copy(drs_uri, fn)\n",
    "#     }\n",
    "\n",
    "#     # Create index for .bcf file\n",
    "#     bcftools_idx_cmd <- paste0(\n",
    "#         \"bcftools-1.15.1/bcftools index --threads 2 \", fn\n",
    "#     )\n",
    "#     if (!file.exists(paste0(fn, \".csi\"))) {\n",
    "#         print(bcftools_idx_cmd)\n",
    "#         system(bcftools_idx_cmd)\n",
    "#     }\n",
    "\n",
    "#     # Run bcftools command to extract variants of interest\n",
    "#     bcftools_cmd <- paste0(\n",
    "#         \"bcftools-1.15.1/bcftools view\",\n",
    "#         \" -R pilot_snp_regions.txt\",\n",
    "#     #     \" -i 'ID=@pilot_snps.txt'\",\n",
    "#         \" --no-header\",\n",
    "#         \" -o genotypes/pilot_snps_chr\", chr, \".vcf\",\n",
    "#         \" \", fn\n",
    "#     )\n",
    "#     print(bcftools_cmd)\n",
    "#     system(bcftools_cmd) \n",
    "    \n",
    "#     # Remove very large .bcf files\n",
    "#     rm_cmd <- paste0(\"rm \", fn)\n",
    "#     system(rm_cmd)\n",
    "#     system(paste0(\"mv \", fn, \".csi genotypes/\"))  # Keep index file for potential later use\n",
    "# }"
   ]
  },
  {
   "cell_type": "code",
   "execution_count": null,
   "metadata": {},
   "outputs": [],
   "source": [
    "# Use header to get sample IDs to link to genotypes in VCF\n",
    "\n",
    "# chr <- 22\n",
    "# fn <- paste0(\"freeze.9b.chr\", chr, \".pass_and_fail.gtonly.minDP0.bcf\")\n",
    "#     if (!file.exists(fn)) {\n",
    "#         drs_uri <- ref_file_df$`pfb:ga4gh_drs_uri`[ref_file_df$`pfb:file_name` == fn]\n",
    "#         print(drs_uri)\n",
    "#         tnu$drs$copy(drs_uri, fn)\n",
    "#     }\n",
    "# system(paste0(\n",
    "#     \"bcftools-1.15.1/bcftools head \", fn,\n",
    "#     \" | tail -n 1\",\n",
    "#     \" | tr '\\t' '\\n'\",\n",
    "#     \" > genotypes/pilot_header.txt\"\n",
    "# ))\n",
    "# rm_cmd <- paste0(\"rm \", fn)\n",
    "# system(rm_cmd)"
   ]
  },
  {
   "cell_type": "code",
   "execution_count": null,
   "metadata": {},
   "outputs": [],
   "source": [
    "vcf_header <- scan(\"genotypes/pilot_header.txt\", what=character())\n",
    "vcf_samples <- vcf_header[seq(10, length(vcf_header))]"
   ]
  },
  {
   "cell_type": "markdown",
   "metadata": {},
   "source": [
    "## Collect genotypes and export"
   ]
  },
  {
   "cell_type": "code",
   "execution_count": null,
   "metadata": {},
   "outputs": [],
   "source": [
    "read_vcf <- function(vcf_fn, rsID) {\n",
    "    system(paste0(\"grep \", rsID, \" \", vcf_fn, \" > gvec.tmp\"))\n",
    "    if (rsID == \"rs77810251\") system(\"grep 'G\\tA' gvec.tmp > gvec2.tmp && mv gvec2.tmp gvec.tmp\")\n",
    "    vcf_vec <- scan(\"gvec.tmp\", what=character())\n",
    "    system(\"rm gvec.tmp\")\n",
    "    vcf_genos <- vcf_vec[seq(10, length(vcf_vec))]\n",
    "    vcf_dosages <- as.integer(c(\"0/0\"=0, \"0/1\"=1, \"1/1\"=2)[vcf_genos])\n",
    "    vcf_dosages\n",
    "}"
   ]
  },
  {
   "cell_type": "code",
   "execution_count": null,
   "metadata": {},
   "outputs": [],
   "source": [
    "snp_vec_list <- apply(snp_info_df, 1, function(r) {\n",
    "    vcf_fn <- paste0(\"genotypes/pilot_snps_chr\", str_trim(r[\"CHR\"]), \".vcf\")\n",
    "    read_vcf(vcf_fn, r[\"rsID\"])\n",
    "}, simplify=FALSE)"
   ]
  },
  {
   "cell_type": "code",
   "execution_count": null,
   "metadata": {},
   "outputs": [],
   "source": [
    "geno_mat_full <- do.call(rbind, snp_vec_list)  # SNPs x samples\n",
    "colnames(geno_mat_full) <- vcf_samples\n",
    "rownames(geno_mat_full) <- snp_info_df$rsID\n",
    "\n",
    "geno_df <- as_tibble(t(geno_mat_full), rownames=\"NWD_ID\")"
   ]
  },
  {
   "cell_type": "code",
   "execution_count": null,
   "metadata": {},
   "outputs": [],
   "source": [
    "saveRDS(geno_df, \"genotypes/analysis_genotypes.rds\")\n",
    "\n",
    "system(paste(\"gsutil cp -r genotypes\", ws_bucket))"
   ]
  },
  {
   "cell_type": "markdown",
   "metadata": {},
   "source": [
    "# Archive"
   ]
  },
  {
   "cell_type": "code",
   "execution_count": null,
   "metadata": {},
   "outputs": [],
   "source": [
    "# if (!require(\"vcfR\")) install.packages(\"vcfR\")\n",
    "# library(vcfR)"
   ]
  },
  {
   "cell_type": "code",
   "execution_count": null,
   "metadata": {},
   "outputs": [],
   "source": [
    "# vcf <- read.vcfR(\"genotypes/pilot_snps_chr7.vcf\")\n",
    "# vcf@gt[1:5, 1:5]"
   ]
  }
 ],
 "metadata": {
  "kernelspec": {
   "display_name": "R",
   "language": "R",
   "name": "ir"
  },
  "language_info": {
   "codemirror_mode": "r",
   "file_extension": ".r",
   "mimetype": "text/x-r-source",
   "name": "R",
   "pygments_lexer": "r",
   "version": "4.3.0"
  },
  "toc": {
   "base_numbering": 1,
   "nav_menu": {},
   "number_sections": true,
   "sideBar": true,
   "skip_h1_title": false,
   "title_cell": "Table of Contents",
   "title_sidebar": "Contents",
   "toc_cell": false,
   "toc_position": {},
   "toc_section_display": true,
   "toc_window_display": false
  }
 },
 "nbformat": 4,
 "nbformat_minor": 2
}
