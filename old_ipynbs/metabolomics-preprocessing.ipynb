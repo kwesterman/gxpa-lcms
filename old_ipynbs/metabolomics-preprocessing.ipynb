{
 "cells": [
  {
   "cell_type": "markdown",
   "metadata": {},
   "source": [
    "# Import"
   ]
  },
  {
   "cell_type": "code",
   "execution_count": null,
   "metadata": {},
   "outputs": [],
   "source": [
    "data_files <- c(\"19_0904_TOPMed_FHS_Broad_C18-neg_metabolomics_NONREDUNDANTonly_tabd.txt\",\n",
    "                \"19_1203_TOPMed_FHS_Broad_C8-pos_metabolomics_v2_NONREDUNDANTonly_tabd.txt\",\n",
    "                \"20_0213_TOPMed_FHS_Broad_HILIC-pos_metabolomics_NONREDUNDANTonly_tabd.txt\",\n",
    "                \"20_0226_TOPMed_FHS_BIDMC_Amide-neg_metabolomics_tabd.txt\",\n",
    "\n",
    "                \"19_1008_TOPMed_WHI_Broad_C18-neg_metabolomics_NONREDUNDANTonly_tabd.txt\",\n",
    "                \"19_1126_TOPMed_WHI_Broad_C8-pos_metabolomics_v2_NONREDUNDANTonly_tabd.txt\",\n",
    "                \"19_1211_TOPMed_WHI_Broad_HILIC-pos_metabolomics_NONREDUNDANTonly_tabd.txt\",\n",
    "                \"20_0226_TOPMed_WHI_BIDMC_Amide-neg_metabolomics_tabd.txt\",\n",
    "                \n",
    "                \"MESA_pilot_BroadInst_C8-pos_lipids_050517.csv\",\n",
    "                \"MESA_pilot_BroadInst_HIL-pos_polar_050517.csv\",\n",
    "                # \"amines_mesa_raw.txt\", # April 28, 2022: where did this file go? :(\n",
    "                \"an_MESA_clean.txt\",\n",
    "                \n",
    "                \"l_proapt_ex02_3_1117s_18.csv\", # FHS proteomics\n",
    "                \"WHI_proteomics_2021-05-25.csv\",\n",
    "                \"proteomics_MESA_april2021.csv\",\n",
    "               \n",
    "                \"MESA_amines_HMDBs.csv\")\n",
    "\n",
    "data_paths <- paste0(\"gs://fc-secure-4b3e979d-ba8b-43c4-a5ec-b41ab42ce606/\",data_files)"
   ]
  },
  {
   "cell_type": "code",
   "execution_count": null,
   "metadata": {},
   "outputs": [],
   "source": [
    "for(path in data_paths) { print(system(paste(\"gsutil cp\",path,\"./ 2>&1\"))) } # Copy data files into working dir. 0==success"
   ]
  },
  {
   "cell_type": "markdown",
   "metadata": {},
   "source": [
    "# Read"
   ]
  },
  {
   "cell_type": "code",
   "execution_count": null,
   "metadata": {},
   "outputs": [],
   "source": [
    "library(data.table)\n",
    "options(stringsAsFactors=FALSE)"
   ]
  },
  {
   "cell_type": "code",
   "execution_count": null,
   "metadata": {},
   "outputs": [],
   "source": [
    "dts1 <- lapply(data_files[ 1:10], fread) # dts1 are all of a similar-ish format and can be handled together.\n",
    "dts2 <- lapply(data_files[11:14], fread) # dts2 are already mostly clean. Handled separately.\n",
    "names(dts1) <- c(\"cn_FHS\", \"cp_FHS\", \"hp_FHS\", \"an_FHS\", \"cn_WHI\", \"cp_WHI\", \"hp_WHI\", \"an_WHI\", \"cp_MESA\", \"hp_MESA\")\n",
    "dts1_methods<- c(\"cn\",     \"cp\",     \"hp\",     \"an\",     \"cn\",     \"cp\",     \"hp\",     \"an\",     \"cp\",      \"hp\")\n",
    "names(dts2) <- c(\"an_MESA\", \"proteo_FHS\", \"proteo_WHI\", \"proteo_MESA\")"
   ]
  },
  {
   "cell_type": "code",
   "execution_count": null,
   "metadata": {},
   "outputs": [],
   "source": [
    "gc()"
   ]
  },
  {
   "cell_type": "markdown",
   "metadata": {},
   "source": [
    "# dts1"
   ]
  },
  {
   "cell_type": "markdown",
   "metadata": {},
   "source": [
    "## Inspect"
   ]
  },
  {
   "cell_type": "code",
   "execution_count": null,
   "metadata": {},
   "outputs": [],
   "source": [
    "lapply(dts1,dim)\n",
    "# lapply(dts1,head,n=12)"
   ]
  },
  {
   "cell_type": "code",
   "execution_count": null,
   "metadata": {},
   "outputs": [],
   "source": [
    "data_start_rows <- c(10,10,10,10,10,10,10,10, 6, 6)\n",
    "data_start_cols <- c( 8, 8, 8, 7, 8, 8, 8, 7, 7, 7)\n",
    "\n",
    "# Sample-related stuff all starts @ data_start_COL\n",
    "sample_id_rows <- c(9,9,9,9,9,9,9,9,5,5)\n",
    "extr_date_rows <- c(1,1,1,1,1,1,1,1,1,1)\n",
    "\n",
    "# Metabolite-related stuff all starts @ data_start_ROW\n",
    "method_cols      <- c(1,1,1,1,1,1,1,1,1,1)\n",
    "compound_id_cols <- c(2,2,2,5,2,2,2,5,2,2)\n",
    "mrm_cols <- c(NA,NA,NA, 2,NA,NA,NA, 2,NA,NA)\n",
    "mz_cols  <- c( 3, 3, 3,NA, 3, 3, 3,NA, 3, 3)\n",
    "rt_cols  <- c( 4, 4, 4, 3, 4, 4, 4, 3, 4, 4)\n",
    "hmdb_id_cols  <- c(5,5,5,5,5,5,5,5,5,5)\n",
    "met_name_cols <- c(7,7,7,6,7,7,7,6,6,6)"
   ]
  },
  {
   "cell_type": "markdown",
   "metadata": {},
   "source": [
    "## Fix that one Compound_ID/HMDB_ID in an_WHI\n",
    "Compound_ID \"C12271\\xa0\\xa0\\xa0(KEGG)\" with HMDB_ID \"C12271\\U{3e30613c}\\U{3e30613c}\\U{3e30613c}(KEGG)\". The invisible special characters cause errors."
   ]
  },
  {
   "cell_type": "code",
   "execution_count": null,
   "metadata": {},
   "outputs": [],
   "source": [
    "# (dts1[[8]] is cp_WHI)\n",
    "cpd_id_tmp <- unlist( dts1[[8]][,compound_id_cols[8],with=F] )\n",
    "grep(\"C12271\",cpd_id_tmp) # The row of the offending compound is 82\n",
    "\n",
    "set(dts1[[8]], i=82L, j=as.integer(compound_id_cols[8]), value=\"C12271\")\n",
    "set(dts1[[8]], i=82L, j=as.integer(hmdb_id_cols    [8]), value=\"\") # There is no HMDB id for this molecule (manually searched)"
   ]
  },
  {
   "cell_type": "markdown",
   "metadata": {},
   "source": [
    "## Give an (arbitrary) id to WHI amines with none"
   ]
  },
  {
   "cell_type": "code",
   "execution_count": null,
   "metadata": {},
   "outputs": [],
   "source": [
    "# # an_WHI = 8\n",
    "# tmp <- unlist(dts1[[8]][,hmdb_id_cols[8],with=F])\n",
    "# table(nchar(tmp))\n",
    "# tmp[nchar(tmp)!=11]\n",
    "# dts1[[8]][nchar(tmp)!=11,]"
   ]
  },
  {
   "cell_type": "markdown",
   "metadata": {},
   "source": [
    "## Remove \"redundant_ion\"s\n",
    "A.K.A. the metabolites with names beginning with \"NH4_\".\\\n",
    "They are only present in MESA c8."
   ]
  },
  {
   "cell_type": "code",
   "execution_count": null,
   "metadata": {},
   "outputs": [],
   "source": [
    "rows2keep <- unlist(dts1[[9]][,hmdb_id_cols[9],with=F])!=\"redundant_ion\"\n",
    "dts1[[9]] <- dts1[[9]][rows2keep,]\n",
    "\n",
    "# You can use this commented code to make sure ~all~ the \"redundant_ion\"s are the \"NH4_...\" metabolites, and all the \"NH4_...\" metabolites are \"redundant_ion\"s.\n",
    "#lapply(seq_along(dts1), function(i) {\n",
    "#    tmp <- dts1[[i]][,c(hmdb_id_cols[i],met_name_cols[i]),with=F]\n",
    "#    names(tmp) <- c(\"hmdb\",\"nm\")\n",
    "#    print(tmp[hmdb==\"redundant_ion\",nm]) # All the \"redundant_ion\"s are \"NH4_...\" metabolites indeed\n",
    "#    print(tmp[grep(\"NH4_\",nm),hmdb]) # All the \"NH4_...\" metabolites are \"redundant_ion\"s indeed\n",
    "#})"
   ]
  },
  {
   "cell_type": "code",
   "execution_count": null,
   "metadata": {},
   "outputs": [],
   "source": [
    "#intstd_row_indss <- lapply(1:length(dts1), function(i) { which(grepl(\"interna\", unlist(dts1[[i]][,hmdb_id_cols[i],with=F]), ignore.case=T)) })\n",
    "#lapply(1:length(dts1), function(i) { print(names(dts1)[i]); dts1[[i]][intstd_row_indss[[i]],1:10,with=F]})"
   ]
  },
  {
   "cell_type": "markdown",
   "metadata": {},
   "source": [
    "## Remove the '\\*' suffix from HMDBs which have it\n",
    "E.g. \"HMDB00001*\" --> \"HMDB00001\""
   ]
  },
  {
   "cell_type": "code",
   "execution_count": null,
   "metadata": {},
   "outputs": [],
   "source": [
    "for(dti in 1:length(dts1)) {\n",
    "    hmdbs_col <- unlist(dts1[[dti]][,hmdb_id_cols[dti],with=F])\n",
    "    hmdbs_col <- sub(\"\\\\*\",\"\",hmdbs_col)\n",
    "    for(r in 1:nrow(dts1[[dti]]))\n",
    "        set(dts1[[dti]], i=r, j=as.integer(hmdb_id_cols[dti]), hmdbs_col[r])\n",
    "}"
   ]
  },
  {
   "cell_type": "markdown",
   "metadata": {},
   "source": [
    "## Manually deal with duplications in the individual method datasets"
   ]
  },
  {
   "cell_type": "markdown",
   "metadata": {},
   "source": [
    "##### Function to delete data.table rows by reference, stolen from jarppiko's comment in https://github.com/Rdatatable/data.table/issues/635"
   ]
  },
  {
   "cell_type": "code",
   "execution_count": null,
   "metadata": {},
   "outputs": [],
   "source": [
    "rmDtRows <- function(DT, del.idxs) {\n",
    "  keep.idxs <- setdiff(DT[, .I], del.idxs); # row indexes to keep\n",
    "  cols = names(DT);\n",
    "  DT.subset <- data.table(DT[[1]][keep.idxs]); # this is the subsetted table\n",
    "  setnames(DT.subset, cols[1]);\n",
    "  for (col in cols[2:length(cols)]) {\n",
    "    DT.subset[, (col) := DT[[col]][keep.idxs]];\n",
    "    DT[, (col) := NULL];  # delete\n",
    "  }\n",
    "   return(DT.subset);\n",
    "}"
   ]
  },
  {
   "cell_type": "markdown",
   "metadata": {},
   "source": [
    "### Duplicated HMDBs"
   ]
  },
  {
   "cell_type": "code",
   "execution_count": null,
   "metadata": {},
   "outputs": [],
   "source": [
    "names(dts1)\n",
    "lapply(seq_along(dts1), function(i) { tmp <- table(dts1[[i]][,hmdb_id_cols[i],with=F]); tmp[tmp>1][-1] })\n",
    "# The [-1] subset of tmp is meant to ignore the \"\" duplications at the top of the file."
   ]
  },
  {
   "cell_type": "code",
   "execution_count": null,
   "metadata": {},
   "outputs": [],
   "source": [
    "# This code block does nothing, just looking at \"internal standard\" metabolites\n",
    "#tmp <- unlist(dts1[[1]][,hmdb_id_cols[1],with=F])\n",
    "#dts1[[1]][tmp==\"Internal Standard\"]"
   ]
  },
  {
   "cell_type": "markdown",
   "metadata": {},
   "source": [
    "##### HMDB0000610 duplicated in FHS c8"
   ]
  },
  {
   "cell_type": "code",
   "execution_count": null,
   "metadata": {},
   "outputs": [],
   "source": [
    "inds <- which(dts1[[2]][,hmdb_id_cols[2],with=F]==\"HMDB0000610\"); dts1[[2]][inds,]\n",
    "dts1[[2]] <- rmDtRows(dts1[[2]], inds[2]) # Just keep the first entry\n",
    "inds <- which(dts1[[2]][,hmdb_id_cols[2],with=F]==\"HMDB0000610\"); dts1[[2]][inds,]"
   ]
  },
  {
   "cell_type": "markdown",
   "metadata": {},
   "source": [
    "##### HMDB0010393 and HMDB0011130 duplicated in FHS hilic"
   ]
  },
  {
   "cell_type": "code",
   "execution_count": null,
   "metadata": {},
   "outputs": [],
   "source": [
    "inds <- which(dts1[[3]][,hmdb_id_cols[3],with=F]==\"HMDB0010393\"); dts1[[3]][inds,]\n",
    "dts1[[3]] <- rmDtRows(dts1[[3]], inds[2]) # Just keep the first entry\n",
    "inds <- which(dts1[[3]][,hmdb_id_cols[3],with=F]==\"HMDB0010393\"); dts1[[3]][inds,]"
   ]
  },
  {
   "cell_type": "code",
   "execution_count": null,
   "metadata": {},
   "outputs": [],
   "source": [
    "inds <- which(dts1[[3]][,hmdb_id_cols[3],with=F]==\"HMDB0011130\"); dts1[[3]][inds,]\n",
    "dts1[[3]] <- rmDtRows(dts1[[3]], inds[2]) # Just keep the first entry\n",
    "inds <- which(dts1[[3]][,hmdb_id_cols[3],with=F]==\"HMDB0011130\"); dts1[[3]][inds,]"
   ]
  },
  {
   "cell_type": "markdown",
   "metadata": {},
   "source": [
    "##### HMDB0062641 duplicated in FHS amines"
   ]
  },
  {
   "cell_type": "code",
   "execution_count": null,
   "metadata": {},
   "outputs": [],
   "source": [
    "inds <- which(dts1[[4]][,hmdb_id_cols[4],with=F]==\"HMDB0062641\"); dts1[[4]][inds,]\n",
    "dts1[[4]] <- rmDtRows(dts1[[4]], inds[1]) # Because the assignment certainty of the first appearance is worse, we remove that one.\n",
    "inds <- which(dts1[[4]][,hmdb_id_cols[4],with=F]==\"HMDB0062641\"); dts1[[4]][inds,]"
   ]
  },
  {
   "cell_type": "markdown",
   "metadata": {},
   "source": [
    "##### HMDB0010393 and HMDB0013122 duplicated in WHI hilic"
   ]
  },
  {
   "cell_type": "code",
   "execution_count": null,
   "metadata": {},
   "outputs": [],
   "source": [
    "inds <- which(dts1[[7]][,hmdb_id_cols[7],with=F]==\"HMDB0010393\"); dts1[[7]][inds,]\n",
    "dts1[[7]] <- rmDtRows(dts1[[7]], inds[2]) # Just keep the first entry\n",
    "inds <- which(dts1[[7]][,hmdb_id_cols[7],with=F]==\"HMDB0010393\"); dts1[[7]][inds,]"
   ]
  },
  {
   "cell_type": "code",
   "execution_count": null,
   "metadata": {},
   "outputs": [],
   "source": [
    "inds <- which(dts1[[7]][,hmdb_id_cols[7],with=F]==\"HMDB0013122\"); dts1[[7]][inds,]\n",
    "dts1[[7]] <- rmDtRows(dts1[[7]], inds[2]) # Just keep the first entry\n",
    "inds <- which(dts1[[7]][,hmdb_id_cols[7],with=F]==\"HMDB0013122\"); dts1[[7]][inds,]"
   ]
  },
  {
   "cell_type": "markdown",
   "metadata": {},
   "source": [
    "##### HMDB0062641 duplicated in WHI amines"
   ]
  },
  {
   "cell_type": "code",
   "execution_count": null,
   "metadata": {},
   "outputs": [],
   "source": [
    "inds <- which(dts1[[8]][,hmdb_id_cols[8],with=F]==\"HMDB0062641\"); dts1[[8]][inds,]\n",
    "dts1[[8]] <- rmDtRows(dts1[[8]], inds[1]) # Because the assignment certainty of the first appearance is worse, we remove that one.\n",
    "inds <- which(dts1[[8]][,hmdb_id_cols[8],with=F]==\"HMDB0062641\"); dts1[[8]][inds,]"
   ]
  },
  {
   "cell_type": "markdown",
   "metadata": {},
   "source": [
    "##### HMDB00853, HMDB00991, HMDB01325, HMDB07973, HMDB12101, HMDB13122 duplicated in MESA hilic"
   ]
  },
  {
   "cell_type": "code",
   "execution_count": null,
   "metadata": {},
   "outputs": [],
   "source": [
    "inds <- which(dts1[[10]][,hmdb_id_cols[10],with=F]==\"HMDB00853\" ); dts1[[10]][inds,]\n",
    "dts1[[10]] <- rmDtRows(dts1[[10]], inds[2]) # Just keep the first entry\n",
    "inds <- which(dts1[[10]][,hmdb_id_cols[10],with=F]==\"HMDB00853\" ); dts1[[10]][inds,]"
   ]
  },
  {
   "cell_type": "code",
   "execution_count": null,
   "metadata": {},
   "outputs": [],
   "source": [
    "inds <- which(dts1[[10]][,hmdb_id_cols[10],with=F]==\"HMDB00991\" ); dts1[[10]][inds,]\n",
    "dts1[[10]] <- rmDtRows(dts1[[10]], inds[2]) # Just keep the first entry\n",
    "inds <- which(dts1[[10]][,hmdb_id_cols[10],with=F]==\"HMDB00991\" ); dts1[[10]][inds,]"
   ]
  },
  {
   "cell_type": "code",
   "execution_count": null,
   "metadata": {},
   "outputs": [],
   "source": [
    "inds <- which(dts1[[10]][,hmdb_id_cols[10],with=F]==\"HMDB01325\" ); dts1[[10]][inds,]\n",
    "dts1[[10]] <- rmDtRows(dts1[[10]], inds[2]) # Just keep the first entry\n",
    "inds <- which(dts1[[10]][,hmdb_id_cols[10],with=F]==\"HMDB01325\" ); dts1[[10]][inds,]"
   ]
  },
  {
   "cell_type": "code",
   "execution_count": null,
   "metadata": {},
   "outputs": [],
   "source": [
    "inds <- which(dts1[[10]][,hmdb_id_cols[10],with=F]==\"HMDB07973\"); dts1[[10]][inds,]\n",
    "dts1[[10]] <- rmDtRows(dts1[[10]], inds[2]) # Just keep the first entry\n",
    "inds <- which(dts1[[10]][,hmdb_id_cols[10],with=F]==\"HMDB07973\"); dts1[[10]][inds,]"
   ]
  },
  {
   "cell_type": "markdown",
   "metadata": {},
   "source": [
    "We choose the secodn row here because the first row used to have an asterisk next to the HMDB, meaning that the HMDB is not an exact match to the metabolite but close enough that to be a representative HMDB. However, we would rather choose the molecule with an exact match to the HMDB, i.e. the not-asterisk one."
   ]
  },
  {
   "cell_type": "code",
   "execution_count": null,
   "metadata": {},
   "outputs": [],
   "source": [
    "inds <- which(dts1[[10]][,hmdb_id_cols[10],with=F]==\"HMDB12101\" ); dts1[[10]][inds,]\n",
    "dts1[[10]] <- rmDtRows(dts1[[10]], inds[1]) # Just keep the second entry\n",
    "inds <- which(dts1[[10]][,hmdb_id_cols[10],with=F]==\"HMDB12101\" ); dts1[[10]][inds,]"
   ]
  },
  {
   "cell_type": "code",
   "execution_count": null,
   "metadata": {},
   "outputs": [],
   "source": [
    "inds <- which(dts1[[10]][,hmdb_id_cols[10],with=F]==\"HMDB13122\" ); dts1[[10]][inds,]\n",
    "dts1[[10]] <- rmDtRows(dts1[[10]], inds[2]) # Just keep the first entry\n",
    "inds <- which(dts1[[10]][,hmdb_id_cols[10],with=F]==\"HMDB13122\" ); dts1[[10]][inds,]"
   ]
  },
  {
   "cell_type": "markdown",
   "metadata": {},
   "source": [
    "### Duplicated Known Metabolite Names"
   ]
  },
  {
   "cell_type": "code",
   "execution_count": null,
   "metadata": {},
   "outputs": [],
   "source": [
    "names(dts1)\n",
    "lapply(seq_along(dts1), function(i) { tmp <- table(dts1[[i]][,met_name_cols[i],   with=F]); tmp[tmp>1][-1] })"
   ]
  },
  {
   "cell_type": "markdown",
   "metadata": {},
   "source": [
    "##### \"C34:1 DAG_or_TAG_fragment\" and \"C34:2 DAG_or_TAG_fragment\" duplicated in MESA hilic"
   ]
  },
  {
   "cell_type": "code",
   "execution_count": null,
   "metadata": {},
   "outputs": [],
   "source": [
    "inds1 <- which(dts1[[10]][,met_name_cols[10],with=F]==\"C34:1 DAG_or_TAG_fragment\"); dts1[[10]][inds1,]\n",
    "inds2 <- which(dts1[[10]][,met_name_cols[10],with=F]==\"C34:2 DAG_or_TAG_fragment\"); dts1[[10]][inds2,]\n",
    "dts1[[10]] <- rmDtRows(dts1[[10]], c(inds1,inds2)) # Just remove all 4 of these\n",
    "inds1 <- which(dts1[[10]][,met_name_cols[10],with=F]==\"C34:1 DAG_or_TAG_fragment\"); length(inds1)\n",
    "inds2 <- which(dts1[[10]][,met_name_cols[10],with=F]==\"C34:2 DAG_or_TAG_fragment\"); length(inds2)"
   ]
  },
  {
   "cell_type": "markdown",
   "metadata": {},
   "source": [
    "### Duplicated Compound Ids and Sample Ids (there are none!)"
   ]
  },
  {
   "cell_type": "code",
   "execution_count": null,
   "metadata": {},
   "outputs": [],
   "source": [
    "lapply(seq_along(dts1), function(i) { tmp <- table(dts1[[i]][,compound_id_cols[i],with=F]); tmp[tmp>1][-1] })\n",
    "lapply(seq_along(dts1), function(i) { tmp <- table(dts1[[i]][ sample_id_rows[i],        ]); tmp[tmp>1]     })"
   ]
  },
  {
   "cell_type": "markdown",
   "metadata": {},
   "source": [
    "## Checking for Within-cohort Duplications?\n",
    "TL;DR yes, e.g. within MESA the HILIC+ and C8+ might pick up a bunch of the same knowns.\\\n",
    "All the above were _within_-method duplications, now testing within-_cohort_ duplications (like if the methods were merged together without making the ids unique with a method suffix). Indeed if there were no method suffix, there would be many within-cohort duplicated HMDBs."
   ]
  },
  {
   "cell_type": "code",
   "execution_count": null,
   "metadata": {
    "code_folding": []
   },
   "outputs": [],
   "source": [
    "#fhs_hmdbs <- unlist(sapply(1:4, function(i) {\n",
    "#    hmdbs <- unlist(dts1[[i]][,hmdb_id_cols[i],with=F])\n",
    "#    hmdbs <- hmdbs[!(hmdbs %in% c(\"Internal Standard\",\"internal standard\", \"\")) & !is.na(hmdbs)]\n",
    "#}))\n",
    "#fhs_hmdbs[duplicated(fhs_hmdbs)]\n",
    "#\n",
    "#whi_hmdbs <- unlist(sapply(5:8, function(i) {\n",
    "#    hmdbs <- unlist(dts1[[i]][,hmdb_id_cols[i],with=F])\n",
    "#    hmdbs <- hmdbs[!(hmdbs %in% c(\"Internal Standard\",\"internal standard\", \"\")) & !is.na(hmdbs)]\n",
    "#}))\n",
    "#whi_hmdbs[duplicated(whi_hmdbs)\n",
    "#\n",
    "#mesa_hmdbs <- unlist(sapply(9:10, function(i) {\n",
    "#    hmdbs <- unlist(dts1[[i]][,hmdb_id_cols[i],with=F])\n",
    "#    hmdbs <- hmdbs[!(hmdbs %in% c(\"Internal Standard\",\"internal standard\", \"\", \"redundant_ion\", \"n/a\")) & !is.na(hmdbs)]\n",
    "#}))\n",
    "#mesa_hmdbs[duplicated(mesa_hmdbs)]"
   ]
  },
  {
   "cell_type": "markdown",
   "metadata": {},
   "source": [
    "## Clean\n",
    "Just the sample IDs as rows, metabolite compound IDs as columns, and measurement data in the middle.\\\n",
    "The dictionaries we made map these sample/metabolite IDs to the additional information if we ever need it later."
   ]
  },
  {
   "cell_type": "code",
   "execution_count": null,
   "metadata": {},
   "outputs": [],
   "source": [
    "dts1_clean <- list()\n",
    "\n",
    "sample_idss <- lapply(seq_along(dts1), function(i) unlist(dts1[[i]][ sample_id_rows[i], data_start_cols[i]:ncol(dts1[[i]]) ]))\n",
    "\n",
    "# Use compound id w/ method suffix, but for amines must use HMDB id.\n",
    "met_idss <- lapply(seq_along(dts1), function(i) {\n",
    "    tmp <- if(is.na(compound_id_cols[i])) {unlist( dts1[[i]][data_start_rows[i]:nrow(dts1[[i]]), hmdb_id_cols[i]    , with=F] )                      }\n",
    "           else                    {paste0(unlist( dts1[[i]][data_start_rows[i]:nrow(dts1[[i]]), compound_id_cols[i], with=F] ), '_',dts1_methods[i])}\n",
    "    tmp[duplicated(tmp)] <- paste0(tmp[duplicated(tmp)], \"_dup\") # If an ID is repeated\n",
    "    return(tmp)\n",
    "})"
   ]
  },
  {
   "cell_type": "code",
   "execution_count": null,
   "metadata": {},
   "outputs": [],
   "source": [
    "paste(\"Original total size:\", object.size(dts1) / 10^9, \"GB\")\n",
    "\n",
    "for(i in seq_along(dts1)) {\n",
    "    dts1_clean[[i]] <- dts1[[i]][data_start_rows[i]:nrow(dts1[[i]]),\n",
    "                                 data_start_cols[i]:ncol(dts1[[i]])]\n",
    "\n",
    "    # Now data is numbers only, convert to numeric to save memory\n",
    "      # (but not integer, b/c some counts are > MAX_INT and also amine measurements are floats)\n",
    "    for(col in 1:ncol(dts1_clean[[i]])) set(dts1_clean[[i]], j=col, value=as.numeric(dts1_clean[[i]][[col]]))\n",
    "\n",
    "    # With the dictionaries and this, now nothing else we need from the raw data, might as well toss it, save memory.\n",
    "    # dts1[[i]] <- 0 \n",
    "\n",
    "    # T, and naming\n",
    "    dts1_clean[[i]] <- t(dts1_clean[[i]])\n",
    "\n",
    "    #rownames(dts1_clean[[i]]) <- sample_idss[[i]]\n",
    "    colnames(dts1_clean[[i]]) <- met_idss[[i]]\n",
    "    dts1_clean[[i]] <- data.table(sample_id=sample_idss[[i]], dts1_clean[[i]])\n",
    "}\n",
    "\n",
    "# c8_MESA has 4 full NA rows at the end.\n",
    "# all(is.na(tail(dts1_clean[[9]],n=4))) --> TRUE ¯\\_('- ')_/¯\n",
    "dts1_clean[[9]] <- dts1_clean[[9]][!is.na(sample_id)]\n",
    "\n",
    "\n",
    "names(dts1_clean) <- names(dts1)#; rm(dts1)\n",
    "paste(\"Cleaned DTs total size:\", object.size(dts1_clean) / 10^9, \"GB\")"
   ]
  },
  {
   "cell_type": "code",
   "execution_count": null,
   "metadata": {},
   "outputs": [],
   "source": [
    "lapply(dts1_clean, dim)\n",
    "# lapply(dts1_clean, tail, n=5)\n",
    "lapply(dts1_clean, function(dt) grep(\"_dup\", colnames(dt))) # Check where duplicates are (should be none)"
   ]
  },
  {
   "cell_type": "markdown",
   "metadata": {},
   "source": [
    "## Write"
   ]
  },
  {
   "cell_type": "code",
   "execution_count": null,
   "metadata": {},
   "outputs": [],
   "source": [
    "colnames(dts1_clean[[8]])"
   ]
  },
  {
   "cell_type": "code",
   "execution_count": null,
   "metadata": {},
   "outputs": [],
   "source": [
    "dir.create(file.path(\"PH_files\"), showWarnings=F)\n",
    "dir.create(file.path(\"PH_files/cleaned\"), showWarnings=F)\n",
    "for(i in seq_along(dts1_clean)) { write.table(dts1_clean[[i]], paste0(\"PH_files/cleaned/\",names(dts1_clean)[i],\"_clean.txt\"), row.names=F) }"
   ]
  },
  {
   "cell_type": "code",
   "execution_count": null,
   "metadata": {},
   "outputs": [],
   "source": [
    "system(paste(\"gsutil cp -R PH_files\", Sys.getenv('WORKSPACE_BUCKET')))"
   ]
  },
  {
   "cell_type": "markdown",
   "metadata": {},
   "source": [
    "# dts2"
   ]
  },
  {
   "cell_type": "code",
   "execution_count": null,
   "metadata": {},
   "outputs": [],
   "source": [
    "# Inspect\n",
    "lapply(dts2,dim)\n",
    "# lapply(dts2,head,n=12)"
   ]
  },
  {
   "cell_type": "code",
   "execution_count": null,
   "metadata": {},
   "outputs": [],
   "source": [
    "# Clean\n",
    "\n",
    "# As of April 28 2022 the raw amines_mesa.txt file is gone, so just using the already cleaned one. Not much modification was made anyways.\n",
    "#dts2[[\"an_MESA\"]] <- dts2[[\"an_MESA\"]][,-c(1,2)]\n",
    "#colnames(dts2[[\"an_MESA\"]])[2:ncol(dts2[[\"an_MESA\"]])] <- paste0(colnames(dts2[[\"an_MESA\"]])[2:ncol(dts2[[\"an_MESA\"]])],\"_an\") # method suffix\n",
    "\n",
    "dts2[[\"proteo_FHS\"]] <- dts2[[\"proteo_FHS\"]][,-c(2,3)]\n",
    "dts2[[\"proteo_WHI\"]] <- dts2[[\"proteo_WHI\"]][,grep(\"^O\",colnames(dts2[[\"proteo_WHI\"]])), with=F]\n",
    "dts2[[\"proteo_MESA\"]] <- dts2[[\"proteo_MESA\"]]\n",
    "\n",
    "for(i in seq_along(dts2)) colnames(dts2[[i]])[1] <- \"sample_id\""
   ]
  },
  {
   "cell_type": "code",
   "execution_count": null,
   "metadata": {},
   "outputs": [],
   "source": [
    "# Inspect again\n",
    "lapply(dts2,dim)\n",
    "# lapply(dts2,head,n=12)"
   ]
  },
  {
   "cell_type": "markdown",
   "metadata": {},
   "source": [
    "## Write"
   ]
  },
  {
   "cell_type": "code",
   "execution_count": null,
   "metadata": {},
   "outputs": [],
   "source": [
    "#dir.create(file.path(\"PH_files/cleaned/\")) # Already done for dts1\n",
    "for(i in seq_along(dts2)) {write.table(dts2[[i]], paste0(\"PH_files/cleaned/\",names(dts2)[i],\"_clean.txt\"), row.names=F) }"
   ]
  },
  {
   "cell_type": "code",
   "execution_count": null,
   "metadata": {},
   "outputs": [],
   "source": [
    "ws_bucket <- Sys.getenv('WORKSPACE_BUCKET')\n",
    "system(paste(\"gsutil cp -R PH_files\", ws_bucket))"
   ]
  },
  {
   "cell_type": "code",
   "execution_count": null,
   "metadata": {},
   "outputs": [],
   "source": [
    "#dts1[[\"an_WHI\"]]\n",
    "tmp <- unlist(dts1[[\"an_WHI\"]][,5])\n",
    "table(nchar(tmp))\n",
    "as.data.frame(dts1[[\"an_WHI\"]])[nchar(tmp)==0,]"
   ]
  },
  {
   "cell_type": "markdown",
   "metadata": {},
   "source": [
    "# Make Maps/Dictonaries"
   ]
  },
  {
   "cell_type": "markdown",
   "metadata": {},
   "source": [
    "## Sample-batch map"
   ]
  },
  {
   "cell_type": "code",
   "execution_count": null,
   "metadata": {},
   "outputs": [],
   "source": [
    "extr_datess <- lapply(seq_along(dts1), function(i) unlist(dts1[[i]][ extr_date_rows[i], data_start_cols[i]:ncol(dts1[[i]]) ]))\n",
    "sample_idss <- lapply(seq_along(dts1), function(i) unlist(dts1[[i]][ sample_id_rows[i], data_start_cols[i]:ncol(dts1[[i]]) ]))\n",
    "unique_ids <- unique(unlist(sample_idss))\n",
    "                                                                               # v sample id & cohort cols\n",
    "sample_info <- data.table(matrix( \"\", nrow=length(unique_ids), ncol=length(dts1)+2 ))\n",
    "colnames(sample_info) <- c(\"sample_id\", \"cohort\", paste0(names(dts1),\"_batch\"))\n",
    "sample_info$sample_id <- unique_ids\n",
    "\n",
    "for(i in seq_along(extr_datess     )) {\n",
    "for(j in seq_along(extr_datess[[i]])) {\n",
    "    sample_info[sample_id==sample_idss[[i]][j], i+2] <- extr_datess[[i]][j]\n",
    "    sample_info[sample_id==sample_idss[[i]][j],   2] <- if(i%in%1:4) {\"FHS\"}\n",
    "                                                   else if(i%in%5:8) {\"WHI\"}\n",
    "                                                   else if(i%in%9:10){\"MESA\"}\n",
    "}}\n",
    "sample_info[, 3:12 := lapply(.SD, as.factor), .SDcols=3:12] # Convert those batch columns to factors\n",
    "# Note: careful about the empty \"\" entries. You should select one cohort at a time to avoid them.\n",
    "\n",
    "sample_info[, is_control := !grepl(\"TOM\",sample_id)]\n",
    "sample_info <- sample_info[!is.na(sample_info$sample_id)]\n",
    "rm(extr_datess, unique_ids)"
   ]
  },
  {
   "cell_type": "code",
   "execution_count": null,
   "metadata": {},
   "outputs": [],
   "source": [
    "sample_info[runif(10,1,nrow(sample_info))] # Random selection of 10 rows"
   ]
  },
  {
   "cell_type": "markdown",
   "metadata": {},
   "source": [
    "## Metabolite Info Map"
   ]
  },
  {
   "cell_type": "markdown",
   "metadata": {},
   "source": [
    "### Get Metabolite Info Maps from each Cohort"
   ]
  },
  {
   "cell_type": "code",
   "execution_count": null,
   "metadata": {},
   "outputs": [],
   "source": [
    "# Convenience fn\n",
    "selectMetInfoCols  <- function(dts, col_inds)\n",
    "    lapply(seq_along(dts), function(i) {\n",
    "        if(is.na(col_inds[i])) { rep(NA,times=nrow(dts[[i]])-data_start_rows[i]+1) }\n",
    "        else                   { dts[[i]][data_start_rows[i]:nrow(dts[[i]]), col_inds[i], with=F] }\n",
    "})\n",
    "\n",
    "met_info_fhs <- data.table(\n",
    "    Compound_Id_FHS = unlist(selectMetInfoCols(dts1[1:4], compound_id_cols[1:4])),\n",
    "    Compound_Id_WHI = NA,\n",
    "    Compound_Id_MESA= NA,\n",
    "    HMDB_Id     = unlist(selectMetInfoCols(dts1[1:4],         hmdb_id_cols[1:4])) ,\n",
    "    Name        = unlist(selectMetInfoCols(dts1[1:4],        met_name_cols[1:4])) ,\n",
    "    MRM         = unlist(selectMetInfoCols(dts1[1:4],             mrm_cols[1:4])) ,\n",
    "    MZ          = as.numeric(unlist(selectMetInfoCols(dts1[1:4],   mz_cols[1:4]))),\n",
    "    RT          = as.numeric(unlist(selectMetInfoCols(dts1[1:4],   rt_cols[1:4]))),\n",
    "    Method      = unlist(selectMetInfoCols(dts1[1:4],          method_cols[1:4])) )\n",
    "met_info_whi <- data.table(\n",
    "    Compound_Id_FHS = NA,\n",
    "    Compound_Id_WHI = unlist(selectMetInfoCols(dts1[5:8], compound_id_cols[5:8])),\n",
    "    Compound_Id_MESA= NA,\n",
    "    HMDB_Id     = unlist(selectMetInfoCols(dts1[5:8],         hmdb_id_cols[5:8])) ,\n",
    "    Name        = unlist(selectMetInfoCols(dts1[5:8],        met_name_cols[5:8])) ,\n",
    "    MRM         = unlist(selectMetInfoCols(dts1[5:8],             mrm_cols[5:8])) ,\n",
    "    MZ          = as.numeric(unlist(selectMetInfoCols(dts1[5:8],   mz_cols[5:8]))),\n",
    "    RT          = as.numeric(unlist(selectMetInfoCols(dts1[5:8],   rt_cols[5:8]))),\n",
    "    Method      = unlist(selectMetInfoCols(dts1[5:8],          method_cols[5:8])) )\n",
    "met_info_mesa <- data.table(\n",
    "    Compound_Id_FHS = NA,\n",
    "    Compound_Id_WHI = NA,\n",
    "    Compound_Id_MESA= unlist(selectMetInfoCols(dts1[9:10], compound_id_cols[9:10])) ,\n",
    "    HMDB_Id     = unlist(selectMetInfoCols(dts1[9:10],         hmdb_id_cols[9:10])) ,\n",
    "    Name        = unlist(selectMetInfoCols(dts1[9:10],        met_name_cols[9:10])) ,\n",
    "    MRM         = unlist(selectMetInfoCols(dts1[9:10],             mrm_cols[9:10])) ,\n",
    "    MZ          = as.numeric(unlist(selectMetInfoCols(dts1[9:10],   mz_cols[9:10]))),\n",
    "    RT          = as.numeric(unlist(selectMetInfoCols(dts1[9:10],   rt_cols[9:10]))),\n",
    "    Method      = unlist(selectMetInfoCols(dts1[9:10],          method_cols[9:10])) )"
   ]
  },
  {
   "cell_type": "code",
   "execution_count": null,
   "metadata": {},
   "outputs": [],
   "source": [
    "met_info_fhs [met_info_fhs ==\"\"] <- NA\n",
    "met_info_whi [met_info_whi ==\"\"] <- NA\n",
    "met_info_mesa[met_info_mesa==\"\"] <- NA\n",
    "\n",
    "met_info_fhs [grepl(\"tandard\",HMDB_Id), HMDB_Id:=NA]\n",
    "met_info_whi [grepl(\"tandard\",HMDB_Id), HMDB_Id:=NA]\n",
    "met_info_mesa[grepl(\"tandard\",HMDB_Id), HMDB_Id:=NA]\n",
    "\n",
    "met_info_mesa[met_info_mesa==\"n/a\"] <- NA"
   ]
  },
  {
   "cell_type": "code",
   "execution_count": null,
   "metadata": {},
   "outputs": [],
   "source": [
    "met_info_fhs[runif(5,1,nrow(met_info_fhs))] # Inspect 5 random rows\n",
    "met_info_whi[runif(5,1,nrow(met_info_whi))]\n",
    "met_info_mesa[runif(5,1,nrow(met_info_mesa))]"
   ]
  },
  {
   "cell_type": "markdown",
   "metadata": {},
   "source": [
    "### Add MESA amines to met_info_mesa\n",
    "Used [MetaboAnalyst webtool](https://www.metaboanalyst.ca/MetaboAnalyst/upload/ConvertView.xhtml) to match the colnames of amines_MESA to HMDB ids, with some manual work (not in code). The result was the file \"MESA_amines_HMDBs.csv\" loaded here."
   ]
  },
  {
   "cell_type": "code",
   "execution_count": null,
   "metadata": {},
   "outputs": [],
   "source": [
    "mesa_amines_info <- read.csv(\"MESA_amines_HMDBs.csv\")\n",
    "head(mesa_amines_info)\n",
    "# Manually inpsect and ensure the names are aligned, so can just cbind\n",
    "# cbind(colnames(dts2[[\"amines_MESA\"]])[-1], mesa_amines_info) # Yes\n",
    "\n",
    "to_rbind <- data.table(\n",
    "    Compound_Id_FHS = NA,\n",
    "    Compound_Id_WHI = NA,\n",
    "    Compound_Id_MESA= sub(\"_an\",\"\", colnames(dts2[[\"an_MESA\"]])[-1]),\n",
    "    HMDB_Id     = mesa_amines_info$HMDB,\n",
    "    Name        = mesa_amines_info$Match,\n",
    "    MZ          = NA,\n",
    "    MRM         = NA,\n",
    "    RT          = NA,\n",
    "    Method      = \"Amide-Negative-sMRM\")\n",
    "\n",
    "met_info_mesa <- rbind(met_info_mesa, to_rbind)"
   ]
  },
  {
   "cell_type": "code",
   "execution_count": null,
   "metadata": {},
   "outputs": [],
   "source": [
    "met_info_mesa[runif(5,1,nrow(met_info_mesa))] # Inspect 5 random rows"
   ]
  },
  {
   "cell_type": "markdown",
   "metadata": {},
   "source": [
    "### Standardize amount of 0s in padding of HMDBs\n",
    "MESA C8-pos and HIL-pos have 2 fewer 0s in the padding of their HMDB ids than the other datasets. E.g. HMDB02815 instead of HMDB0002815.\\\n",
    "Standardizing these HMDBs to be 11 chars long like the rest of the data."
   ]
  },
  {
   "cell_type": "code",
   "execution_count": null,
   "metadata": {},
   "outputs": [],
   "source": [
    "# Run this commented code to explore if desired\n",
    "#table(nchar(met_info_fhs$HMDB_Id ))\n",
    "#table(nchar(met_info_whi$HMDB_Id ))\n",
    "#table(nchar(met_info_mesa$HMDB_Id))\n",
    "# 11 seems to be the standard HMDB length among most of the datasets\n",
    "#met_info_fhs[nchar(HMDB_Id)!=11]\n",
    "#met_info_whi[nchar(HMDB_Id)!=11]\n",
    "#met_info_mesa[nchar(HMDB_Id)!=11] # Indeed, MESA C8-pos & HIL-pos datasets have different padding"
   ]
  },
  {
   "cell_type": "code",
   "execution_count": null,
   "metadata": {},
   "outputs": [],
   "source": [
    "met_info_mesa[nchar(HMDB_Id)!=11, HMDB_Id := sub(\"HMDB\",\"HMDB00\", HMDB_Id)]"
   ]
  },
  {
   "cell_type": "code",
   "execution_count": null,
   "metadata": {},
   "outputs": [],
   "source": [
    "met_info_mesa[runif(5,1,nrow(met_info_mesa))] # Inspect 5 random rows"
   ]
  },
  {
   "cell_type": "markdown",
   "metadata": {},
   "source": [
    "### Aligning Knowns: 1st Pass\n",
    "Merging knowns across cohorts where the `<HMDB>_<method>` matches _exactly_ (both HMDB and method). If there is such a match, it is guaranteed to be the only one since we manually removed all duplications from each individual method dataset."
   ]
  },
  {
   "cell_type": "markdown",
   "metadata": {},
   "source": [
    "#### Add method suffix\n",
    "Add a suffix to the compound id depending on method; otherwise the ids may not be unique."
   ]
  },
  {
   "cell_type": "code",
   "execution_count": null,
   "metadata": {},
   "outputs": [],
   "source": [
    "addMethodSuffix <- function(compound_id_vec, method_vec) {\n",
    "    sapply(1:length(compound_id_vec), function(i) {\n",
    "        if(is.na(compound_id_vec[i])) return(NA)\n",
    "        if(is.na(method_vec[i])) return(compound_id_vec[i])\n",
    "\n",
    "        if(method_vec[i]==\"C8-pos\"   ) return(paste0(compound_id_vec[i],\"_cp\"))\n",
    "        if(method_vec[i]==\"C18-neg\"  ) return(paste0(compound_id_vec[i],\"_cn\"))\n",
    "        if(method_vec[i]==\"HIL-pos\"  ) return(paste0(compound_id_vec[i],\"_hp\"))\n",
    "        if(method_vec[i]==\"HILIC-pos\") return(paste0(compound_id_vec[i],\"_hp\"))\n",
    "        if(method_vec[i]==\"Amide-Negative-sMRM\") return(paste0(compound_id_vec[i],\"_an\"))\n",
    "})}\n",
    "\n",
    "met_info_fhs$Compound_Id_FHS   <- addMethodSuffix(met_info_fhs$Compound_Id_FHS,   met_info_fhs$Method )\n",
    "met_info_whi$Compound_Id_WHI   <- addMethodSuffix(met_info_whi$Compound_Id_WHI,   met_info_whi$Method )\n",
    "met_info_mesa$Compound_Id_MESA <- addMethodSuffix(met_info_mesa$Compound_Id_MESA, met_info_mesa$Method)\n",
    "met_info_fhs$HMDB_Id           <- addMethodSuffix(met_info_fhs$HMDB_Id,           met_info_fhs$Method )\n",
    "met_info_whi$HMDB_Id           <- addMethodSuffix(met_info_whi$HMDB_Id,           met_info_whi$Method )\n",
    "met_info_mesa$HMDB_Id          <- addMethodSuffix(met_info_mesa$HMDB_Id,          met_info_mesa$Method)"
   ]
  },
  {
   "cell_type": "markdown",
   "metadata": {},
   "source": [
    "Additionally, change bulky (and inconsistent in the case of HILIC+) method names in the Method column."
   ]
  },
  {
   "cell_type": "code",
   "execution_count": null,
   "metadata": {},
   "outputs": [],
   "source": [
    "renameMethods <- function(method_vec) {\n",
    "    ifelse(method_vec==\"C8-pos\", \"cp\",\n",
    "     ifelse(method_vec==\"C18-neg\", \"cn\",\n",
    "      ifelse(method_vec==\"Amide-Negative-sMRM\", \"an\",\n",
    "       ifelse(method_vec==\"HIL-pos\" | method_vec==\"HILIC-pos\", \"hp\", NA))))\n",
    "}\n",
    "\n",
    "met_info_fhs$Method  <- renameMethods(met_info_fhs$Method )\n",
    "met_info_whi$Method  <- renameMethods(met_info_whi$Method )\n",
    "met_info_mesa$Method <- renameMethods(met_info_mesa$Method)\n",
    "\n",
    "table(met_info_fhs$Method); table(met_info_whi$Method); table(met_info_mesa$Method) # Inspect"
   ]
  },
  {
   "cell_type": "markdown",
   "metadata": {},
   "source": [
    "#### Merge if HMDB and method match"
   ]
  },
  {
   "cell_type": "code",
   "execution_count": null,
   "metadata": {},
   "outputs": [],
   "source": [
    "#Finding perfect HMDB _and_ method matches.\n",
    "#Shorthand for variable names examples (imagine a 3-circle venn diagram):\n",
    "  # \"f\" == all HMDBs in FHS\n",
    "  # \"fw_i\" == all FHS & WHI  perfect matches, Including possible triple perfect matches between FHS & WHI & MESA.\n",
    "  # \"wm_e\" ==     WHI & MESA perfect matches, Excluding the triple perfect matches\n",
    "  # \"f_e\" == FHS HMDBS, Excluding HMDBs which perfectly matched anywhere else. I.e. FHS exclusive <HMDB>_<method>s.\n",
    "`%!in%` <- Negate(`%in%`)\n",
    "f <- met_info_fhs[!is.na(HMDB_Id)]$HMDB_Id\n",
    "w <- met_info_whi[!is.na(HMDB_Id)]$HMDB_Id\n",
    "m <- met_info_mesa[!is.na(HMDB_Id)]$HMDB_Id\n",
    "\n",
    "fw_i <- intersect(f,w)\n",
    "fm_i <- intersect(f,m)\n",
    "wm_i <- intersect(w,m)\n",
    "\n",
    "fwm <- intersect(fw_i, fm_i) # triple perfect matches!\n",
    "\n",
    "fw_e <- fw_i[fw_i %!in% fwm]\n",
    "fm_e <- fm_i[fm_i %!in% fwm]\n",
    "wm_e <- wm_i[wm_i %!in% fwm]\n",
    "\n",
    "f_e <- f[(f %!in% w) & (f %!in% m)]\n",
    "w_e <- w[(w %!in% f) & (w %!in% m)]\n",
    "m_e <- m[(m %!in% f) & (m %!in% w)]\n",
    "\n",
    "lengths(list(fw_i,fm_i,wm_i, fwm, fw_e,fm_e,wm_e))\n",
    "lengths(list(f_e,w_e,m_e))"
   ]
  },
  {
   "cell_type": "code",
   "execution_count": null,
   "metadata": {},
   "outputs": [],
   "source": [
    "# Making the parts to rbind together\n",
    "myFn <- function(hmdbs) {\n",
    "    # Metabolites Names. Doesn't matter which cohort it's from, just pick one which is not NA if possible.\n",
    "    nms <- ifelse(!is.na(met_info_fhs[match(hmdbs,HMDB_Id),]$Name),\n",
    "                         met_info_fhs[match(hmdbs,HMDB_Id),]$Name ,\n",
    "                         met_info_whi[match(hmdbs,HMDB_Id),]$Name )\n",
    "    nms <- ifelse(!is.na(nms),\n",
    "                         nms ,\n",
    "                         met_info_mesa[match(hmdbs,HMDB_Id),]$Name)\n",
    "    \n",
    "    # MZ and RT & MRM. Just average them. For MRM, average the two numbers in the \"X -> Y\" separately...\n",
    "      # If there are NAs, then the average will just be between the non-NA ones.\n",
    "    mzs <- rowMeans(as.matrix(data.frame(mz_fhs  = met_info_fhs [match(hmdbs,HMDB_Id),]$MZ,\n",
    "                                         mz_whi  = met_info_whi [match(hmdbs,HMDB_Id),]$MZ,\n",
    "                                         mz_mesa = met_info_mesa[match(hmdbs,HMDB_Id),]$MZ)), na.rm=T)\n",
    "    rts <- rowMeans(as.matrix(data.frame(mz_fhs  = met_info_fhs [match(hmdbs,HMDB_Id),]$RT,\n",
    "                                         mz_whi  = met_info_whi [match(hmdbs,HMDB_Id),]$RT,\n",
    "                                         mz_mesa = met_info_mesa[match(hmdbs,HMDB_Id),]$RT)), na.rm=T)\n",
    "      # Average the first MRM numbers, before the arrow. Then the second, after the arrow.\n",
    "      # Then paste those two averaged numbers back together with an arrow in between again.\n",
    "      # MESA has no MRMs. Its amines file just had names and no other metabolite information.\n",
    "    mrms1 <- rowMeans(as.matrix(data.frame(mrm1_fhs  = as.numeric(sub(\"->.*\",\"\", met_info_fhs [match(hmdbs,HMDB_Id),]$MRM)),\n",
    "                                           mrm1_whi  = as.numeric(sub(\"->.*\",\"\", met_info_whi [match(hmdbs,HMDB_Id),]$MRM)))), na.rm=T)\n",
    "    mrms2 <- rowMeans(as.matrix(data.frame(mrm2_fhs  = as.numeric(sub(\".*->\",\"\", met_info_fhs [match(hmdbs,HMDB_Id),]$MRM)),\n",
    "                                           mrm2_whi  = as.numeric(sub(\".*->\",\"\", met_info_whi [match(hmdbs,HMDB_Id),]$MRM)))), na.rm=T)\n",
    "    mrms <- mapply(function(mrm1,mrm2) { if(is.na(mrm1)) return(NA); paste0(mrm1,\"->\",mrm2) }, mrms1,mrms2)\n",
    "    \n",
    "    # Metabolites Names. As these are perfect matches, methods will all be the same, so just pick whichever is not NA.\n",
    "      # Only need to check two cohorts since method is never NA (unlike name, even when has HMDB), and b/c pigeonhole principle etc. etc. \n",
    "    mthds <- ifelse(!is.na(met_info_fhs[match(hmdbs,HMDB_Id),]$Method),\n",
    "                         met_info_fhs[match(hmdbs,HMDB_Id),]$Method ,\n",
    "                         met_info_whi[match(hmdbs,HMDB_Id),]$Method )\n",
    "\n",
    "    data.frame(\n",
    "        Compound_Id_FHS = met_info_fhs [match(hmdbs,HMDB_Id),]$Compound_Id_FHS,\n",
    "        Compound_Id_WHI = met_info_whi [match(hmdbs,HMDB_Id),]$Compound_Id_WHI,\n",
    "        Compound_Id_MESA= met_info_mesa[match(hmdbs,HMDB_Id),]$Compound_Id_MESA,\n",
    "        HMDB_Id = hmdbs,\n",
    "        Name = nms,\n",
    "        MZ = mzs,\n",
    "        MRM = mrms,\n",
    "        RT = rts,\n",
    "        Method = mthds\n",
    "    )\n",
    "}\n",
    "\n",
    "met_info_knowns <- setDT(do.call(rbind, list(myFn(fwm), myFn(fw_e), myFn(fm_e), myFn(wm_e))))\n",
    "\n",
    "# The NA coercion warnings are just NA_character_'s getting converted to NA_integer_'s.\n",
    "  # You can try the commented code below to double-check this is what's happening.\n",
    "#met_info_fhs[match(fw_e,met_info_fhs$HMDB_Id),] # fine\n",
    "#met_info_fhs[match(fw_e,HMDB_Id),] # fine\n",
    "#sub(\"->.*\",\"\", met_info_fhs[match(fw_e,HMDB_Id),]$MRM) # fine\n",
    "#as.numeric(sub(\"->.*\",\"\", met_info_fhs[match(fw_e,HMDB_Id),]$MRM)) # NA coercion warning"
   ]
  },
  {
   "cell_type": "code",
   "execution_count": null,
   "metadata": {},
   "outputs": [],
   "source": [
    "nrow(met_info_knowns)\n",
    "met_info_knowns[runif(5,1,nrow(met_info_knowns)),] # Inspect 5 random rows\n",
    "\n",
    "table(met_info_knowns[!is.na(Compound_Id_FHS) &\n",
    "                      !is.na(Compound_Id_WHI) &\n",
    "                      !is.na(Compound_Id_MESA)]$Method) # Just curious how many of the perfect matches are from which methods"
   ]
  },
  {
   "cell_type": "code",
   "execution_count": null,
   "metadata": {},
   "outputs": [],
   "source": [
    "met_info_knowns_firstpass <- met_info_knowns # Save copy b/c there are two different ways to do the 2nd pass"
   ]
  },
  {
   "cell_type": "markdown",
   "metadata": {},
   "source": [
    "### Aligning Knowns: 2nd Pass (Conservative Approach)\n",
    "Merging the _remaining_ knowns across cohorts, and now only the HMDB has to match. If there is such a match, it is _not_ guaranteed to be the only one. If there is > 1 possible match, it will be assigned randomly."
   ]
  },
  {
   "cell_type": "code",
   "execution_count": null,
   "metadata": {},
   "outputs": [],
   "source": [
    "sum(duplicated(sub(\"_.*\",\"\",f  )))\n",
    "sum(duplicated(sub(\"_.*\",\"\",w  )))\n",
    "sum(duplicated(sub(\"_.*\",\"\",m  )))\n",
    "sum(duplicated(sub(\"_.*\",\"\",f_e)))\n",
    "sum(duplicated(sub(\"_.*\",\"\",w_e)))\n",
    "sum(duplicated(sub(\"_.*\",\"\",m_e)))\n",
    "# Seems in FHS and WHI all w/i-cohort dups were perfectly-matched away"
   ]
  },
  {
   "cell_type": "code",
   "execution_count": null,
   "metadata": {},
   "outputs": [],
   "source": [
    "# Making the parts to rbind together, 2nd pass\n",
    "# Essentially the same as above, except matching against HMDBs...:\n",
    "  # excluding HMDBs with perfect matches already.\n",
    "  # excluding the \"_<method>\" suffix.\n",
    "\n",
    "myFn <- function(hmdbs) {\n",
    "    # Consider only HMDBs which were not already perfectly matched (i.e. c(f_e,w_e,m_e))\n",
    "    met_info_fhs  <- met_info_fhs [HMDB_Id %in% c(f_e,w_e,m_e)]\n",
    "    met_info_whi  <- met_info_whi [HMDB_Id %in% c(f_e,w_e,m_e)]\n",
    "    met_info_mesa <- met_info_mesa[HMDB_Id %in% c(f_e,w_e,m_e)]\n",
    "    \n",
    "    # Consider only the HMDB when matching, doesn't need to be a perfect HMDB ~and~ method match anymore\n",
    "    hmdbs <- sub(\"_.*\",\"\",hmdbs)\n",
    "    met_info_fhs$HMDB_Id  <- sub(\"_.*\",\"\",met_info_fhs$HMDB_Id )\n",
    "    met_info_whi$HMDB_Id  <- sub(\"_.*\",\"\",met_info_whi$HMDB_Id )\n",
    "    met_info_mesa$HMDB_Id <- sub(\"_.*\",\"\",met_info_mesa$HMDB_Id)\n",
    "\n",
    "    # Metabolites Names. Doesn't matter which cohort it's from, just pick one which is not NA if possible.\n",
    "    nms <- ifelse(!is.na(met_info_fhs[match(hmdbs,HMDB_Id),]$Name),\n",
    "                         met_info_fhs[match(hmdbs,HMDB_Id),]$Name ,\n",
    "                         met_info_whi[match(hmdbs,HMDB_Id),]$Name )\n",
    "    nms <- ifelse(!is.na(nms),\n",
    "                         nms ,\n",
    "                         met_info_mesa[match(hmdbs,HMDB_Id),]$Name)\n",
    "    \n",
    "    # MZ and RT & MRM. Just average them. For MRM, average the two numbers in the \"X -> Y\" separately...\n",
    "      # If there are NAs, then the average will just be between the non-NA ones.\n",
    "    mzs <- rowMeans(as.matrix(data.frame(mz_fhs  = met_info_fhs [match(hmdbs,HMDB_Id),]$MZ,\n",
    "                                         mz_whi  = met_info_whi [match(hmdbs,HMDB_Id),]$MZ,\n",
    "                                         mz_mesa = met_info_mesa[match(hmdbs,HMDB_Id),]$MZ)), na.rm=T)\n",
    "    rts <- rowMeans(as.matrix(data.frame(mz_fhs  = met_info_fhs [match(hmdbs,HMDB_Id),]$RT,\n",
    "                                         mz_whi  = met_info_whi [match(hmdbs,HMDB_Id),]$RT,\n",
    "                                         mz_mesa = met_info_mesa[match(hmdbs,HMDB_Id),]$RT)), na.rm=T)\n",
    "      # Average the first MRM numbers, before the arrow. Then the second, after the arrow.\n",
    "      # Then paste those two averaged numbers back together with an arrow in between again.\n",
    "      # MESA has no MRMs. Its amines file just had names and no other metabolite information.\n",
    "    mrms1 <- rowMeans(as.matrix(data.frame(mrm1_fhs  = as.numeric(sub(\"->.*\",\"\", met_info_fhs [match(hmdbs,HMDB_Id),]$MRM)),\n",
    "                                           mrm1_whi  = as.numeric(sub(\"->.*\",\"\", met_info_whi [match(hmdbs,HMDB_Id),]$MRM)))), na.rm=T)\n",
    "    mrms2 <- rowMeans(as.matrix(data.frame(mrm2_fhs  = as.numeric(sub(\".*->\",\"\", met_info_fhs [match(hmdbs,HMDB_Id),]$MRM)),\n",
    "                                           mrm2_whi  = as.numeric(sub(\".*->\",\"\", met_info_whi [match(hmdbs,HMDB_Id),]$MRM)))), na.rm=T)\n",
    "    mrms <- mapply(function(mrm1,mrm2) { if(is.na(mrm1)) return(NA); paste0(mrm1,\"->\",mrm2) }, mrms1,mrms2)\n",
    "\n",
    "    data.frame(\n",
    "        Compound_Id_FHS = met_info_fhs [match(hmdbs,HMDB_Id),]$Compound_Id_FHS,\n",
    "        Compound_Id_WHI = met_info_whi [match(hmdbs,HMDB_Id),]$Compound_Id_WHI,\n",
    "        Compound_Id_MESA= met_info_mesa[match(hmdbs,HMDB_Id),]$Compound_Id_MESA,\n",
    "        HMDB_Id = hmdbs,\n",
    "        Name = nms,\n",
    "        MZ = mzs,\n",
    "        MRM = mrms,\n",
    "        RT = rts,\n",
    "        Method = paste(met_info_fhs [match(hmdbs,HMDB_Id)]$Method,\n",
    "                       met_info_whi [match(hmdbs,HMDB_Id)]$Method,\n",
    "                       met_info_mesa[match(hmdbs,HMDB_Id)]$Method, sep='_')\n",
    "    )\n",
    "}\n",
    "\n",
    "met_info_knowns <- do.call(rbind, list(met_info_knowns, myFn(f_e), myFn(w_e), myFn(m_e)))\n",
    "\n",
    "# TODO maybe useful later\n",
    "#for(hmdb_mthd in f_e) {\n",
    "#    hmdb <- sub(\"_.*\",\"\",hmdb_mthd)\n",
    "#    mthd <- sub(\".*_\",\"\",hmdb_mthd)\n",
    "#}"
   ]
  },
  {
   "cell_type": "code",
   "execution_count": null,
   "metadata": {},
   "outputs": [],
   "source": [
    "nrow(met_info_knowns)\n",
    "met_info_knowns[runif(5,1,nrow(met_info_knowns)),] # Inspect 5 random rows"
   ]
  },
  {
   "cell_type": "code",
   "execution_count": null,
   "metadata": {},
   "outputs": [],
   "source": [
    "# wait, are there not even any imperfect matches left after the perfect matching? Or is the code block above bugged?\n",
    "  # b/c not seeing any mixed-method rows, only single-entry rows\n",
    "intersect(sub(\"_.*\",\"\",f_e), sub(\"_.*\",\"\",w_e))\n",
    "intersect(sub(\"_.*\",\"\",f_e), sub(\"_.*\",\"\",m_e))\n",
    "intersect(sub(\"_.*\",\"\",w_e), sub(\"_.*\",\"\",m_e))\n",
    "# :o there are not?! Then don't even have to consider as much of the imperfect-matching hullabaloo! Nice!!\n",
    "  # Still is the consideration of whether to \"sully\" some of 2-perfect match rows to get more 3-match rows.\n",
    "  # But at least knowing there is no matching left to do between the not-already-matched rows makes things a bit easier.\n",
    "    # I.e. that means that the \"conservative approach\" is already done, then, no more steps required."
   ]
  },
  {
   "cell_type": "code",
   "execution_count": null,
   "metadata": {},
   "outputs": [],
   "source": [
    "# So Fix the method column then, because all the \"mixed\" matches are just one method and two NAs.\n",
    "met_info_knowns$Method <- gsub(\"N|A|_\",\"\",met_info_knowns$Method)\n",
    "\n",
    "# And give the HMDBs their suffixes back as well\n",
    "met_info_knowns$HMDB_Id <- sub(\"_.*\",\"\",met_info_knowns$HMDB_Id)\n",
    "met_info_knowns$HMDB_Id <- paste0(met_info_knowns$HMDB_Id,'_',met_info_knowns$Method)\n",
    "\n",
    "# (If I knew this before I could have made the code a bit more elegant and remove this code block,\n",
    "#  but I will leave it to show the complete thought process (and because I am lazy))"
   ]
  },
  {
   "cell_type": "code",
   "execution_count": null,
   "metadata": {},
   "outputs": [],
   "source": [
    "met_info_knowns[runif(5,1,nrow(met_info_knowns)),] # Inspect 5 random rows"
   ]
  },
  {
   "cell_type": "markdown",
   "metadata": {},
   "source": [
    "### Aligning Knowns: 2nd Pass (Non-conservative Approach)\n",
    "In attempt to get more 3-matches (across all 3 cohorts), some perfect 2-matches could be converted to non-perfect 3-matches."
   ]
  },
  {
   "cell_type": "code",
   "execution_count": null,
   "metadata": {},
   "outputs": [],
   "source": [
    "nrow(met_info_knowns_firstpass[is.na(Compound_Id_FHS),]) # 20 rows of perfect 2-matches where FHS is NA. In other words, wm_e.\n",
    "tmp <- f[grep( paste(sub(\"_.*\",\"\",wm_e), collapse='|'), f)]\n",
    "# tmp # just two ways to make new (imperfect) 3-matches by filling the holes in these perfect matches, but...\n",
    "tmp[tmp %!in% fwm] # Actually no ways b/c one of the HMDBs is already part of a perfect 3-match, so should not be moved.\n",
    "\n",
    "nrow(met_info_knowns_firstpass[is.na(Compound_Id_WHI),]) # 20 rows of perfect 2-matches where FHS is NA. In other words, fm_e.\n",
    "tmp <- w[grep( paste(sub(\"_.*\",\"\",fm_e), collapse='|'), w)]\n",
    "tmp[tmp %!in% fwm] # Just one HMDB not already in a perfect 3-match which could be used to make an imperfect 3-match here. \n",
    "\n",
    "nrow(met_info_knowns_firstpass[is.na(Compound_Id_MESA),]) # 176 rows of perfect 2-matches where FHS is NA. In other words, fw_e.\n",
    "tmp <- m[grep( paste(sub(\"_.*\",\"\",fw_e), collapse='|'), m)]\n",
    "tmp[tmp %!in% fwm] # Could make three more imperfect 3-matches with these\n",
    "\n",
    "# TODO: ask, decision to make\n",
    "# There are already 418 perfect 3-matches.\n",
    "# Is it worth mixing the methods of some metabolites to make 6 more 3-matches useable for the all-cohort analysis?\n",
    "# For easy reference, the 6 metabolties in question are:\n",
    "  # LysoPC(18:3(6Z,9Z,12Z)/0:0) (cp) hmdb.ca/metabolites/HMDB0010387\n",
    "  # Deoxyuridine (hp)                hmdb.ca/metabolites/HMDB0000012\n",
    "  # LysoPC again, but (hp)           hmdb.ca/metabolites/HMDB0010387\n",
    "  # Docosahexaenoic acid (an)        hmdb.ca/metabolites/HMDB0002183\n",
    "  # Salicylic acid (an)              hmdb.ca/metabolites/HMDB0001895\n",
    "  # Warfarin (an)                    hmdb.ca/metabolites/HMDB0001935\n",
    "# Decision: include them"
   ]
  },
  {
   "cell_type": "code",
   "execution_count": null,
   "metadata": {},
   "outputs": [],
   "source": [
    "#met_info_knowns[!is.na(HMDB_Id) & !grepl(\"HMDB\",HMDB_Id)]\n",
    "met_info_knowns[sub(\"_.*\",\"\",HMDB_Id)==\"HMDB0000012\"]\n",
    "met_info_knowns[sub(\"_.*\",\"\",HMDB_Id)==\"HMDB0002183\"]\n",
    "met_info_knowns[sub(\"_.*\",\"\",HMDB_Id)==\"HMDB0001895\"]\n",
    "met_info_knowns[sub(\"_.*\",\"\",HMDB_Id)==\"HMDB0001935\"]"
   ]
  },
  {
   "cell_type": "markdown",
   "metadata": {},
   "source": [
    "Manually hardcoding merging these rows b/c there are only 6 and I am lazy to write the general code"
   ]
  },
  {
   "cell_type": "code",
   "execution_count": null,
   "metadata": {},
   "outputs": [],
   "source": [
    "met_info_knowns[HMDB_Id==\"HMDB0000012_an\", `:=`(HMDB_Id=\"HMDB0000012_an_hp_an\", Compound_Id_WHI=\"QI17050_hp\",              Method=\"Mixed\")]\n",
    "met_info_knowns[HMDB_Id==\"HMDB0002183_cn\", `:=`(HMDB_Id=\"HMDB0002183_cn_cn_an\", Compound_Id_MESA=\"Docosahexenoic_acid_an\", Method=\"Mixed\")]\n",
    "met_info_knowns[HMDB_Id==\"HMDB0001895_cn\", `:=`(HMDB_Id=\"HMDB0001895_cn_cn_an\", Compound_Id_MESA=\"Salicylic_acid_an\",      Method=\"Mixed\")]\n",
    "met_info_knowns[HMDB_Id==\"HMDB0001935_cn\", `:=`(HMDB_Id=\"HMDB0001935_cn_cn_an\", Compound_Id_MESA=\"Warfarin_an\",            Method=\"Mixed\")]"
   ]
  },
  {
   "cell_type": "code",
   "execution_count": null,
   "metadata": {},
   "outputs": [],
   "source": [
    "# Look at the merged rows\n",
    "met_info_knowns[sub(\"_.*\",\"\",HMDB_Id)==\"HMDB0000012\"]\n",
    "met_info_knowns[sub(\"_.*\",\"\",HMDB_Id)==\"HMDB0002183\"]\n",
    "met_info_knowns[sub(\"_.*\",\"\",HMDB_Id)==\"HMDB0001895\"]\n",
    "met_info_knowns[sub(\"_.*\",\"\",HMDB_Id)==\"HMDB0001935\"]"
   ]
  },
  {
   "cell_type": "code",
   "execution_count": null,
   "metadata": {},
   "outputs": [],
   "source": [
    "# Rm the now-redundant singleton rows which were used to make the imperfect matches\n",
    "met_info_knowns <- met_info_knowns[HMDB_Id %!in% c(\"HMDB0000012_hp\", \"HMDB0002183_an\", \"HMDB0001895_an\", \"HMDB0001935_an\")]\n",
    "\n",
    "# Confirm they were removed\n",
    "met_info_knowns[sub(\"_.*\",\"\",HMDB_Id)==\"HMDB0000012\"]\n",
    "met_info_knowns[sub(\"_.*\",\"\",HMDB_Id)==\"HMDB0002183\"]\n",
    "met_info_knowns[sub(\"_.*\",\"\",HMDB_Id)==\"HMDB0001895\"]\n",
    "met_info_knowns[sub(\"_.*\",\"\",HMDB_Id)==\"HMDB0001935\"]"
   ]
  },
  {
   "cell_type": "markdown",
   "metadata": {},
   "source": [
    "### Aligning _unknowns_"
   ]
  },
  {
   "cell_type": "markdown",
   "metadata": {},
   "source": [
    "#### Use MESA-WHI C8 & HILIC+ aligned unknowns files"
   ]
  },
  {
   "cell_type": "code",
   "execution_count": null,
   "metadata": {},
   "outputs": [],
   "source": [
    "system('gsutil cp \"gs://fc-secure-4b3e979d-ba8b-43c4-a5ec-b41ab42ce606/WHI_Aligned_to_MESA_HILIC-pos_export_file - WHI_Aligned_to_MESA_HILIC-pos_export_file.csv\" . 2>&1')\n",
    "system(\"gsutil cp gs://fc-secure-4b3e979d-ba8b-43c4-a5ec-b41ab42ce606/WHI_Aligned_to_MESA_C8-pos_export_file.csv . 2>&1\")"
   ]
  },
  {
   "cell_type": "code",
   "execution_count": null,
   "metadata": {},
   "outputs": [],
   "source": [
    "cp <- fread(\"WHI_Aligned_to_MESA_C8-pos_export_file.csv\")\n",
    "hp <- fread(\"WHI_Aligned_to_MESA_HILIC-pos_export_file - WHI_Aligned_to_MESA_HILIC-pos_export_file.csv\")"
   ]
  },
  {
   "cell_type": "code",
   "execution_count": null,
   "metadata": {},
   "outputs": [],
   "source": [
    "dim(cp); head(cp); dim(hp); head(hp);\n",
    "head(cp[,!grepl(\"\\\\.raw|TOM|QCPP\",colnames(cp)),with=F]) # head excluding samples. Just info columns\n",
    "head(hp[,!grepl(\"\\\\.raw|TOM|QCPP\",colnames(hp)),with=F])\n",
    "# Checked: the whole HMDB_ID column (and Assignemnt certainty and Raw_file_name columns) are all NA. So only unknowns.\n",
    "# Also, the nrows (# of metabolites) of these are much smaller than even the MESA or WHI file separately,\n",
    "  # so I guess these must be only the unknowns which the two had in common, which have now been aligned.\n",
    "# The columns named \"TOM#####\" match the MESA TOM ids.\n",
    "# The other long names (####_TOPMed5_####-51.raw) are from the \"Raw_file_name\" row of the WHI files."
   ]
  },
  {
   "cell_type": "code",
   "execution_count": null,
   "metadata": {},
   "outputs": [],
   "source": [
    "#Showing that \"Compound_ID\" refers to WHI's compound ids, and \"Compound_ID_2\" refers to MESA\n",
    "nrow(cp)\n",
    "length(intersect(  unlist(dts1[[\"cp_WHI\"]][,compound_id_cols[6],with=F]),\n",
    "                   cp$Compound_ID))\n",
    "length(intersect(  unlist(dts1[[\"cp_MESA\"]][,compound_id_cols[9],with=F]),\n",
    "                   cp$Compound_ID_2))\n",
    "\n",
    "nrow(hp)\n",
    "length(intersect(  unlist(dts1[[\"hp_WHI\"]][,compound_id_cols[7],with=F]),\n",
    "                   hp$Compound_ID))\n",
    "length(intersect(  unlist(dts1[[\"hp_MESA\"]][,compound_id_cols[10],with=F]),\n",
    "                   hp$Compound_ID_2))"
   ]
  },
  {
   "cell_type": "code",
   "execution_count": null,
   "metadata": {},
   "outputs": [],
   "source": [
    "# Add compound id suffix to match met_info\n",
    "cp$Compound_ID   <- paste0(cp$Compound_ID,  \"_cp\")\n",
    "cp$Compound_ID_2 <- paste0(cp$Compound_ID_2,\"_cp\")\n",
    "hp$Compound_ID   <- paste0(hp$Compound_ID,  \"_hp\")\n",
    "hp$Compound_ID_2 <- paste0(hp$Compound_ID_2,\"_hp\")"
   ]
  },
  {
   "cell_type": "markdown",
   "metadata": {},
   "source": [
    "#### Remove the mets already present in met_info_knowns?\n",
    "Actually there are none!"
   ]
  },
  {
   "cell_type": "code",
   "execution_count": null,
   "metadata": {},
   "outputs": [],
   "source": [
    "met_info_knowns[Compound_Id_WHI  %in% c(cp$Compound_ID,  hp$Compound_ID  ),]\n",
    "met_info_knowns[Compound_Id_MESA %in% c(cp$Compound_ID_2,hp$Compound_ID_2),]"
   ]
  },
  {
   "cell_type": "markdown",
   "metadata": {},
   "source": [
    "#### Make sure none of the aligned unknowns are actually known?\n",
    "Indeed there are no knowns"
   ]
  },
  {
   "cell_type": "code",
   "execution_count": null,
   "metadata": {},
   "outputs": [],
   "source": [
    "inds <- which(unlist(dts1[[6]][,compound_id_cols[6],with=F]) %in% cp$Compound_ID)\n",
    "unlist(dts1[[6]][inds,hmdb_id_cols[6],with=F])\n",
    "\n",
    "inds <- which(unlist(dts1[[7]][,compound_id_cols[7],with=F]) %in% hp$Compound_ID)\n",
    "unlist(dts1[[7]][inds,compound_id_cols[7],with=F])\n",
    "\n",
    "inds <- which(unlist(dts1[[9]][,compound_id_cols[9],with=F]) %in% cp$Compound_ID_2)\n",
    "unlist(dts1[[9]][inds,hmdb_id_cols[9],with=F])\n",
    "\n",
    "inds <- which(unlist(dts1[[10]][,compound_id_cols[10],with=F]) %in% hp$Compound_ID_2)\n",
    "unlist(dts1[[10]][inds,hmdb_id_cols[10],with=F])"
   ]
  },
  {
   "cell_type": "markdown",
   "metadata": {},
   "source": [
    "#### Merge aligned knowns met info with aligned unknowns met info"
   ]
  },
  {
   "cell_type": "code",
   "execution_count": null,
   "metadata": {},
   "outputs": [],
   "source": [
    "met_info_aligned_unknowns <- data.table(Compound_Id_FHS = NA,\n",
    "                                        Compound_Id_WHI = c(cp$Compound_ID,   hp$Compound_ID  ),\n",
    "                                        Compound_Id_MESA= c(cp$Compound_ID_2, hp$Compound_ID_2),\n",
    "                                        HMDB_Id = NA,\n",
    "                                        Name = NA,\n",
    "                                        MZ = c(cp$MZ+cp$MZ_2, hp$MZ+hp$MZ_2) / 2,\n",
    "                                        MRM = NA,\n",
    "                                        RT = c(cp$RT+cp$RT_2, hp$RT+hp$RT_2) / 2,\n",
    "                                        Method = c(rep(\"cp\",nrow(cp)),rep(\"hp\",nrow(hp)))\n",
    "                                       )\n",
    "dim(met_info_aligned_unknowns); head(met_info_aligned_unknowns); tail(met_info_aligned_unknowns)"
   ]
  },
  {
   "cell_type": "code",
   "execution_count": null,
   "metadata": {},
   "outputs": [],
   "source": [
    "met_info <- rbind(met_info_knowns, met_info_aligned_unknowns)\n",
    "dim(met_info); head(met_info); tail(met_info)"
   ]
  },
  {
   "cell_type": "markdown",
   "metadata": {},
   "source": [
    "#### Add the rest of (unaligned) unknowns to met_info\n",
    "Making sure not to duplicate unknowns which are already in met_info"
   ]
  },
  {
   "cell_type": "code",
   "execution_count": null,
   "metadata": {},
   "outputs": [],
   "source": [
    "met_info_fhs2  <- met_info_fhs [Compound_Id_FHS  %!in% met_info$Compound_Id_FHS ,]\n",
    "met_info_whi2  <- met_info_whi [Compound_Id_WHI  %!in% met_info$Compound_Id_WHI ,]\n",
    "met_info_mesa2 <- met_info_mesa[Compound_Id_MESA %!in% met_info$Compound_Id_MESA,]\n",
    "\n",
    "paste(nrow(met_info_fhs), nrow(met_info_fhs2)); paste(nrow(met_info_whi), nrow(met_info_whi2)); paste(nrow(met_info_mesa), nrow(met_info_mesa2))\n",
    "\n",
    "met_info <- rbind(met_info, met_info_fhs2, met_info_whi2, met_info_mesa2)\n",
    "dim(met_info); head(met_info); tail(met_info)"
   ]
  },
  {
   "cell_type": "markdown",
   "metadata": {},
   "source": [
    "#### Inspect random rows"
   ]
  },
  {
   "cell_type": "code",
   "execution_count": null,
   "metadata": {},
   "outputs": [],
   "source": [
    "met_info[runif(10,1,nrow(met_info))] # Random selection of 10 rows\n",
    "table(met_info$Method)"
   ]
  },
  {
   "cell_type": "markdown",
   "metadata": {},
   "source": [
    "## Write"
   ]
  },
  {
   "cell_type": "code",
   "execution_count": null,
   "metadata": {},
   "outputs": [],
   "source": [
    "dir.create(\"PH_files\", showWarnings=F)\n",
    "write.csv(sample_info, \"PH_files/sample_info.csv\",  row.names=F)\n",
    "write.csv(met_info,    \"PH_files/met_info_v12.csv\", row.names=F)\n",
    "system(paste(\"gsutil cp -R PH_files\", Sys.getenv('WORKSPACE_BUCKET')))"
   ]
  }
 ],
 "metadata": {
  "kernelspec": {
   "display_name": "R",
   "language": "R",
   "name": "ir"
  },
  "language_info": {
   "codemirror_mode": "r",
   "file_extension": ".r",
   "mimetype": "text/x-r-source",
   "name": "R",
   "pygments_lexer": "r",
   "version": "4.3.0"
  },
  "toc": {
   "base_numbering": 1,
   "nav_menu": {},
   "number_sections": true,
   "sideBar": true,
   "skip_h1_title": false,
   "title_cell": "Table of Contents",
   "title_sidebar": "Contents",
   "toc_cell": false,
   "toc_position": {},
   "toc_section_display": true,
   "toc_window_display": false
  }
 },
 "nbformat": 4,
 "nbformat_minor": 2
}
