{
 "cells": [
  {
   "cell_type": "markdown",
   "metadata": {},
   "source": [
    "# Preliminaries"
   ]
  },
  {
   "cell_type": "code",
   "execution_count": null,
   "metadata": {},
   "outputs": [],
   "source": [
    "suppressPackageStartupMessages(library(tidyverse))\n",
    "library(patchwork)"
   ]
  },
  {
   "cell_type": "code",
   "execution_count": null,
   "metadata": {},
   "outputs": [],
   "source": [
    "ws_namespace <- Sys.getenv(\"WORKSPACE_NAMESPACE\")\n",
    "ws_name <- Sys.getenv(\"WORKSPACE_NAME\")\n",
    "ws_bucket <- Sys.getenv(\"WORKSPACE_BUCKET\")"
   ]
  },
  {
   "cell_type": "code",
   "execution_count": null,
   "metadata": {},
   "outputs": [],
   "source": [
    "theme_set(theme_bw())"
   ]
  },
  {
   "cell_type": "markdown",
   "metadata": {},
   "source": [
    "## Read in phenotypic and metabolomic data"
   ]
  },
  {
   "cell_type": "markdown",
   "metadata": {},
   "source": [
    "* Phenotype data come from integrating inputs from dbGaP (/PIC-SURE), MESA investigators, and metadata from metabolomic preprocessing.\n",
    "* Genotype data come from dbGaP (Freeze 9b TOPMed-wide genotype VCF files)."
   ]
  },
  {
   "cell_type": "code",
   "execution_count": null,
   "metadata": {},
   "outputs": [],
   "source": [
    "list.files()"
   ]
  },
  {
   "cell_type": "code",
   "execution_count": null,
   "metadata": {},
   "outputs": [],
   "source": [
    "analysis_df <- read_csv(\"analysis/analysis_df.csv\", col_types=cols())\n",
    "names(analysis_df)"
   ]
  },
  {
   "cell_type": "code",
   "execution_count": null,
   "metadata": {},
   "outputs": [],
   "source": [
    "snp_info_df <- read_csv(\"genotypes/snp_info.csv\", col_types=cols())"
   ]
  },
  {
   "cell_type": "markdown",
   "metadata": {},
   "source": [
    "# Explore physical activity main effects and covariate adjustments"
   ]
  },
  {
   "cell_type": "markdown",
   "metadata": {},
   "source": [
    "## Preprocessing"
   ]
  },
  {
   "cell_type": "code",
   "execution_count": null,
   "metadata": {},
   "outputs": [],
   "source": [
    "winsorize_quantile <- function(x, quantiles = c(0.05, 0.95)) {\n",
    "  bounds <- quantile(x, quantiles, na.rm = TRUE)\n",
    "  print(paste0(sum(x < bounds[1], na.rm = TRUE), \" values winsorized at the lower bound.\"))\n",
    "  print(paste0(sum(x > bounds[2], na.rm = TRUE), \" values winsorized at the upper bound.\"))\n",
    "  case_when(\n",
    "    x < bounds[1] ~ bounds[1],\n",
    "    x > bounds[2] ~ bounds[2],\n",
    "    TRUE ~ x\n",
    "  )\n",
    "}\n",
    "\n",
    "truncate_quantile <- function(x, quantiles = c(0.05, 0.95)) {\n",
    "  bounds <- quantile(x, quantiles, na.rm = TRUE)\n",
    "  print(paste0(sum(x < bounds[1], na.rm = TRUE), \" values truncated at the lower bound.\"))\n",
    "  print(paste0(sum(x > bounds[2], na.rm = TRUE), \" values truncated at the upper bound.\"))\n",
    "  case_when(\n",
    "    x < bounds[1] ~ as.numeric(NA),\n",
    "    x > bounds[2] ~ as.numeric(NA),\n",
    "    TRUE ~ x\n",
    "  )\n",
    "}"
   ]
  },
  {
   "cell_type": "code",
   "execution_count": null,
   "metadata": {},
   "outputs": [],
   "source": [
    "raw_pa_fields <- c(\"mvpa\", \"mod_pa\", \"vig_pa\")\n",
    "\n",
    "pa_fields <- c(raw_pa_fields, \n",
    "               paste0(raw_pa_fields, \"_log\"),\n",
    "               paste0(raw_pa_fields, \"_win\"),\n",
    "               paste0(raw_pa_fields, \"_trunc\"))\n",
    "\n",
    "analysis_df <- analysis_df %>%\n",
    "  mutate(across(all_of(raw_pa_fields), ~ log(. + 1), .names = \"{.col}_log\"),\n",
    "         across(all_of(raw_pa_fields), \n",
    "                ~ winsorize_quantile(., c(0, 0.9)), .names = \"{.col}_win\"),\n",
    "         across(all_of(raw_pa_fields), ~ truncate_quantile(., c(0, 0.9)), \n",
    "                .names = \"{.col}_trunc\"))"
   ]
  },
  {
   "cell_type": "markdown",
   "metadata": {},
   "source": [
    "## Distributions"
   ]
  },
  {
   "cell_type": "code",
   "execution_count": null,
   "metadata": {},
   "outputs": [],
   "source": [
    "dim(analysis_df)\n",
    "table(is.na(analysis_df$hdl))"
   ]
  },
  {
   "cell_type": "code",
   "execution_count": null,
   "metadata": {},
   "outputs": [],
   "source": [
    "options(repr.plot.width=16, repr.plot.height=5)\n",
    "\n",
    "mvpa_hist <- analysis_df %>%\n",
    "  filter(!is.na(mvpa)) %>%\n",
    "  ggplot(aes(x = mvpa_win)) +\n",
    "  geom_histogram(bins = 30) +\n",
    "  labs(x = \"MVPA\", y = \"Count\")\n",
    "\n",
    "mvpa_smooth <- analysis_df %>%\n",
    "  filter(!is.na(mvpa)) %>%\n",
    "  ggplot(aes(x = mvpa_win, y = hdl)) +\n",
    "  geom_smooth(method = \"gam\", formula = y ~ s(x, bs = \"cs\"), \n",
    "              se = TRUE, na.rm = TRUE) +\n",
    "  labs(x = \"MVPA\", y = \"HDL-C - unadjusted\")\n",
    "\n",
    "mvpa_hist + mvpa_smooth"
   ]
  },
  {
   "cell_type": "code",
   "execution_count": null,
   "metadata": {},
   "outputs": [],
   "source": [
    "# a <- analysis_df %>%\n",
    "# mutate(HDL_P_calc = H1P + H2P + H3P + H4P + H5P + H6P + H7P)\n",
    "\n",
    "# a %>%\n",
    "# select(mesa_id, matches(\"H.P\")) %>%\n",
    "# pivot_longer(-mesa_id, names_to = \"subfraction\", values_to = \"concentration\") %>%\n",
    "# group_by(subfraction) %>%\n",
    "# summarise(m = mean(concentration, na.rm = TRUE)) %>%\n",
    "# ggplot(aes(x = \"\", y = m, fill = subfraction)) +\n",
    "# geom_bar(stat = \"identity\", width = 1) +\n",
    "# coord_polar(\"y\")"
   ]
  },
  {
   "cell_type": "markdown",
   "metadata": {},
   "source": [
    "## Main effects"
   ]
  },
  {
   "cell_type": "code",
   "execution_count": null,
   "metadata": {},
   "outputs": [],
   "source": [
    "fit_main_effect_model <- function(y, e, covars, df, std = TRUE) {\n",
    "  if (std) {\n",
    "    df[[y]] <- scale(df[[y]])\n",
    "    df[[e]] <- scale(df[[e]])\n",
    "  }  \n",
    "  form_str <- paste0(y, \" ~ \", e, \" + \", paste(covars, collapse=\" + \"))\n",
    "  lm_fit <- lm(as.formula(form_str), data=df) \n",
    "  lm_fit %>%\n",
    "      broom::tidy() %>%\n",
    "      filter(term == e)\n",
    "}\n",
    "\n",
    "basic_covars <- c(\"site\", \"gender_f0m1\", \"age\")\n",
    "covar_sets <- list(\n",
    "    basic = basic_covars,\n",
    "    add_ses = c(basic_covars, \"ses_score\", \"income_cat\"),\n",
    "    add_ses_HL = c(basic_covars, \"ses_score\", \"income_cat\", \n",
    "                              \"drinks_per_week\", \"smoking\", \"ahei_score\", \"dash_score\"),\n",
    "    add_ses_HL_gPC = c(basic_covars, \"ses_score\", \"income_cat\", \n",
    "                              \"drinks_per_week\", \"smoking\", \"ahei_score\", \"dash_score\",\n",
    "                       paste0(\"gPC\", 1:5)),\n",
    "    add_ses_HL_race = c(basic_covars, \"ses_score\", \"income_cat\", \n",
    "                              \"drinks_per_week\", \"smoking\", \"ahei_score\", \"dash_score\",\n",
    "                   \"race\")\n",
    ")"
   ]
  },
  {
   "cell_type": "code",
   "execution_count": null,
   "metadata": {},
   "outputs": [],
   "source": [
    "# Impute missing covariate values to avoid major drops in sample size\n",
    "analysis_df <- analysis_df %>%\n",
    "  mutate(income_cat = ifelse(is.na(income_cat), \"Missing\", income_cat),  # Add missing indicators to SES & HL covariates rather than drop them\n",
    "         smoking = ifelse(is.na(smoking), \"NEVER\", smoking),\n",
    "         across(all_of(c(\"ses_score\", \"drinks_per_week\", \"ahei_score\", \"dash_score\")), \n",
    "                ~ ifelse(is.na(.), median(., na.rm = TRUE), .)))"
   ]
  },
  {
   "cell_type": "code",
   "execution_count": null,
   "metadata": {},
   "outputs": [],
   "source": [
    "main_effect_sensitivity_res_df <- expand_grid(\n",
    "  e = c(pa_fields, \"rs295849\"),\n",
    "  y = \"hdl_log\",\n",
    "  covar_set = names(covar_sets)\n",
    ") %>%\n",
    "  rowwise() %>%\n",
    "  mutate(lm_fit = list(fit_main_effect_model(y, e, covar_sets[[covar_set]], analysis_df))) %>%\n",
    "  unnest(lm_fit)"
   ]
  },
  {
   "cell_type": "code",
   "execution_count": null,
   "metadata": {},
   "outputs": [],
   "source": [
    "options(repr.plot.width=16, repr.plot.height=5)\n",
    "\n",
    "main_effect_sensitivity_res_df %>%\n",
    "  filter(e %in% c(\"pa_win\", \"rs295849\"),\n",
    "         y == \"hdl_log\") %>%\n",
    "  mutate(l95 = estimate - 1.96 * std.error,\n",
    "         u95 = estimate + 1.96 * std.error,\n",
    "         covar_set = factor(covar_set, levels=names(covar_sets))) %>%\n",
    "  ggplot(aes(x=covar_set, y=estimate)) +\n",
    "  geom_point() +\n",
    "  geom_errorbar(aes(ymin=l95, ymax=u95), width=0.2) +\n",
    "  geom_hline(yintercept=0, color=\"gray\") +\n",
    "  facet_wrap(vars(e), scale=\"free_y\", nrow=1) +\n",
    "  labs(x=\"Covariate set\", y=\"Standardized PA or SNP main effect estimate (95% CI)\",\n",
    "       title=\"Main effects in the full MESA dataset\")"
   ]
  },
  {
   "cell_type": "markdown",
   "metadata": {},
   "source": [
    "It appears that both gPCs and race variables have some effect on PA effect estimates. Given this, and the multi-population nature of this dataset, we will include 5 gPCs in subsequent models (in addition to PA x gPC interaction terms for GxE tests)."
   ]
  },
  {
   "cell_type": "code",
   "execution_count": null,
   "metadata": {},
   "outputs": [],
   "source": [
    "covars <- covar_sets$add_ses_HL_gPC"
   ]
  },
  {
   "cell_type": "code",
   "execution_count": null,
   "metadata": {},
   "outputs": [],
   "source": [
    "main_effect_sensitivity_res_df %>%\n",
    "  filter(e != \"rs295849\",\n",
    "         covar_set == \"add_ses_HL_gPC\") %>%\n",
    "  arrange(desc(statistic)) %>%\n",
    "  mutate(e = factor(e, levels = e, labels = e)) %>%\n",
    "  ggplot(aes(x=e, y=statistic)) +\n",
    "  geom_bar(stat=\"identity\", width=0.5) +\n",
    "  geom_hline(yintercept=0, color=\"gray\") +\n",
    "  facet_wrap(~y, nrow=2) +\n",
    "  labs(x=\"Covariate set\", y=\"Z-statistic\",\n",
    "       title=\"Significance of main effects for alternative PA variables\") +\n",
    "  theme(axis.text.x = element_text(angle = 30, hjust = 0.9))"
   ]
  },
  {
   "cell_type": "markdown",
   "metadata": {},
   "source": [
    "It also appears that vigorous PA has a substantially stronger association with HDL-C than the \"intentional PA\" variable used in the CHARGE Phase I meta-analysis."
   ]
  },
  {
   "cell_type": "code",
   "execution_count": null,
   "metadata": {},
   "outputs": [],
   "source": [
    "main_effect_sex_int_res <- lm(\n",
    "  hdl ~ mvpa_win * gender_f0m1 + site + age + ses_score + income_cat + \n",
    "  drinks_per_week + smoking + ahei_score + dash_score + gPC1 + gPC2 + gPC3 + gPC4 + gPC5,\n",
    "  data = analysis_df\n",
    ") %>%\n",
    "  broom::tidy()\n",
    "  \n",
    "main_effect_sex_int_res %>%\n",
    "  filter(grepl(\"mvpa|gender\", term))"
   ]
  },
  {
   "cell_type": "code",
   "execution_count": null,
   "metadata": {},
   "outputs": [],
   "source": [
    "primary_pa_fields <- paste0(c(\"mvpa\", \"mod_pa\", \"vig_pa\"), \"_win\")\n",
    "primary_pa_fields_clean <- c(\"Moderate + vigorous PA\",\n",
    "                             \"Moderate PA\", \"Vigorous PA\")"
   ]
  },
  {
   "cell_type": "markdown",
   "metadata": {},
   "source": [
    "# Test for the primary interactions"
   ]
  },
  {
   "cell_type": "markdown",
   "metadata": {},
   "source": [
    "Can we reproduce in MESA the interactions found in the original CHARGE GLI meta-analyses?"
   ]
  },
  {
   "cell_type": "markdown",
   "metadata": {},
   "source": [
    "## Previously reported GxEs"
   ]
  },
  {
   "cell_type": "markdown",
   "metadata": {},
   "source": [
    "SNPs come from the CHARGE GLI Phase I PA-lipids paper: Kilpelainen et al. 2019, *Nat. Comm.* (https://doi.org/10.1038/s41467-018-08008-w).\n",
    "\n",
    "Physical activity was coded as a binary variable. HDL-C was log-transformed prior to analysis.\n",
    "\n",
    "Details on the genetic variants:"
   ]
  },
  {
   "cell_type": "code",
   "execution_count": null,
   "metadata": {},
   "outputs": [],
   "source": [
    "head(snp_info_df)"
   ]
  },
  {
   "cell_type": "markdown",
   "metadata": {},
   "source": [
    "Details on the previously reported GxE effects:"
   ]
  },
  {
   "cell_type": "code",
   "execution_count": null,
   "metadata": {},
   "outputs": [],
   "source": [
    "gli_info_df <- tribble(\n",
    "    ~SNP, ~exposure, ~outcome, ~effect_allele, ~EAF, ~beta_int, ~se_int,\n",
    "    \"rs2862183\", \"pa\", \"hdl_log\", \"T\", \"0.22\", \"-0.014\", \"0.003\",\n",
    "    \"rs295849\", \"pa\", \"hdl_log\", \"T\", \"0.38\", \"0.009\", \"0.002\",\n",
    "    \"rs141588480\", \"pa\", \"hdl_log\", \"Ins\", \"0.95\", \"-0.054\", \"0.010\") %>%\n",
    "    mutate(across(c(EAF, beta_int, se_int), as.numeric)) %>%\n",
    "    filter(SNP != \"rs141588480\")\n",
    "\n",
    "gli_info_df"
   ]
  },
  {
   "cell_type": "markdown",
   "metadata": {},
   "source": [
    "## Replication of the primary GxEs in MESA"
   ]
  },
  {
   "cell_type": "code",
   "execution_count": null,
   "metadata": {},
   "outputs": [],
   "source": [
    "test_gxe <- function(y, snp, e, covars, df, std = TRUE, e_by_gPC = TRUE) {\n",
    "    if (std) {\n",
    "        df[[y]] <- scale(df[[y]])\n",
    "        df[[e]] <- scale(df[[e]])\n",
    "    }\n",
    "    if (e_by_gPC) {\n",
    "        gPCs <- grep(\"gPC\", covars, value = TRUE)\n",
    "        covars <- c(covars, paste0(e, \" * \", gPCs))\n",
    "    }\n",
    "    form_str <- paste0(y, \" ~ \", e, \" * \", snp)\n",
    "    if (!identical(covars, \"\")) form_str <- paste0(form_str, \" + \", paste(covars, collapse=\" + \"))\n",
    "    sumstats <- lm(as.formula(form_str), data=df) %>%\n",
    "        broom::tidy() %>%\n",
    "        filter(term %in% c(e, snp, paste0(e, \":\", snp))) %>%\n",
    "        mutate(EAF_topmed = sum(df[[snp]]) / (2 * nrow(df)))\n",
    "    sumstats\n",
    "}"
   ]
  },
  {
   "cell_type": "code",
   "execution_count": null,
   "metadata": {},
   "outputs": [],
   "source": [
    "all_y <- c(\"hdl_log\", \"S_HDL_P\", \"M_HDL_P\", \"L_HDL_P\", \"HDL_C\", paste0(\"H\", 1:7, \"P\"))\n",
    "pa_subtype_gxe_res_df_all <- expand_grid(\n",
    "  y = all_y,\n",
    "  e = primary_pa_fields\n",
    ") %>%\n",
    "  rowwise() %>%\n",
    "  mutate(lm_res = list(test_gxe(y, \"rs295849\", e, covars, analysis_df))) %>%\n",
    "  unnest(lm_res)\n",
    "pa_subtype_gxe_res_df_female <- expand_grid(\n",
    "  y = all_y,\n",
    "  e = primary_pa_fields\n",
    ") %>%\n",
    "  rowwise() %>%\n",
    "  mutate(lm_res = list(test_gxe(y, \"rs295849\", e, covars, analysis_df %>% filter(gender_f0m1 == 0)))) %>%\n",
    "  unnest(lm_res)\n",
    "pa_subtype_gxe_res_df <- bind_rows(list(\n",
    "  all = pa_subtype_gxe_res_df_all,\n",
    "  female = pa_subtype_gxe_res_df_female\n",
    "), .id=\"subgroup\") %>%\n",
    "  filter(grepl(\":rs295849\", term))"
   ]
  },
  {
   "cell_type": "code",
   "execution_count": null,
   "metadata": {},
   "outputs": [],
   "source": [
    "options(repr.plot.width=16, repr.plot.height=5)\n",
    "\n",
    "pa_subtype_gxe_res_df %>%\n",
    "  filter(!grepl(\"H.P\", y)) %>%\n",
    "  mutate(l95 = estimate - 1.96 * std.error,\n",
    "         u95 = estimate + 1.96 * std.error,\n",
    "         e = factor(e, levels = primary_pa_fields, labels = primary_pa_fields_clean)) %>%\n",
    "  ggplot(aes(x=e, y=estimate, color=subgroup)) +\n",
    "  geom_point(position=position_dodge(width=0.3)) +\n",
    "  geom_errorbar(aes(ymin=l95, ymax=u95), width=0.2, position=position_dodge(width=0.3)) +\n",
    "  geom_hline(yintercept=0, color=\"gray\") +\n",
    "  facet_wrap(~y, nrow=2, scale=\"fixed\") +\n",
    "  labs(x=\"\", y=\"Standardized interaction effect estimate (95% CI)\") +\n",
    "  theme(axis.text.x = element_text(angle = 30, hjust = 0.9))"
   ]
  },
  {
   "cell_type": "code",
   "execution_count": null,
   "metadata": {},
   "outputs": [],
   "source": [
    "pa_subtype_gxe_res_df %>%\n",
    "  filter(e == \"mvpa_win\",\n",
    "         grepl(\"H[1-7]P\", y)) %>%\n",
    "  mutate(l95 = estimate - 1.96 * std.error,\n",
    "         u95 = estimate + 1.96 * std.error) %>%\n",
    "  ggplot(aes(x=y, y=estimate, color=subgroup)) +\n",
    "  geom_point(position=position_dodge(width=0.3)) +\n",
    "  geom_errorbar(aes(ymin=l95, ymax=u95), width=0.2, position=position_dodge(width=0.3)) +\n",
    "  geom_hline(yintercept=0, color=\"gray\") +\n",
    "  labs(x=\"\", y=\"Standardized interaction effect estimate (95% CI)\") +\n",
    "  theme(axis.text.x = element_text(angle = 30, hjust = 0.9))"
   ]
  },
  {
   "cell_type": "markdown",
   "metadata": {},
   "source": [
    "### Additional notes on HDL fractions"
   ]
  },
  {
   "cell_type": "code",
   "execution_count": null,
   "metadata": {},
   "outputs": [],
   "source": [
    "hdl_fraction_tbl <- tribble(\n",
    "  ~subfraction, ~size_range,\n",
    "  \"small\", \"7.3-8.2 nm\",\n",
    "  \"medium\", \"8.2-9.4 nm\",\n",
    "  \"large\", \"9.4-14 nm\"\n",
    ")\n",
    "hdl_fraction_tbl"
   ]
  },
  {
   "cell_type": "code",
   "execution_count": null,
   "metadata": {},
   "outputs": [],
   "source": [
    "hdl_subfraction_fraction_df <- analysis_df %>%\n",
    "  summarise(across(contains(\"HDL_P\"), ~ mean(., na.rm = TRUE))) %>%\n",
    "  pivot_longer(everything(), names_to = \"subfraction\", values_to = \"value\") %>%\n",
    "  filter(!grepl(\"_lp3\", subfraction)) %>%\n",
    "  mutate(frac_of_HDL_P = value / value[subfraction == \"HDL_P\"]) %>%\n",
    "  select(-value)\n",
    "\n",
    "hdl_subfraction_cor_mat <- analysis_df %>%\n",
    "  select(HDL_C, contains(\"HDL_P\")) %>% \n",
    "  cor(use = \"pairwise.complete.obs\")\n",
    "hdl_subfraction_cor_df <- hdl_subfraction_cor_mat[, \"HDL_C\", drop = FALSE] %>%\n",
    "  as.data.frame() %>%\n",
    "  rownames_to_column(\"subfraction\") %>%\n",
    "  rename(HDL_C_corr = HDL_C) %>%\n",
    "  filter(grepl(\"_HDL_P\", subfraction))\n",
    "\n",
    "mesa_hdl_subfraction_extra_df <- inner_join(\n",
    "  hdl_subfraction_fraction_df, \n",
    "  hdl_subfraction_cor_df,\n",
    "  by = \"subfraction\"\n",
    ")"
   ]
  },
  {
   "cell_type": "markdown",
   "metadata": {},
   "source": [
    "### Race-specificity of the interaction?"
   ]
  },
  {
   "cell_type": "code",
   "execution_count": null,
   "metadata": {},
   "outputs": [],
   "source": [
    "pa_subtype_gxe_byRace_res_df_all <- expand_grid(\n",
    "  y = c(\"hdl_log\", \"S_HDL_P\", \"M_HDL_P\", \"L_HDL_P\", \"HDL_C\"),\n",
    "  e = primary_pa_fields,\n",
    "  r = unique(analysis_df$race)\n",
    ") %>%\n",
    "  rowwise() %>%\n",
    "  mutate(lm_res = list(test_gxe(y, \"rs295849\", e, covars, \n",
    "                                analysis_df %>% filter(race == r)))) %>%\n",
    "  unnest(lm_res)\n",
    "pa_subtype_gxe_byRace_res_df_female <- expand_grid(\n",
    "  y = c(\"hdl_log\", \"M_HDL_P\", \"HDL_C\"),\n",
    "  e = primary_pa_fields,\n",
    "  r = unique(analysis_df$race)\n",
    ") %>%\n",
    "  rowwise() %>%\n",
    "  mutate(lm_res = list(test_gxe(y, \"rs295849\", e, covars, \n",
    "                                analysis_df %>% filter(gender_f0m1 == 0, race == r)))) %>%\n",
    "  unnest(lm_res)\n",
    "pa_subtype_gxe_byRace_res_df <- bind_rows(list(\n",
    "  all = pa_subtype_gxe_byRace_res_df_all,\n",
    "  female = pa_subtype_gxe_byRace_res_df_female\n",
    "), .id=\"subgroup\") %>%\n",
    "  filter(grepl(\":rs295849\", term))"
   ]
  },
  {
   "cell_type": "code",
   "execution_count": null,
   "metadata": {},
   "outputs": [],
   "source": [
    "options(repr.plot.width=16, repr.plot.height=15)\n",
    "\n",
    "pa_subtype_gxe_byRace_res_df %>%\n",
    "  mutate(l95 = estimate - 1.96 * std.error,\n",
    "         u95 = estimate + 1.96 * std.error) %>%\n",
    "  ggplot(aes(x=e, y=estimate, color=subgroup)) +\n",
    "  geom_point(position=position_dodge(width=0.3)) +\n",
    "  geom_errorbar(aes(ymin=l95, ymax=u95), width=0.2, position=position_dodge(width=0.3)) +\n",
    "  geom_hline(yintercept=0, color=\"gray\") +\n",
    "  facet_wrap(vars(y, r), ncol=4, scale=\"free\") +\n",
    "  labs(x=\"\", y=\"Standardized interaction effect estimate (95% CI)\")"
   ]
  },
  {
   "cell_type": "markdown",
   "metadata": {},
   "source": [
    "# Export "
   ]
  },
  {
   "cell_type": "markdown",
   "metadata": {},
   "source": [
    "Relevant R objects are exported for use in creating manuscript figures and tables."
   ]
  },
  {
   "cell_type": "code",
   "execution_count": null,
   "metadata": {},
   "outputs": [],
   "source": [
    "analysis_df %>%\n",
    "  select(mesa_id, gender_f0m1, age, bmi, rs295849, \n",
    "         matches(\".*pa$\"), matches(\".*pa_win$\"), contains(\"hdl\")) %>%\n",
    "  saveRDS(\"manuscript/mesa_analysis_df.rds\")\n",
    "\n",
    "saveRDS(main_effect_sensitivity_res_df, \n",
    "        \"manuscript/mesa_pa_hdl_res_df.rds\")\n",
    "\n",
    "saveRDS(main_effect_sex_int_res, \n",
    "        \"manuscript/mesa_pa_hdl_sexInt_res_df.rds\")\n",
    "\n",
    "saveRDS(pa_subtype_gxe_res_df, \n",
    "        \"manuscript/mesa_gxe_exploration_df.rds\")\n",
    "\n",
    "saveRDS(pa_subtype_gxe_byRace_res_df, \n",
    "        \"manuscript/mesa_gxe_exploration_byRace_df.rds\")\n",
    "\n",
    "saveRDS(mesa_hdl_subfraction_extra_df, \n",
    "        \"manuscript/mesa_hdl_subfraction_extra_df.rds\")\n",
    "\n",
    "system(paste0(\"gsutil cp manuscript/* \", ws_bucket, \"/manuscript/\"))"
   ]
  }
 ],
 "metadata": {
  "kernelspec": {
   "display_name": "R",
   "language": "R",
   "name": "ir"
  },
  "language_info": {
   "codemirror_mode": "r",
   "file_extension": ".r",
   "mimetype": "text/x-r-source",
   "name": "R",
   "pygments_lexer": "r",
   "version": "4.3.2"
  },
  "toc": {
   "base_numbering": 1,
   "nav_menu": {},
   "number_sections": true,
   "sideBar": true,
   "skip_h1_title": false,
   "title_cell": "Table of Contents",
   "title_sidebar": "Contents",
   "toc_cell": false,
   "toc_position": {},
   "toc_section_display": true,
   "toc_window_display": false
  }
 },
 "nbformat": 4,
 "nbformat_minor": 2
}
