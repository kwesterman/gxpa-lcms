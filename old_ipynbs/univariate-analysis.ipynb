{
 "cells": [
  {
   "cell_type": "markdown",
   "metadata": {},
   "source": [
    "# Preliminaries"
   ]
  },
  {
   "cell_type": "code",
   "execution_count": null,
   "metadata": {},
   "outputs": [],
   "source": [
    "suppressPackageStartupMessages(library(tidyverse))\n",
    "library(patchwork)\n",
    "\n",
    "if (!require(foreach)) install.packages(\"foreach\")\n",
    "library(foreach)\n",
    "if (!require(iterators)) install.packages(\"iterators\")\n",
    "library(iterators)\n",
    "if (!require(mediation)) install.packages(\"mediation\")\n",
    "library(mediation)"
   ]
  },
  {
   "cell_type": "code",
   "execution_count": null,
   "metadata": {},
   "outputs": [],
   "source": [
    "ws_namespace <- Sys.getenv(\"WORKSPACE_NAMESPACE\")\n",
    "ws_name <- Sys.getenv(\"WORKSPACE_NAME\")\n",
    "ws_bucket <- Sys.getenv(\"WORKSPACE_BUCKET\")"
   ]
  },
  {
   "cell_type": "code",
   "execution_count": null,
   "metadata": {},
   "outputs": [],
   "source": [
    "theme_set(theme_bw())"
   ]
  },
  {
   "cell_type": "markdown",
   "metadata": {},
   "source": [
    "## Read in phenotypic, genotypic, and metabolomic data"
   ]
  },
  {
   "cell_type": "markdown",
   "metadata": {},
   "source": [
    "* Phenotype data come from integrating inputs from dbGaP (/PIC-SURE), MESA investigators, and metadata from metabolomic preprocessing.\n",
    "* Genotype data come from dbGaP (Freeze 9b TOPMed-wide genotype VCF files).\n",
    "* Metabolomic data come directly from MESA (originally) followed by an extensive QC and preprocessing effort led by Magdalena Sevilla-Gonzalez and Paul Hanson."
   ]
  },
  {
   "cell_type": "code",
   "execution_count": null,
   "metadata": {},
   "outputs": [],
   "source": [
    "analysis_df_lcms <- read_csv(\"analysis/analysis_df_lcms.csv\", col_types=cols())\n",
    "names(analysis_df_lcms)"
   ]
  },
  {
   "cell_type": "code",
   "execution_count": null,
   "metadata": {},
   "outputs": [],
   "source": [
    "snp_info_df <- read_csv(\"genotypes/snp_info.csv\", col_types=cols())\n",
    "exposures <- c(\"pa\", \"pa_bin\", \"mod_pa\", \"vig_pa\")\n",
    "\n",
    "basic_covars <- c(\"site\", \"gender_f0m1\", \"age\")\n",
    "covar_sets <- list(\n",
    "    basic = basic_covars,\n",
    "    add_ses = c(basic_covars, \"ses_score\", \"income_cat\"),\n",
    "    add_ses_HL = c(basic_covars, \"ses_score\", \"income_cat\", \n",
    "                              \"drinks_per_week\", \"smoking\", \"ahei_score\", \"dash_score\"),\n",
    "    add_ses_HL_gPC = c(basic_covars, \"ses_score\", \"income_cat\", \n",
    "                              \"drinks_per_week\", \"smoking\", \"ahei_score\", \"dash_score\",\n",
    "                       paste0(\"gPC\", 1:5)),\n",
    "    add_ses_HL_race = c(basic_covars, \"ses_score\", \"income_cat\", \n",
    "                              \"drinks_per_week\", \"smoking\", \"ahei_score\", \"dash_score\",\n",
    "                   \"race\")\n",
    ")"
   ]
  },
  {
   "cell_type": "code",
   "execution_count": null,
   "metadata": {},
   "outputs": [],
   "source": [
    "metabs <- readRDS(\"metabolites/analysis_metabolites.rds\")"
   ]
  },
  {
   "cell_type": "markdown",
   "metadata": {},
   "source": [
    "# Run metabolome-wide association studies"
   ]
  },
  {
   "cell_type": "markdown",
   "metadata": {},
   "source": [
    "A few details on the analysis models:\n",
    "* Based on prior investigations (see analysis-prep notebook), it appears that adjustment for age, sex, study site, and genetic principal components (for now, the top five) keep genomic inflation under control.\n",
    "* Tahir et al. 2022 (Nat. Comm.) conducted a comprehensive set of mQTL tests in MESA and other studies. They adjusted for age, sex, 10 genetic PCs, and the genomic relationship matrix using a linear mixed model (with metabolites pre-adjusted for the same covariates plus batch then inverse-normal transformed)."
   ]
  },
  {
   "cell_type": "code",
   "execution_count": null,
   "metadata": {},
   "outputs": [],
   "source": [
    "metab_bonferroni <- 0.05 / ncol(metabs)"
   ]
  },
  {
   "cell_type": "code",
   "execution_count": null,
   "metadata": {},
   "outputs": [],
   "source": [
    "qtl_covars <- covar_sets$add_ses_HL_gPC\n",
    "e_proxy_covars <- covar_sets$add_ses_HL_gPC"
   ]
  },
  {
   "cell_type": "markdown",
   "metadata": {},
   "source": [
    "## QTL tests"
   ]
  },
  {
   "cell_type": "markdown",
   "metadata": {},
   "source": [
    "For each SNP of interest, we will scan the metabolome to find associated metabolites (for downstream mediation testing)."
   ]
  },
  {
   "cell_type": "code",
   "execution_count": null,
   "metadata": {},
   "outputs": [],
   "source": [
    "test_qtl <- function(g, m, covars) {\n",
    "    form_str <- paste0(\"m ~ g + \", paste(covars, collapse=\" + \"))\n",
    "    lm(as.formula(form_str), data=analysis_df_lcms) %>%\n",
    "        broom::tidy() %>%\n",
    "        filter(term == \"g\") %>%\n",
    "        select(-term)\n",
    "}\n",
    "\n",
    "run_qtl_mwas <- function(rsID, covars) {\n",
    "    foreach(\n",
    "        m=iterators::iter(metabs, by=\"col\")\n",
    "    ) %do% {\n",
    "        tryCatch(\n",
    "            test_qtl(analysis_df_lcms[[rsID]], m, covars),\n",
    "            error=function(e) tibble(estimate=NA, p.value=NA)\n",
    "        )\n",
    "    } %>%\n",
    "        setNames(colnames(metabs)) %>%\n",
    "        bind_rows(.id=\"metabolite\")\n",
    "}"
   ]
  },
  {
   "cell_type": "code",
   "execution_count": null,
   "metadata": {},
   "outputs": [],
   "source": [
    "# qtl_mwas_res_df <- lapply(snp_info_df$rsID, run_qtl_mwas, qtl_covars) %>%\n",
    "#     setNames(snp_info_df$rsID) %>%\n",
    "#     bind_rows(.id=\"rsID\")\n",
    "\n",
    "# write_csv(qtl_mwas_res_df, \"analysis/qtl_mwas_res.csv\")"
   ]
  },
  {
   "cell_type": "code",
   "execution_count": null,
   "metadata": {},
   "outputs": [],
   "source": [
    "qtl_mwas_res_df <- read_csv(\"analysis/qtl_mwas_res.csv\", col_types=cols())"
   ]
  },
  {
   "cell_type": "markdown",
   "metadata": {},
   "source": [
    "### Any different results in AFR samples?"
   ]
  },
  {
   "cell_type": "code",
   "execution_count": null,
   "metadata": {},
   "outputs": [],
   "source": [
    "# analysis_df_lcms_afr <- filter(analysis_df_lcms, race == \"r4\")\n",
    "# metabs_afr <- metabs[analysis_df_lcms$race == \"r4\", ]\n",
    "\n",
    "# test_qtl_afr <- function(g, m, covars) {\n",
    "#     form_str <- paste0(\"m ~ g + \", paste(covars, collapse=\" + \"))\n",
    "#     lm(as.formula(form_str), data=analysis_df_lcms_afr) %>%\n",
    "#         broom::tidy() %>%\n",
    "#         filter(term == \"g\") %>%\n",
    "#         select(-term)\n",
    "# }\n",
    "# run_qtl_mwas_afr <- function(rsID, covars) {\n",
    "#     foreach(\n",
    "#         m=iterators::iter(metabs_afr, by=\"col\")\n",
    "#     ) %do% {\n",
    "#         tryCatch(\n",
    "#             test_qtl_afr(analysis_df_lcms_afr[[rsID]], m, covars),\n",
    "#             error=function(e) tibble(estimate=NA, p.value=NA)\n",
    "#         )\n",
    "#     } %>%\n",
    "#         setNames(colnames(metabs)) %>%\n",
    "#         bind_rows(.id=\"metabolite\")\n",
    "# }"
   ]
  },
  {
   "cell_type": "code",
   "execution_count": null,
   "metadata": {},
   "outputs": [],
   "source": [
    "# qtl_mwas_res_df_afr <- lapply(\"rs77810251\", run_qtl_mwas_afr, qtl_covars) %>%\n",
    "#     setNames(\"rs77810251\") %>%\n",
    "#     bind_rows(.id=\"rsID\")\n",
    "\n",
    "# write_csv(qtl_mwas_res_df_afr, \"analysis/qtl_mwas_res_afr.csv\")"
   ]
  },
  {
   "cell_type": "code",
   "execution_count": null,
   "metadata": {},
   "outputs": [],
   "source": [
    "# qtl_mwas_res_df_afr <- read_csv(\"analysis/qtl_mwas_res_afr.csv\", col_types=cols())"
   ]
  },
  {
   "cell_type": "code",
   "execution_count": null,
   "metadata": {},
   "outputs": [],
   "source": [
    "# qtl_mwas_res_df_afr %>%\n",
    "#     mutate(q = p.adjust(p.value, method=\"BH\")) %>%\n",
    "#     arrange(p.value) %>%\n",
    "#     head()"
   ]
  },
  {
   "cell_type": "markdown",
   "metadata": {},
   "source": [
    "## E proxy tests"
   ]
  },
  {
   "cell_type": "markdown",
   "metadata": {},
   "source": [
    "For each exposure of interest, we will scan the metabolome to find associated metabolites (for downstream mediation testing)."
   ]
  },
  {
   "cell_type": "code",
   "execution_count": null,
   "metadata": {},
   "outputs": [],
   "source": [
    "test_e_proxy <- function(e, m, covars) {\n",
    "    form_str <- paste0(\"m ~ e + \", paste(covars, collapse=\" + \"))\n",
    "    lm(as.formula(form_str), data=analysis_df_lcms) %>%\n",
    "        broom::tidy() %>%\n",
    "        filter(term == \"e\") %>%\n",
    "        select(-term)\n",
    "}\n",
    "\n",
    "run_e_proxy_mwas <- function(e, covars) {\n",
    "    foreach(\n",
    "        m=iterators::iter(metabs, by=\"col\")\n",
    "    ) %do% {\n",
    "        tryCatch(\n",
    "            test_e_proxy(analysis_df_lcms[[e]], m, covars),\n",
    "            error=function(e) tibble(estimate=NA, p.value=NA)\n",
    "        )\n",
    "    } %>%\n",
    "        setNames(colnames(metabs)) %>%\n",
    "        bind_rows(.id=\"metabolite\")\n",
    "}"
   ]
  },
  {
   "cell_type": "code",
   "execution_count": null,
   "metadata": {},
   "outputs": [],
   "source": [
    "# e_proxy_mwas_res_df <- lapply(exposures, run_e_proxy_mwas, e_proxy_covars) %>%\n",
    "#     setNames(exposures) %>%\n",
    "#     bind_rows(.id=\"exposure\")\n",
    "\n",
    "# write_csv(e_proxy_mwas_res_df, \"analysis/e_proxy_mwas_res.csv\")"
   ]
  },
  {
   "cell_type": "code",
   "execution_count": null,
   "metadata": {},
   "outputs": [],
   "source": [
    "e_proxy_mwas_res_df <- read_csv(\"analysis/e_proxy_mwas_res.csv\", col_types=cols()) %>%\n",
    "    filter(exposure %in% c(\"pa\", \"vig_pa\"))"
   ]
  },
  {
   "cell_type": "code",
   "execution_count": null,
   "metadata": {},
   "outputs": [],
   "source": [
    "e_proxy_mwas_res_df %>%\n",
    "    arrange(p.value)"
   ]
  },
  {
   "cell_type": "markdown",
   "metadata": {},
   "source": [
    "## Annotate summary statistics"
   ]
  },
  {
   "cell_type": "code",
   "execution_count": null,
   "metadata": {},
   "outputs": [],
   "source": [
    "met_info_df <- read_csv(\"PH_files/met_info_v12.csv\", col_types=cols()) %>%\n",
    "    dplyr::select(metabolite=Compound_Id_MESA, metabolite_name=Name)\n",
    "\n",
    "qtl_mwas_res_df <- left_join(qtl_mwas_res_df, met_info_df, by=\"metabolite\")\n",
    "e_proxy_mwas_res_df <- left_join(e_proxy_mwas_res_df, met_info_df, by=\"metabolite\")"
   ]
  },
  {
   "cell_type": "markdown",
   "metadata": {},
   "source": [
    "# Visualize results"
   ]
  },
  {
   "cell_type": "code",
   "execution_count": null,
   "metadata": {},
   "outputs": [],
   "source": [
    "calc_lambda <- function(x, p=0.5){\n",
    "  # Calculate genomic inflation lambda value\n",
    "  x <- x[!is.na(x)]\n",
    "  x.quantile <- quantile(x, p)\n",
    "  round(qchisq(1 - x.quantile, 1) / qchisq(p, 1), 2)\n",
    "}\n",
    "\n",
    "qtl_lambda <- calc_lambda(qtl_mwas_res_df$p.value)\n",
    "qtl_qq_plt <- qtl_mwas_res_df %>%\n",
    "    arrange(desc(p.value)) %>%\n",
    "    mutate(nlp = -log10(p.value),\n",
    "           exp_nlp = rev(-log10(ppoints(nrow(.))))) %>%\n",
    "    ggplot(aes(x=exp_nlp, y=nlp, color=rsID)) +\n",
    "    geom_point() +\n",
    "    geom_abline(slope=1, intercept=0, \n",
    "               linetype=\"dashed\", color=\"black\") +\n",
    "    annotate(\"text\", x=-Inf, y=Inf, \n",
    "             hjust=-0.5, vjust=2, \n",
    "             label=paste(\"lambda\", \"==\", qtl_lambda),\n",
    "             parse=TRUE) +\n",
    "    labs(x=expression(-log[10] * \"(p) - expected\"), y=expression(-log[10] * \"(p) - observed\"),\n",
    "         title=\"QTL MWAS Q-Q plot\")\n",
    "\n",
    "e_proxy_lambda <- calc_lambda(e_proxy_mwas_res_df$p.value)\n",
    "e_proxy_qq_plt <- e_proxy_mwas_res_df %>%\n",
    "    arrange(desc(p.value)) %>%\n",
    "    mutate(nlp = -log10(p.value),\n",
    "           exp_nlp = rev(-log10(ppoints(nrow(.))))) %>%\n",
    "    ggplot(aes(x=exp_nlp, y=nlp, color=exposure)) +\n",
    "    geom_point() +\n",
    "    geom_abline(slope=1, intercept=0, \n",
    "               linetype=\"dashed\", color=\"black\") +\n",
    "    annotate(\"text\", x=-Inf, y=Inf, \n",
    "             hjust=-0.5, vjust=2, \n",
    "             label=paste(\"lambda\", \"==\", e_proxy_lambda),\n",
    "             parse=TRUE) +\n",
    "    labs(x=expression(-log[10] * \"(p) - expected\"), y=expression(-log[10] * \"(p) - observed\"),\n",
    "         title=\"E-proxy MWAS Q-Q plot\")\n",
    "\n",
    "options(repr.plot.width=12, repr.plot.height=5)\n",
    "\n",
    "qtl_qq_plt | e_proxy_qq_plt"
   ]
  },
  {
   "cell_type": "code",
   "execution_count": null,
   "metadata": {},
   "outputs": [],
   "source": [
    "qtl_volcano_plt <- qtl_mwas_res_df %>%\n",
    "    mutate(nlp = -log10(p.value)) %>%\n",
    "    ggplot(aes(x=estimate, y=nlp)) +\n",
    "    geom_point() +\n",
    "    geom_hline(aes(yintercept=-log10(metab_bonferroni)), \n",
    "               linetype=\"dashed\", color=\"gray\") +\n",
    "    labs(x=\"Regression estimate\", y=\"-log10(P)\") +\n",
    "    facet_wrap(vars(rsID), nrow=1, scales=\"free\")\n",
    "\n",
    "e_proxy_volcano_plt <- e_proxy_mwas_res_df %>%\n",
    "    mutate(nlp = -log10(p.value)) %>%\n",
    "    ggplot(aes(x=estimate, y=nlp)) +\n",
    "    geom_point() +\n",
    "    geom_hline(aes(yintercept=-log10(metab_bonferroni)), \n",
    "               linetype=\"dashed\", color=\"gray\") +\n",
    "    labs(x=\"Regression estimate\", y=\"-log10(P)\") +\n",
    "    facet_wrap(vars(exposure), scales=\"free\")\n",
    "\n",
    "options(repr.plot.width=16, repr.plot.height=5)\n",
    "\n",
    "qtl_volcano_plt\n",
    "e_proxy_volcano_plt"
   ]
  },
  {
   "cell_type": "markdown",
   "metadata": {},
   "source": [
    "# Follow up on top metabolites"
   ]
  },
  {
   "cell_type": "markdown",
   "metadata": {},
   "source": [
    "## Collect significant metabolites"
   ]
  },
  {
   "cell_type": "markdown",
   "metadata": {},
   "source": [
    "We use a false discovery rate (FDR) correction threshold of q < 0.05 using the Benjamini-Hochberg method."
   ]
  },
  {
   "cell_type": "code",
   "execution_count": null,
   "metadata": {},
   "outputs": [],
   "source": [
    "metab_pca_fit <- prcomp(metabs)\n",
    "metab_eigenvals <- metab_pca_fit$sdev^2\n",
    "n_eff_metabs <- sum(metab_eigenvals) ** 2 / sum(metab_eigenvals ** 2)\n",
    "round(n_eff_metabs, 1)"
   ]
  },
  {
   "cell_type": "code",
   "execution_count": null,
   "metadata": {},
   "outputs": [],
   "source": [
    "top_qtl_mwas_res_df <- qtl_mwas_res_df %>%\n",
    "    mutate(q = p.adjust(p.value, method=\"BH\"),\n",
    "           sig_eff_bonferroni = p.value < (0.05 / n_eff_metabs)) %>%\n",
    "    arrange(p.value) %>%\n",
    "    filter(sig_eff_bonferroni)\n",
    "\n",
    "top_e_proxy_mwas_res_df <- e_proxy_mwas_res_df %>%\n",
    "    mutate(q = p.adjust(p.value, method=\"BH\"),\n",
    "           sig_eff_bonferroni = p.value < (0.05 / n_eff_metabs)) %>%\n",
    "    arrange(p.value) %>%\n",
    "    filter(sig_eff_bonferroni)\n",
    "\n",
    "top_mwas_res_df <- bind_rows(list(\n",
    "    qtl = top_qtl_mwas_res_df,\n",
    "    e_proxy = top_e_proxy_mwas_res_df\n",
    "), .id=\"type\")"
   ]
  },
  {
   "cell_type": "code",
   "execution_count": null,
   "metadata": {},
   "outputs": [],
   "source": [
    "top_mwas_res_df"
   ]
  },
  {
   "cell_type": "markdown",
   "metadata": {},
   "source": [
    "## Test main effect mediation"
   ]
  },
  {
   "cell_type": "code",
   "execution_count": null,
   "metadata": {},
   "outputs": [],
   "source": [
    "test_mediation <- function(x, m, y, covars, df, n_sims=100) {\n",
    "    med_form_str <- paste0(\"m ~ x + \", paste(covars, collapse=\" + \"))\n",
    "    med_fit <- lm(as.formula(med_form_str), data=df)\n",
    "    out_form_str <- paste0(\"y ~ m + x + \", paste(covars, collapse=\" + \"))\n",
    "    out_fit <- lm(as.formula(out_form_str), data=df)\n",
    "    med_out <- mediation::mediate(med_fit, out_fit, \n",
    "                       treat=\"x\", mediator=\"m\",\n",
    "                       robustSE=TRUE, sims=n_sims)\n",
    "    summary(med_out)\n",
    "}"
   ]
  },
  {
   "cell_type": "code",
   "execution_count": null,
   "metadata": {},
   "outputs": [],
   "source": [
    "mediation_analysis_df_lcms <- analysis_df_lcms %>%\n",
    "    filter(!is.na(pa),\n",
    "           !is.na(vig_pa),\n",
    "           !is.na(hdl_log))"
   ]
  },
  {
   "cell_type": "code",
   "execution_count": null,
   "metadata": {},
   "outputs": [],
   "source": [
    "pa_mediation_res_df <- tibble(\n",
    "    metab = top_e_proxy_mwas_res_df$metabolite[top_e_proxy_mwas_res_df$exposure == \"pa\"]\n",
    ") %>%\n",
    "  rowwise() %>%\n",
    "  mutate(med_fit = list(\n",
    "      test_mediation(mediation_analysis_df_lcms$pa, \n",
    "               metabs[match(mediation_analysis_df_lcms$mesa_id, analysis_df_lcms$mesa_id),\n",
    "                      metab], \n",
    "               mediation_analysis_df_lcms$hdl_log, \n",
    "               covar_sets$basic,\n",
    "               mediation_analysis_df_lcms,\n",
    "               n_sims=100)\n",
    "  )) %>%\n",
    "    ungroup() %>%\n",
    "    mutate(med_prop = map_dbl(med_fit, function(mf) mf$n0),\n",
    "           acme_p = map_dbl(med_fit, function(mf) mf$d0.p)) %>%\n",
    "    dplyr::select(-med_fit)"
   ]
  },
  {
   "cell_type": "code",
   "execution_count": null,
   "metadata": {},
   "outputs": [],
   "source": [
    "vig_pa_mediation_res_df <- tibble(\n",
    "    metab = top_e_proxy_mwas_res_df$metabolite[top_e_proxy_mwas_res_df$exposure == \"vig_pa\"]\n",
    ") %>%\n",
    "  rowwise() %>%\n",
    "  mutate(med_fit = list(\n",
    "      test_mediation(mediation_analysis_df_lcms$vig_pa, \n",
    "               metabs[match(mediation_analysis_df_lcms$mesa_id, analysis_df_lcms$mesa_id),\n",
    "                      metab], \n",
    "               mediation_analysis_df_lcms$hdl_log, \n",
    "               covar_sets$basic,\n",
    "               mediation_analysis_df_lcms,\n",
    "               n_sims=100)\n",
    "  )) %>%\n",
    "    ungroup() %>%\n",
    "    mutate(med_prop = map_dbl(med_fit, function(mf) mf$n0),\n",
    "           acme_p = map_dbl(med_fit, function(mf) mf$d0.p)) %>%\n",
    "    dplyr::select(-med_fit)"
   ]
  },
  {
   "cell_type": "code",
   "execution_count": null,
   "metadata": {},
   "outputs": [],
   "source": [
    "pa_mediation_res_df\n",
    "vig_pa_mediation_res_df"
   ]
  },
  {
   "cell_type": "markdown",
   "metadata": {},
   "source": [
    "## Export"
   ]
  },
  {
   "cell_type": "code",
   "execution_count": null,
   "metadata": {},
   "outputs": [],
   "source": [
    "write(n_eff_metabs, \"analysis/n_eff_metabolites.txt\")\n",
    "write(top_qtl_mwas_res_df$metabolite, \n",
    "      \"analysis/top_qtl_metabolites.txt\")\n",
    "write(top_e_proxy_mwas_res_df$metabolite[top_e_proxy_mwas_res_df$exposure == \"pa\"],\n",
    "      \"analysis/top_pa_metabolites.txt\")\n",
    "write(top_e_proxy_mwas_res_df$metabolite[top_e_proxy_mwas_res_df$exposure == \"vig_pa\"],\n",
    "      \"analysis/top_vig_pa_metabolites.txt\")\n",
    "write_csv(top_mwas_res_df, \"analysis/top_mwas_res.csv\")\n",
    "\n",
    "system(paste0(\"gsutil cp -r analysis \", ws_bucket, \"/\"))"
   ]
  },
  {
   "cell_type": "markdown",
   "metadata": {},
   "source": [
    "# Plots for presentation"
   ]
  },
  {
   "cell_type": "code",
   "execution_count": null,
   "metadata": {},
   "outputs": [],
   "source": [
    "# qtl_lambda <- calc_lambda(qtl_mwas_res_df$p.value)\n",
    "# qtl_qq_plt <- qtl_mwas_res_df %>%\n",
    "#     arrange(desc(p.value)) %>%\n",
    "#     mutate(nlp = -log10(p.value),\n",
    "#            exp_nlp = rev(-log10(ppoints(nrow(.))))) %>%\n",
    "#     ggplot(aes(x=exp_nlp, y=nlp, color=rsID)) +\n",
    "#     geom_point() +\n",
    "#     geom_abline(slope=1, intercept=0, \n",
    "#                linetype=\"dashed\", color=\"black\") +\n",
    "#     annotate(\"text\", x=-Inf, y=Inf, \n",
    "#              hjust=-0.5, vjust=2, \n",
    "#              label=paste(\"lambda\", \"==\", qtl_lambda),\n",
    "#              parse=TRUE) +\n",
    "#     labs(x=expression(-log[10] * \"(p) - expected\"), y=expression(-log[10] * \"(p) - observed\")) +\n",
    "#     theme(legend.title=element_blank(), legend.position=\"bottom\") +\n",
    "#     guides(color = guide_legend(nrow=2))\n",
    "\n",
    "# e_proxy_lambda <- calc_lambda(e_proxy_mwas_res_df$p.value)\n",
    "# e_proxy_qq_plt <- e_proxy_mwas_res_df %>%\n",
    "#     arrange(desc(p.value)) %>%\n",
    "#     mutate(nlp = -log10(p.value),\n",
    "#            exp_nlp = rev(-log10(ppoints(nrow(.))))) %>%\n",
    "#     ggplot(aes(x=exp_nlp, y=nlp, color=exposure)) +\n",
    "#     geom_point() +\n",
    "#     geom_abline(slope=1, intercept=0, \n",
    "#                linetype=\"dashed\", color=\"black\") +\n",
    "#     scale_color_discrete(breaks=c(\"mod_vig_pa_bin\", \"smoking_current\", \"smoking_ever\"),\n",
    "#                          labels=c(\"Physical activity\", \"Smoking (current)\", \"Smoking (ever)\"),\n",
    "#                          name=\"Exposure\") +\n",
    "#     annotate(\"text\", x=-Inf, y=Inf, \n",
    "#              hjust=-0.5, vjust=2, \n",
    "#              label=paste(\"lambda\", \"==\", e_proxy_lambda),\n",
    "#              parse=TRUE) +\n",
    "#     labs(x=expression(-log[10] * \"(p) - expected\"), y=expression(-log[10] * \"(p) - observed\")) +\n",
    "#     theme(legend.title=element_blank(), legend.position=\"bottom\") +\n",
    "#     guides(color = guide_legend(nrow=2))\n",
    "\n",
    "# options(repr.plot.width=5, repr.plot.height=5)\n",
    "\n",
    "# qtl_qq_plt\n",
    "# e_proxy_qq_plt"
   ]
  },
  {
   "cell_type": "code",
   "execution_count": null,
   "metadata": {},
   "outputs": [],
   "source": [
    "# e_proxy_mwas_res_df %>%\n",
    "#     filter(exposure == \"pa\") %>%\n",
    "#     arrange(desc(p.value)) %>%\n",
    "#     mutate(nlp = -log10(p.value),\n",
    "#            exp_nlp = rev(-log10(ppoints(nrow(.))))) %>%\n",
    "#     ggplot(aes(x=exp_nlp, y=nlp, color=exposure)) +\n",
    "#     geom_point() +\n",
    "#     geom_abline(slope=1, intercept=0, \n",
    "#                linetype=\"dashed\", color=\"black\") +\n",
    "#     scale_color_discrete(breaks=c(\"mod_vig_pa_bin\", \"smoking_current\", \"smoking_ever\"),\n",
    "#                          labels=c(\"Physical activity\", \"Smoking (current)\", \"Smoking (ever)\"),\n",
    "#                          name=\"Exposure\") +\n",
    "#     annotate(\"text\", x=-Inf, y=Inf, \n",
    "#              hjust=-0.5, vjust=2, \n",
    "#              label=paste(\"lambda\", \"==\", e_proxy_lambda),\n",
    "#              parse=TRUE) +\n",
    "#     labs(x=expression(-log[10] * \"(p) - expected\"), y=expression(-log[10] * \"(p) - observed\")) +\n",
    "#     theme(legend.title=element_blank(), legend.position=\"bottom\") +\n",
    "#     guides(color = guide_legend(nrow=2))"
   ]
  }
 ],
 "metadata": {
  "kernelspec": {
   "display_name": "R",
   "language": "R",
   "name": "ir"
  },
  "language_info": {
   "codemirror_mode": "r",
   "file_extension": ".r",
   "mimetype": "text/x-r-source",
   "name": "R",
   "pygments_lexer": "r",
   "version": "4.3.0"
  },
  "toc": {
   "base_numbering": 1,
   "nav_menu": {},
   "number_sections": true,
   "sideBar": true,
   "skip_h1_title": false,
   "title_cell": "Table of Contents",
   "title_sidebar": "Contents",
   "toc_cell": false,
   "toc_position": {},
   "toc_section_display": true,
   "toc_window_display": false
  }
 },
 "nbformat": 4,
 "nbformat_minor": 2
}
