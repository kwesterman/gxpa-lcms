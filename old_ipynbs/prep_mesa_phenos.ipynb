{
 "cells": [
  {
   "cell_type": "markdown",
   "metadata": {},
   "source": [
    "# Set up"
   ]
  },
  {
   "cell_type": "code",
   "execution_count": null,
   "metadata": {},
   "outputs": [],
   "source": [
    "suppressPackageStartupMessages(library(tidyverse))\n",
    "suppressPackageStartupMessages(library(patchwork, table1))"
   ]
  },
  {
   "cell_type": "code",
   "execution_count": null,
   "metadata": {},
   "outputs": [],
   "source": [
    "ws_namespace <- Sys.getenv(\"WORKSPACE_NAMESPACE\")\n",
    "ws_name <- Sys.getenv(\"WORKSPACE_NAME\")\n",
    "ws_bucket <- Sys.getenv(\"WORKSPACE_BUCKET\")"
   ]
  },
  {
   "cell_type": "code",
   "execution_count": null,
   "metadata": {},
   "outputs": [],
   "source": [
    "theme_set(theme_bw())\n",
    "\n",
    "## ggplot specifications ----------\n",
    "ggplot_theme_standard_continuous <- theme_bw() + theme(\n",
    "    axis.text.x = element_text(size=12, vjust=0.65, color = \"black\"),\n",
    "    axis.text.y = element_text(size=12, color=\"black\"), \n",
    "    strip.text=element_text(size=14, face=\"bold\"),\n",
    "    axis.title = element_text(size=14, color = \"black\")\n",
    ")\n",
    "\n",
    "ggplot_theme_standard_categorical <- theme_bw() + theme(\n",
    "    axis.text.x = element_text(size=12, color = \"black\", angle=30, hjust=0.9),\n",
    "    axis.text.y = element_text(size=12, color=\"black\"), \n",
    "    strip.text=element_text(size=14, face=\"bold\"),\n",
    "    axis.title = element_text(size=14, color = \"black\")\n",
    ")\n",
    "\n",
    "## Color palettes\n",
    "proj_palettes <- list(\n",
    "    greens = paletteer::paletteer_dynamic(\"cartography::green.pal\", 10),\n",
    "    blues = paletteer::paletteer_dynamic(\"cartography::blue.pal\", 10),\n",
    "    oranges = paletteer::paletteer_dynamic(\"cartography::orange.pal\", 10),\n",
    "    pretty_dark = paletteer::paletteer_d(\"PrettyCols::Dark\", 5))\n",
    "  "
   ]
  },
  {
   "cell_type": "markdown",
   "metadata": {},
   "source": [
    "## Build basic functions\n",
    "\n",
    "Function to remove outliers by SD"
   ]
  },
  {
   "cell_type": "code",
   "execution_count": null,
   "metadata": {},
   "outputs": [],
   "source": [
    "remove_outliers.fun <- function(x, SDs=5) {\n",
    "    bounds <- mean(x, na.rm=T) + SDs * c(-1, 1) * sd(x, na.rm=T)\n",
    "    \n",
    "    print(paste0(sum(x < bounds[1], na.rm=TRUE), \" outliers removed at <\", SDs, \" SDs\"))\n",
    "    print(paste0(sum(x > bounds[2], na.rm=TRUE), \" outliers removed at >\", SDs, \" SDs\"))\n",
    "    \n",
    "    x <- ifelse(x>bounds[1] & x<bounds[2], x, NA) ; x    \n",
    "}"
   ]
  },
  {
   "cell_type": "markdown",
   "metadata": {},
   "source": [
    "Functions for describing data"
   ]
  },
  {
   "cell_type": "code",
   "execution_count": null,
   "metadata": {},
   "outputs": [],
   "source": [
    "# Print mean/sd\n",
    "mean_sd<-function(x, d=2) {\n",
    "  sprintf(\"%s \\u00B1 %s\", round(mean(x, na.rm=T), digits = d), \n",
    "          round(sd(x, na.rm=T), digits = d))\n",
    "}\n",
    "\n",
    "# Print n_pct for categorical vars\n",
    "n_pct <- function(x, level=F) {\n",
    "  if(level==F) {\n",
    "  sapply(as.list(names(table(x))), function(lvl) {\n",
    "    paste0(lvl, \", \", sum(x == lvl, na.rm=T), \" (\", round(sum(x == lvl, na.rm=T)/n()*100,1), \"%)\") }) } \n",
    "  else{paste0(sum(x == level, na.rm=T), \" (\", round(sum(x == level, na.rm=T)/n()*100,1), \"%)\")}\n",
    "}\n"
   ]
  },
  {
   "cell_type": "markdown",
   "metadata": {},
   "source": [
    "# Read in and align datasets\n",
    "\n",
    "We will read in various phenotype datassets to align and eventually merge with genotypes."
   ]
  },
  {
   "cell_type": "code",
   "execution_count": null,
   "metadata": {},
   "outputs": [],
   "source": [
    "system(paste0(\"gsutil cp -R \", ws_bucket, \"/phenotypes ./\"))\n",
    "list.files(\"phenotypes\")"
   ]
  },
  {
   "cell_type": "markdown",
   "metadata": {},
   "source": [
    "## Basic phenotypes\n",
    "\n",
    "Retrieved using PIC-SURE"
   ]
  },
  {
   "cell_type": "code",
   "execution_count": null,
   "metadata": {},
   "outputs": [],
   "source": [
    "phenos_basic.df <- read_csv(\"phenotypes/mesa5_phenos_basic.csv\", col_types=cols())\n",
    "head(phenos_basic.df)\n",
    "\n",
    "phenos_diet.df <- read_csv(\"phenotypes/mesa5_phenos_diet.csv\", col_types=cols())\n",
    "head(phenos_diet.df)"
   ]
  },
  {
   "cell_type": "code",
   "execution_count": null,
   "metadata": {},
   "outputs": [],
   "source": [
    "# Remove front matter and trailing backslashes from MESA phenotype names\n",
    "fix_pheno_names <- function(pheno_names) {\n",
    "    new_pheno_names <- unlist(lapply(pheno_names, function(nm) {\n",
    "        if (grepl(\"phs000209\", nm)) {\n",
    "            capture_str <- \".*\\\\\\\\(.*)\\\\\\\\$\"\n",
    "            nm <- str_match(nm, capture_str)[, 2]  # Extract real column name from front matter\n",
    "            nm\n",
    "        } else {\n",
    "            nm\n",
    "        }\n",
    "    }))\n",
    "    new_pheno_names\n",
    "}"
   ]
  },
  {
   "cell_type": "code",
   "execution_count": null,
   "metadata": {},
   "outputs": [],
   "source": [
    "# Basic demogrphic, behavioral & biomarker phenotypes\n",
    "phenos_basic.df <- read_csv(\"phenotypes/mesa5_phenos_basic.csv\", col_types=cols()) %>%\n",
    "    rename_with(fix_pheno_names, everything()) %>%\n",
    "    mutate(mesa_id = gsub(\"phs000209.v13_\", \"\", \n",
    "                          `\\\\_Parent Study Accession with Subject ID\\\\`),\n",
    "           mesa_id = as.integer(mesa_id)) %>%\n",
    "    rename(Parent_Study_Accession='\\\\_Parent Study Accession with Subject ID\\\\',\n",
    "           TopMed_Study_Accesssion='\\\\_Topmed Study Accession with Subject ID\\\\',\n",
    "           consents='\\\\_consents\\\\') %>%\n",
    "    rename(site=site5c, season=season5,\n",
    "           age=age5c, age_cat=agecat5c, \n",
    "           gender=gender1, sex=SEX, racethn=race1c, \n",
    "           educ_lvl=educ1, educ_lvl_dad=dadschl2, educ_lvl_mom=momschl2,\n",
    "           income_lvl=income5, income_hhld=numhhld5,\n",
    "           smoke_stat=smkstat5, smoke_packyrs=pkyrs5c, \n",
    "           alch_currdrnk=curalc5, physact_mvpa=pamvcm5c,\n",
    "           bmi=bmi5c, tg=trig5, ldl=ldl5, hdl=hdl5, \n",
    "           glucose=glucose5, hba1c=hba1c5,\n",
    "           sbp=sbp5c, dbp=dbp5c,\n",
    "           med_t2d=diabhx5, med_t2d_type=dbhxtyp5,\n",
    "           med_lip=lipid5c, med_htn=htnmed5c,\n",
    "           energy_kcal=enrgyn5c) %>%\n",
    "    select(-c(Parent_Study_Accession, TopMed_Study_Accesssion, consents, 'Patient ID')) %>%\n",
    "    select(-c(energy_kcal)) %>%\n",
    "    as.data.frame()\n",
    "\n",
    "\n",
    "## Recode categorical vars from CAPS to lowercase\n",
    "phenos_basic.df <- phenos_basic.df %>% \n",
    "    mutate(across(c(\"gender\", \"educ_lvl\", \"educ_lvl_dad\", \"educ_lvl_mom\", \"income_lvl\", \"racethn\", \n",
    "                    \"season\", \"alch_currdrnk\", \"smoke_stat\", \"med_t2d\", \"med_htn\", \"med_lip\"), tolower))\n",
    "\n",
    "head(phenos_basic.df)\n",
    "dim(phenos_basic.df)"
   ]
  },
  {
   "cell_type": "markdown",
   "metadata": {},
   "source": [
    "Compare sex vs gender for missingness --> use gender"
   ]
  },
  {
   "cell_type": "code",
   "execution_count": null,
   "metadata": {},
   "outputs": [],
   "source": [
    "print(phenos_basic.df %>% reframe(sex=n_pct(sex), gender=n_pct(gender)))\n",
    "\n",
    "phenos_basic.df <- phenos_basic.df %>% \n",
    "    mutate(female=c(female=1, male=0)[gender], .before=educ_lvl) %>% \n",
    "    select(-sex)"
   ]
  },
  {
   "cell_type": "markdown",
   "metadata": {},
   "source": [
    "Recode Race/Ethnicity labels"
   ]
  },
  {
   "cell_type": "code",
   "execution_count": null,
   "metadata": {},
   "outputs": [],
   "source": [
    "phenos_basic.df <- phenos_basic.df %>% \n",
    "    mutate(RaceEthn = case_when(\n",
    "        racethn == \"white, caucasian\" ~ \"White\",\n",
    "        racethn == \"black, african-american\" ~ \"African American\",\n",
    "        racethn == \"hispanic\" ~ \"Hispanic\",\n",
    "        racethn == \"chinese american\" ~ \"Chinese\",\n",
    "        is.na(racethn) == TRUE ~ \"Missing\")) %>%\n",
    "    mutate(RaceEthn = factor(RaceEthn, levels = c(\"White\", \"African American\", \"Hispanic\", \"Chinese\", \"Missing\")))\n",
    "\n",
    "\n",
    "phenos_basic.df %>% reframe(RaceEthn=n_pct(RaceEthn))\n"
   ]
  },
  {
   "cell_type": "markdown",
   "metadata": {},
   "source": [
    "Recode & add education variables"
   ]
  },
  {
   "cell_type": "code",
   "execution_count": null,
   "metadata": {},
   "outputs": [],
   "source": [
    "phenos_basic.df <- phenos_basic.df %>%\n",
    "    # Recode NA values as meanginful: Missing\n",
    "    mutate(educ_lvl.lab = ifelse(is.na(educ_lvl), \"Missing\", educ_lvl)) %>%\n",
    "    mutate(educ_lvl.lab = factor(educ_lvl.lab, levels = c(\"no schooling\", \"grades 1-8\", \"grades 9-11\", \n",
    "                                                \"completed high school/ged\", \"some college but no degree\", \n",
    "                                                \"technical school certificate\",\"associate degree\", \n",
    "                                                \"bachelor's degree\", \"graduate or professional school\", \"Missing\"),\n",
    "                          labels=c(\"No school\", \"Grades 1-8\", \"Grades 9-11\", \"Completed HS/GED\", \n",
    "                                  \"Some college\", \"Technical school\", \"Associate's degree\", \n",
    "                                   \"Bachelor's degree\", \"Graduate or professional degree\", \"Missing\"))) %>%\n",
    "    \n",
    "    mutate(educ_4lvl.lab = factor(\n",
    "        case_when(\n",
    "            educ_lvl.lab %in% c(\"No school\", \"Grades 1-8\", \"Grades 9-11\") ~ \"Less than HS\",\n",
    "            educ_lvl.lab == \"Completed HS/GED\" ~ \"Graduated HS\",\n",
    "            educ_lvl.lab %in% c(\"Some college\", \"Technical school\", \"Associate's degree\") ~ \"Some college\",\n",
    "            educ_lvl.lab %in% c(\"Bachelor's degree\", \"Graduate or professional degree\") ~ \"Graduated college or more\",\n",
    "            as.numeric(NA) == TRUE ~ \"Missing\"))) %>%\n",
    "    mutate(educ_4lvl.lab = factor(educ_4lvl.lab, levels = c(\"Less than HS\", \"Graduated HS\", \n",
    "                                                            \"Some college\", \"Graduated college or more\", \"Missing\")) \n",
    ")\n",
    "\n",
    "phenos_basic.df %>% reframe(Education_lvl=n_pct(educ_lvl.lab))\n",
    "phenos_basic.df %>% reframe(Education_4lvl=n_pct(educ_4lvl.lab))"
   ]
  },
  {
   "cell_type": "markdown",
   "metadata": {},
   "source": [
    "Recode & add income variables"
   ]
  },
  {
   "cell_type": "code",
   "execution_count": null,
   "metadata": {},
   "outputs": [],
   "source": [
    "phenos_basic.df <- phenos_basic.df %>% \n",
    "    mutate(income_lvl.lab = ifelse(is.na(income_lvl), \"Missing\", income_lvl)) %>%\n",
    "    mutate(\n",
    "        income_lvl.lab = factor(\n",
    "            income_lvl.lab, levels = c(\"< $5000\", \"$5000 - $7999\", \"$8000 - $11999\", \"$12000 - $15999\", \n",
    "                                   \"$16000 - $19999\", \"$20000 - $24999\", \"$25000 - $29999\", \"$30000 - $34999\", \n",
    "                                   \"$35000 - $39999\", \"$40000 - $49999\", \"$50000 - $74999\", \"$75000 - $99999\", \n",
    "                                   \"$100,000 - $124,999\", \"$125,000 - $149,999\", \"$150,000 or more\", \"Missing\"),\n",
    "                labels = c(\"Less than $5,000\", \"$5,000 - $7,999\", \"$8,000 - $11,999\", \"$12,000 - $15,999\", \n",
    "                                   \"$16,000 - $19,999\", \"$20,000 - $24,999\", \"$25,000 - $29,999\", \"$30,000 - $34,999\", \n",
    "                                   \"$35,000 - $39,999\", \"$40,000 - $49,999\", \"$50,000 - $74,999\", \"$75,000 - $99,999\", \n",
    "                                   \"$100,000 - $124,999\", \"$125,000 - $149,999\", \"$150,000 or more\", \"Missing\")\n",
    "            )) %>%\n",
    "    mutate(\n",
    "        income_4lvl.lab = factor(\n",
    "            case_when(income_lvl.lab %in% c(\"Less than $5,000\", \"$5,000 - $7,999\", \"$8,000 - $11,999\", \"$12,000 - $15,999\", \n",
    "                                   \"$16,000 - $19,999\", \"$20,000 - $24,999\") ~ \"<$25000\",\n",
    "                      income_lvl.lab %in% c(\"$25,000 - $29,999\", \"$30,000 - $34,999\", \n",
    "                                   \"$35,000 - $39,999\", \"$40,000 - $49,999\") ~ \"$25,000-$49,000\",\n",
    "                      income_lvl.lab %in% c(\"$50,000 - $74,999\", \"$75,000 - $99,999\") ~ \"$50,000-$99,000\",\n",
    "                      income_lvl.lab %in% c(\"$100,000 - $124,999\", \"$125,000 - $149,999\", \"$150,000 or more\") ~ \"≥$100,000\",\n",
    "                      income_lvl.lab == \"Missing\" ~ \"Missing\")\n",
    "            ))\n",
    "\n",
    "phenos_basic.df %>% reframe(Income_lvl=n_pct(income_lvl.lab))\n",
    "phenos_basic.df %>% reframe(Income_4lvl=n_pct(income_4lvl.lab))"
   ]
  },
  {
   "cell_type": "markdown",
   "metadata": {},
   "source": [
    "Add income:poverty ratio for 2010-2011"
   ]
  },
  {
   "cell_type": "code",
   "execution_count": null,
   "metadata": {},
   "outputs": [],
   "source": [
    "#Resource: https://aspe.hhs.gov/topics/poverty-economic-mobility/poverty-guidelines/prior-hhs-poverty-guidelines-federal-register-references\n",
    "\n",
    "income_lvls <- phenos_basic.df %>% reframe(lvls=n_pct(income_lvl.lab)) \n",
    "income_lvls$num <- c(median(c(0,5000)), median(c(5000, 7999)), median(c(8000, 11999)), median(c(12000,15999)), \n",
    "                            median(c(16000,19999)), median(c(20000,24999)), median(c(25000,29999)), \n",
    "                            median(c(30000,34999)), median(c(35000,39999)), median(c(40000, 49999)), \n",
    "                            median(c(50000, 74999)), median(c(75000, 99999)), median(c(100000, 124999)), median(c(125000, 149000)),\n",
    "                            150000, NA)\n",
    "\n",
    "income_lvls\n",
    "\n",
    "phenos_basic.df <- phenos_basic.df %>% mutate(\n",
    "    income_num=case_when(income_lvl.lab == income_lvls[1,1] ~ income_lvls[1,2],\n",
    "                         income_lvl.lab == income_lvls[2,1] ~ income_lvls[2,2],\n",
    "                         income_lvl.lab == income_lvls[3,1] ~ income_lvls[3,2],\n",
    "                         income_lvl.lab == income_lvls[4,1] ~ income_lvls[4,2],\n",
    "                        income_lvl.lab == income_lvls[5,1] ~ income_lvls[5,2],\n",
    "                        income_lvl.lab == income_lvls[6,1] ~ income_lvls[6,2],\n",
    "                        income_lvl.lab == income_lvls[7,1] ~ income_lvls[7,2],\n",
    "                        income_lvl.lab == income_lvls[8,1] ~ income_lvls[8,2],\n",
    "                        income_lvl.lab == income_lvls[9,1] ~ income_lvls[9,2],\n",
    "                        income_lvl.lab == income_lvls[10,1] ~ income_lvls[10,2],\n",
    "                        income_lvl.lab == income_lvls[11,1] ~ income_lvls[11,2],\n",
    "                        income_lvl.lab == income_lvls[12,1] ~ income_lvls[12,2],\n",
    "                        income_lvl.lab == income_lvls[13,1] ~ income_lvls[13,2],\n",
    "                        income_lvl.lab == income_lvls[14,1] ~ income_lvls[14,2],\n",
    "                        income_lvl.lab == income_lvls[15,1] ~ income_lvls[15,2],\n",
    "                        income_lvl.lab == income_lvls[16,1] ~ income_lvls[16,2],\n",
    "                        ) ) %>% mutate(\n",
    "    income2poverty2011 = ifelse(income_hhld == 1, income_num / 10830, (income_num / (10830 + 3740*(income_hhld-1)))) )\n",
    "\n",
    "   "
   ]
  },
  {
   "cell_type": "markdown",
   "metadata": {},
   "source": [
    "Recode smoking & alch vars"
   ]
  },
  {
   "cell_type": "code",
   "execution_count": null,
   "metadata": {},
   "outputs": [],
   "source": [
    "phenos_basic.df <- phenos_basic.df %>%\n",
    "    mutate(smoke_stat.lab = ifelse(is.na(smoke_stat), \"Missing\", smoke_stat)) %>%\n",
    "    mutate(\n",
    "        factor(smoke_stat, levels = c(\"current smoker\", \"former smoker, quit less than one year\",\n",
    "                                      \"former smoker quit more than 1 year ago\", \"never smoked\", \"do not know\"),\n",
    "        labels = c(\"Current\", \"Former, <1 yr\", \"Former, >1 yr\", \"Never\", \"Missing\"))\n",
    "           ) %>%\n",
    "    mutate(alch_currdrnk.lab = ifelse(is.na(alch_currdrnk), \"Missing\", alch_currdrnk)) %>%\n",
    "    mutate(alch_currdrnk.lab = factor(alch_currdrnk, levels = c(\"no\", \"yes\", \"Missing\"), \n",
    "                                      labels = c(\"Non-drinker\", \"Drinker\", \"Missing\")))\n",
    "                                   \n",
    "\n",
    "phenos_basic.df %>% reframe(smoke=n_pct(smoke_stat.lab))\n",
    "phenos_basic.df %>% reframe(current_drinker=n_pct(alch_currdrnk.lab))"
   ]
  },
  {
   "cell_type": "markdown",
   "metadata": {},
   "source": [
    "Recode medication variables as 0/1"
   ]
  },
  {
   "cell_type": "code",
   "execution_count": null,
   "metadata": {},
   "outputs": [],
   "source": [
    "phenos_basic.df <- phenos_basic.df %>%\n",
    "    mutate(med_t2d = factor(ifelse(med_t2d == \"no\" | is.na(med_t2d), 0, 1)),\n",
    "           med_htn = factor(ifelse(med_htn == \"yes\", 1, 0)),\n",
    "           med_lip = factor(ifelse(med_lip == \"yes\", 1, 0)))\n",
    "phenos_basic.df %>% reframe(med_t2d=n_pct(med_t2d))"
   ]
  },
  {
   "cell_type": "markdown",
   "metadata": {},
   "source": [
    "## Basic diet phenotypes"
   ]
  },
  {
   "cell_type": "code",
   "execution_count": null,
   "metadata": {},
   "outputs": [],
   "source": [
    "# Basic diet phenotypes\n",
    "phenos_diet.df <- read_csv(\"phenotypes/mesa5_phenos_diet.csv\", col_types=cols()) %>%\n",
    "    rename_with(fix_pheno_names, everything()) %>%\n",
    "    mutate(mesa_id = gsub(\"phs000209.v13_\", \"\", \n",
    "                          `\\\\_Parent Study Accession with Subject ID\\\\`),\n",
    "           mesa_id = as.integer(mesa_id)) %>%\n",
    "    rename(Parent_Study_Accession='\\\\_Parent Study Accession with Subject ID\\\\',\n",
    "           TopMed_Study_Accesssion='\\\\_Topmed Study Accession with Subject ID\\\\',\n",
    "           consents='\\\\_consents\\\\') %>%\n",
    "    select(-c(Parent_Study_Accession, TopMed_Study_Accesssion, consents, 'Patient ID')) %>%\n",
    "\n",
    "    rename(energy_kcal=enrgyn5c,\n",
    "           nut_carb_g=tcarbn5c,\n",
    "           nut_prot_g=tprtnn5c,\n",
    "           nut_fat_g=tfatn5c,\n",
    "           nut_sfa_g=tsfan5c,\n",
    "           nut_mufa_g=tmufan5c,\n",
    "           nut_pufa_g=tpufan5c,\n",
    "           nut_fiber_g=tfibrn5c,\n",
    "           nut_fiber_sol_g=sfibrn5c,\n",
    "           nut_fiber_insol_g=isfbrn5c,\n",
    "           nut_fiber_cereal_g=cerealdf5c,\n",
    "           nut_fat_pct=pclftn5c,\n",
    "           nut_carb_pct=pclcbn5c,\n",
    "           nut_prot_pct=pcprtn5c,\n",
    "           nut_sfa_pct=pclsfn5c,\n",
    "           nut_mufa_pct=pclmfn5c,\n",
    "           nut_pufa_pct=pclpfn5c,\n",
    "           nut_alch_g=alcn5c) %>%\n",
    "\n",
    "    mutate(across(c(energy_kcal, nut_carb_g, nut_fat_g, nut_prot_g), remove_outliers.fun)) %>%\n",
    "    mutate(carb2fib = case_when(\n",
    "                nut_carb_g != 0 & nut_fiber_g != 0 ~ nut_carb_g / nut_fiber_g,\n",
    "                !is.na(nut_carb_g) & nut_fiber_g == 0 ~ 0,\n",
    "                is.na(nut_carb_g) | is.na(nut_fiber_g) ~ NA),\n",
    "           fib2carb = case_when(\n",
    "                nut_carb_g != 0 & nut_fiber_g != 0 ~ nut_fiber_g / nut_carb_g,\n",
    "                !is.na(nut_carb_g) & nut_fiber_g == 0 ~ 0,\n",
    "                is.na(nut_fiber_g) | is.na(nut_carb_g) ~ NA)\n",
    "          ) %>%\n",
    "    as.data.frame()\n",
    "\n",
    "head(phenos_diet.df)"
   ]
  },
  {
   "cell_type": "markdown",
   "metadata": {},
   "source": [
    "## Genetic principal components - HOLD FOR LATER"
   ]
  },
  {
   "cell_type": "code",
   "execution_count": null,
   "metadata": {},
   "outputs": [],
   "source": [
    "#system(paste0(\"gsutil cp \", ws_bucket, \"/freeze9b_sample_annot_2020-08-20.txt phenotypes/\"))\n",
    "#f9b_sample_map <- read_tsv(\"phenotypes/freeze9b_sample_annot_2020-08-20.txt\",\n",
    "#                       col_types=cols_only(\"sample.id\"=\"c\", \"subject_id\"=\"c\", \"study\"=\"c\")) %>%\n",
    "#  filter(study == \"MESA\") %>%\n",
    "#  rename(NWD_ID=sample.id, mesa_id=subject_id) %>%\n",
    "#  mutate(mesa_id = as.integer(mesa_id))\n",
    "\n",
    "#gPC_df <- read_tsv(\"phenotypes/freeze9_pcair_results.tsv\", col_types=cols()) %>%\n",
    "#    inner_join(f9b_sample_map, by=c(\"sample.id\"=\"NWD_ID\")) %>%\n",
    "#    rename_with(~paste0(\"g\", .), contains(\"PC\")) %>%\n",
    "#    select(mesa_id, NWD_ID=sample.id, contains(\"gPC\"))\n",
    "\n",
    "# gPC_df <- read_tsv(\"phenotypes/freeze9_pcair_results.tsv\", col_types=cols()) %>%\n",
    "#     inner_join(select(id_df, NWD_ID, mesa_id), by=c(\"sample.id\"=\"NWD_ID\")) %>%\n",
    "#     rename_with(~paste0(\"g\", .), contains(\"PC\")) %>%\n",
    "#     select(mesa_id, contains(\"gPC\"))\n",
    "#head(gPC_df, 3)"
   ]
  },
  {
   "cell_type": "markdown",
   "metadata": {},
   "source": [
    "## Ancestry proportions - HOLD FOR LATER"
   ]
  },
  {
   "cell_type": "code",
   "execution_count": null,
   "metadata": {},
   "outputs": [],
   "source": [
    "#ancestry_prop_fields <- c(\"African\", \"American\", \"East_Asian\", \"European\")\n",
    "#ancestry_prop_df <- read_csv(\"phenotypes/id_match_file.csv\", col_types=cols()) %>%\n",
    "#    mutate(mesa_id = as.integer(Cohort_Specific_Id)) %>%\n",
    "#    filter(is.na(Exclusion_Reason)) %>%\n",
    "#    select(mesa_id, all_of(ancestry_prop_fields)) %>%\n",
    "#    rename_with(~paste0(\"prop_\", .), -mesa_id)\n",
    "#head(ancestry_prop_df, 3)"
   ]
  },
  {
   "cell_type": "markdown",
   "metadata": {},
   "source": [
    "## Genotypes of interest - HOLD FOR LATER"
   ]
  },
  {
   "cell_type": "markdown",
   "metadata": {},
   "source": [
    "## ID matching file"
   ]
  },
  {
   "cell_type": "code",
   "execution_count": null,
   "metadata": {},
   "outputs": [],
   "source": [
    "#id_df <- read_csv(\"phenotypes/id_match_file.csv\", col_types=cols()) %>%\n",
    "#    mutate(mesa_id = as.integer(Cohort_Specific_Id)) %>%\n",
    "#    filter(is.na(Exclusion_Reason)) %>%\n",
    "#    select(mesa_id, NWD_ID=NWD_Id, TOM_ID=TOM_Id)\n",
    "#head(id_df, 3)"
   ]
  },
  {
   "cell_type": "code",
   "execution_count": null,
   "metadata": {},
   "outputs": [],
   "source": [
    "#genos <- readRDS(\"genotypes/analysis_genotypes.rds\")\n",
    "#head(genos, 3)"
   ]
  },
  {
   "cell_type": "markdown",
   "metadata": {},
   "source": [
    "# Create primary analysis dataset"
   ]
  },
  {
   "cell_type": "markdown",
   "metadata": {},
   "source": [
    "## Merge phenotype and genotype datasets"
   ]
  },
  {
   "cell_type": "code",
   "execution_count": null,
   "metadata": {},
   "outputs": [],
   "source": [
    "dim(phenos_basic.df) ; dim(phenos_diet.df)"
   ]
  },
  {
   "cell_type": "code",
   "execution_count": null,
   "metadata": {},
   "outputs": [],
   "source": [
    "# Full dataset BEFORE genotype data\n",
    "analysis.df <- phenos_basic.df %>%\n",
    "    inner_join(phenos_diet.df, by=\"mesa_id\")"
   ]
  },
  {
   "cell_type": "code",
   "execution_count": null,
   "metadata": {},
   "outputs": [],
   "source": [
    "# Cohort basic descriptives\n",
    "pop_description_tbl <- analysis.df %>%\n",
    "    group_by(RaceEthn) %>%\n",
    "    reframe(\n",
    "        N = n(),\n",
    "        Age = mean_sd(age, d=1),\n",
    "        Female = n_pct(female, level=1),\n",
    "        BMI = mean_sd(bmi, d=1)) %>%\n",
    "  arrange(desc(N))\n",
    "\n",
    "pop_description_tbl %>% t()"
   ]
  },
  {
   "cell_type": "markdown",
   "metadata": {},
   "source": [
    "## Distributions"
   ]
  },
  {
   "cell_type": "code",
   "execution_count": null,
   "metadata": {},
   "outputs": [],
   "source": [
    "#plot_continuous <- function(cont_var) {\n",
    "#  analysis.df %>%\n",
    "#    select(var=all_of(cont_var)) %>% filter(!is.na(var)) %>%\n",
    "#    ggplot(aes(x=var)) + geom_histogram(bins=30) +\n",
    "#    labs(title=cont_var, x=cont_var, y=\"frequency\") +\n",
    "#    geom_vline(xintercept = mean(var, na.rm=T), color = \"red\", linewidth=2) +\n",
    "#    ggplot_theme_standard_continuous\n",
    "#}\n",
    "\n",
    "plot_continuous <- function(cont_var) {\n",
    "  d_complete <- analysis.df %>% select(var=all_of(cont_var)) %>% filter(!is.na(var)) \n",
    "  d_complete %>% \n",
    "    ggplot(aes(x=var)) + geom_histogram(bins=30) +\n",
    "    labs(title=cont_var, x=cont_var, y=\"frequency\") +\n",
    "    geom_vline(xintercept = mean(d_complete$var, na.rm=T), linewidth=1) +\n",
    "    geom_vline(xintercept = c(mean(d_complete$var)+c(1,-1)*sd(d_complete$var)), linewidth=1, linetype=\"dashed\") + \n",
    "    geom_vline(xintercept = median(d_complete$var, na.rm=T), linewidth=2, color = \"red\") +\n",
    "    ggplot_theme_standard_continuous\n",
    "}\n",
    "\n",
    "plot_categorical <- function(cat_var) {\n",
    "  analysis.df %>% \n",
    "    select(var=all_of(cat_var)) %>% filter(!is.na(var)) %>%\n",
    "    ggplot(aes(x=factor(var))) + geom_bar(stat=\"count\") +\n",
    "    labs(title=cat_var, x=cat_var) +\n",
    "    ggplot_theme_standard_categorical\n",
    "}\n",
    "\n",
    "plot_xyscatter <- function(x_var, y_var) {\n",
    "  d_complete <- analysis.df %>% select(xvar=x_var, yvar = y_var) %>% filter(complete.cases(.)) \n",
    "  d_complete %>%\n",
    "    ggplot(aes(x=xvar, y=yvar)) + geom_point(size=4, color=\"#00000075\") + \n",
    "    labs(title=paste0(x_var, \" by \", y_var, \"\\nr2 = \",\n",
    "                      round(cor(d_complete$xvar, d_complete$yvar), 3))) +\n",
    "    ylab(y_var) + xlab(x_var) +\n",
    "    ggplot_theme_standard_continuous\n",
    "}\n",
    "\n",
    "options(repr.plot.width=14, repr.plot.height=5)\n",
    "options(warn=-1)"
   ]
  },
  {
   "cell_type": "markdown",
   "metadata": {},
   "source": [
    "### Basic descriptives "
   ]
  },
  {
   "cell_type": "code",
   "execution_count": null,
   "metadata": {},
   "outputs": [],
   "source": [
    "# Basic descriptives\n",
    "age_plt <- plot_continuous(\"age\")\n",
    "gender_plt <- plot_categorical(\"female\")\n",
    "bmi_plt <- plot_continuous(\"bmi\")\n",
    "age_plt + gender_plt + bmi_plt\n",
    "\n",
    "racethn_plt <- plot_categorical(\"RaceEthn\")\n",
    "racethn_plt"
   ]
  },
  {
   "cell_type": "markdown",
   "metadata": {},
   "source": [
    "### SES phenotypes"
   ]
  },
  {
   "cell_type": "code",
   "execution_count": null,
   "metadata": {},
   "outputs": [],
   "source": [
    "# Education & Income variables\n",
    "educ_plt <- plot_categorical(\"educ_lvl.lab\")\n",
    "educ_4lvl_plt <- plot_categorical(\"educ_4lvl.lab\")\n",
    "educ_plt + educ_4lvl_plt\n",
    "\n",
    "inc_plt <- plot_categorical(\"income_lvl.lab\")\n",
    "inc_4lvl_plt <- plot_categorical(\"income_4lvl.lab\")\n",
    "inc_plt + inc_4lvl_plt"
   ]
  },
  {
   "cell_type": "markdown",
   "metadata": {},
   "source": [
    "#### Plot of education x race/ethnicity"
   ]
  },
  {
   "cell_type": "code",
   "execution_count": null,
   "metadata": {},
   "outputs": [],
   "source": [
    "# make plot for Education levels by R/E\n",
    "as.data.frame(with(analysis.df, table(RaceEthn, educ_4lvl.lab))) %>% \n",
    "    ggplot(aes(x=RaceEthn, y=Freq, group=educ_4lvl.lab, fill=educ_4lvl.lab)) + \n",
    "    geom_bar(stat = \"identity\", position=position_dodge()) + \n",
    "    scale_fill_manual(values = c(proj_palettes$pretty_dark[1:5])) + \n",
    "    ggplot_theme_standard_categorical\n",
    "\n",
    "as.data.frame(with(analysis.df, table(RaceEthn, educ_4lvl.lab))) %>% \n",
    "    ggplot(aes(x=educ_4lvl.lab, y=Freq, group=RaceEthn, fill=RaceEthn)) + \n",
    "    geom_bar(stat = \"identity\", position=position_dodge()) + \n",
    "    scale_fill_manual(values = c(proj_palettes$pretty_dark[1:5])) +\n",
    "    ggplot_theme_standard_categorical\n",
    "\n"
   ]
  },
  {
   "cell_type": "markdown",
   "metadata": {},
   "source": [
    "#### Plot of education x income"
   ]
  },
  {
   "cell_type": "code",
   "execution_count": null,
   "metadata": {},
   "outputs": [],
   "source": [
    "# Education x Income\n",
    "as.data.frame(with(analysis.df, table(educ_4lvl.lab, income_4lvl.lab))) %>% \n",
    "    ggplot(aes(x=educ_4lvl.lab, y=Freq, group=income_4lvl.lab, fill=income_4lvl.lab)) + \n",
    "    geom_bar(stat = \"identity\", position=position_stack()) + \n",
    "    scale_fill_manual(values = c(proj_palettes$pretty_dark[1:5])) "
   ]
  },
  {
   "cell_type": "markdown",
   "metadata": {},
   "source": [
    "### Diet phenotypes"
   ]
  },
  {
   "cell_type": "markdown",
   "metadata": {},
   "source": [
    "Total energy"
   ]
  },
  {
   "cell_type": "code",
   "execution_count": null,
   "metadata": {},
   "outputs": [],
   "source": [
    "energy_plt <- plot_continuous(\"energy_kcal\")\n",
    "energy_plt"
   ]
  },
  {
   "cell_type": "markdown",
   "metadata": {},
   "source": [
    "Macronutrients (g & %kcal)"
   ]
  },
  {
   "cell_type": "code",
   "execution_count": null,
   "metadata": {},
   "outputs": [],
   "source": [
    "carb_plt <- plot_continuous(\"nut_carb_g\")\n",
    "carb_pct_plt <- plot_continuous(\"nut_carb_pct\")\n",
    "fat_plt <- plot_continuous(\"nut_fat_g\")\n",
    "fat_pct_plt <- plot_continuous(\"nut_fat_pct\")\n",
    "prot_plt <- plot_continuous(\"nut_prot_g\")\n",
    "prot_pct_plt <- plot_continuous(\"nut_prot_pct\")\n",
    "carb_plt + carb_pct_plt \n",
    "fat_plt + fat_pct_plt\n",
    "prot_plt + prot_pct_plt"
   ]
  },
  {
   "cell_type": "markdown",
   "metadata": {},
   "source": [
    "Fat types (g & %kcal)"
   ]
  },
  {
   "cell_type": "code",
   "execution_count": null,
   "metadata": {},
   "outputs": [],
   "source": [
    "mufa_plt <- plot_continuous(\"nut_mufa_g\")\n",
    "mufa_pct_plt <- plot_continuous(\"nut_mufa_pct\")\n",
    "pufa_plt <- plot_continuous(\"nut_pufa_g\")\n",
    "pufa_pct_plt <- plot_continuous(\"nut_pufa_pct\")\n",
    "sfa_plt <- plot_continuous(\"nut_sfa_g\")\n",
    "sfa_pct_plt <- plot_continuous(\"nut_sfa_pct\")\n",
    "\n",
    "mufa_plt + mufa_pct_plt\n",
    "pufa_plt + pufa_pct_plt\n",
    "sfa_plt + sfa_pct_plt"
   ]
  },
  {
   "cell_type": "markdown",
   "metadata": {},
   "source": [
    "### Carbohydrate quality"
   ]
  },
  {
   "cell_type": "code",
   "execution_count": null,
   "metadata": {},
   "outputs": [],
   "source": [
    "fib_plt <- plot_continuous(\"nut_fiber_g\")\n",
    "fibsol_plt <- plot_continuous(\"nut_fiber_sol_g\")\n",
    "fibinsol_plt <- plot_continuous(\"nut_fiber_insol_g\")\n",
    "fib_plt \n",
    "fibsol_plt + fibinsol_plt\n",
    "\n",
    "# note: soluble + insoluble = total"
   ]
  },
  {
   "cell_type": "markdown",
   "metadata": {},
   "source": [
    "**Carbohydrate-to-fiber ratio"
   ]
  },
  {
   "cell_type": "code",
   "execution_count": null,
   "metadata": {},
   "outputs": [],
   "source": [
    "carb2fib_plt <- plot_continuous(\"carb2fib\") \n",
    "fib2carb_plt <- plot_continuous(\"fib2carb\") \n",
    "carb2fib_plt + fib2carb_plt\n"
   ]
  },
  {
   "cell_type": "code",
   "execution_count": null,
   "metadata": {},
   "outputs": [],
   "source": [
    "## Add ranges, means/sd, medians\n",
    "c(\"Carb-to-Fiber: \", round(quantile(analysis.df$carb2fib, na.rm=T, probs=seq(0,1,0.2), include.lowest=T), 1))\n",
    "c(\"Fiber-to-Carb: \", round(quantile(analysis.df$fib2carb, na.rm=T, probs=seq(0,1,0.2), include.lowest=T), 3))\n",
    "\n",
    "# Create boxplot to identify potential outliers\n",
    "carb2fib_boxplt <- analysis.df %>% select(\"carb2fib\") %>%\n",
    "    filter(!is.na(\"carb2fib\")) %>%\n",
    "    ggplot(aes(x=carb2fib)) + \n",
    "    geom_boxplot(outlier.color=\"red\") +\n",
    "    ggplot_theme_standard_continuous\n",
    "\n",
    "# Create boxplot to identify potential outliers\n",
    "fib2carb_boxplt <- analysis.df %>% select(\"fib2carb\") %>%\n",
    "    filter(!is.na(\"fib2carb\")) %>%\n",
    "    ggplot(aes(x=fib2carb)) + \n",
    "    geom_boxplot(outlier.color=\"red\") +\n",
    "    ggplot_theme_standard_continuous\n",
    "\n",
    "carb2fib_boxplt\n",
    "fib2carb_boxplt"
   ]
  },
  {
   "cell_type": "code",
   "execution_count": null,
   "metadata": {},
   "outputs": [],
   "source": [
    "#carb-to-fib\n",
    "bounds_5SD <- c(mean(analysis.df$carb2fib, na.rm=T)+c(-5,5)*sd(analysis.df$carb2fib, na.rm=T))\n",
    "bounds_5to95 <- quantile(analysis.df$carb2fib, na.rm=T, probs = c(0.05, 0.25, 0.5, 0.75, 0.95))\n",
    "\n",
    "analysis.df %>% \n",
    "select(\"carb2fib\") %>%\n",
    "    filter(!is.na(\"carb2fib\")) %>%\n",
    "    mutate(gt5SD = ifelse(carb2fib < bounds_5SD[1] | carb2fib > bounds_5SD[2],\">5 SD\", \"ok\")) %>%\n",
    "    mutate(out5to95 = ifelse(carb2fib < bounds_5to95[1] | carb2fib > bounds_5to95[5],\">5 to 95%\", \"ok\")) %>%\n",
    "    reframe(Outliers_carb2fib_gt5SD=n_pct(gt5SD),\n",
    "           Outliers_carb2fib_out5to95=n_pct(out5to95))\n",
    "\n",
    "\n",
    "#fib-to-carb\n",
    "bounds_5SD <- c(mean(analysis.df$fib2carb, na.rm=T)+c(-5,5)*sd(analysis.df$fib2carb, na.rm=T))\n",
    "bounds_5to95 <- quantile(analysis.df$fib2carb, na.rm=T, probs = c(0.05, 0.25, 0.5, 0.75, 0.95))\n",
    "\n",
    "analysis.df %>% \n",
    "select(\"fib2carb\") %>%\n",
    "    filter(!is.na(\"fib2carb\")) %>%\n",
    "    mutate(gt5SD = ifelse(fib2carb < bounds_5SD[1] | fib2carb > bounds_5SD[2],\">5 SD\", \"ok\")) %>%\n",
    "    mutate(out5to95 = ifelse(fib2carb < bounds_5to95[1] | fib2carb > bounds_5to95[5],\">5 to 95%\", \"ok\")) %>%\n",
    "    reframe(Outliers_fib2carb_gt5SD=n_pct(gt5SD),\n",
    "           Outliers_fib2carb_out5to95=n_pct(out5to95))\n"
   ]
  },
  {
   "cell_type": "markdown",
   "metadata": {},
   "source": [
    "Note on outliers for Carbohydrate-to-fiber ratio: \n",
    "\n",
    "* 13 (0.3%) values are outside mean+/- 5 SDs\n",
    "* 406 (10%) vauues are outside 5 to 95% of the data\n"
   ]
  },
  {
   "cell_type": "markdown",
   "metadata": {},
   "source": [
    "### Covariates"
   ]
  },
  {
   "cell_type": "markdown",
   "metadata": {},
   "source": [
    "Lifestyle factors"
   ]
  },
  {
   "cell_type": "code",
   "execution_count": null,
   "metadata": {},
   "outputs": [],
   "source": [
    "smk_plt <- plot_categorical(\"smoke_stat.lab\")\n",
    "smkyrs_plt <- plot_continuous(\"smoke_packyrs\")\n",
    "alc_plt <- plot_categorical(\"alch_currdrnk.lab\")\n",
    "pa_plt <- plot_continuous(\"physact_mvpa\")\n",
    "smk_plt + smkyrs_plt\n",
    "alc_plt + pa_plt"
   ]
  },
  {
   "cell_type": "markdown",
   "metadata": {},
   "source": [
    "Health status-related covariates"
   ]
  },
  {
   "cell_type": "code",
   "execution_count": null,
   "metadata": {},
   "outputs": [],
   "source": [
    "med_t2d_plt <- plot_categorical(\"med_t2d\")\n",
    "med_htn_plt <- plot_categorical(\"med_htn\")\n",
    "med_lip_plt <- plot_categorical(\"med_lip\")\n",
    "med_t2d_plt + med_htn_plt + med_lip_plt"
   ]
  },
  {
   "cell_type": "code",
   "execution_count": null,
   "metadata": {},
   "outputs": [],
   "source": [
    "# Batch variables\n",
    "#site_plt <- plot_categorical(\"site\")\n",
    "#month_plt <- plot_categorical(\"month\") + theme(axis.text.x=element_text(angle=30, hjust=0.9))\n",
    "#season_plt <- plot_categorical(\"season\")\n",
    "#site_plt + month_plt + season_plt"
   ]
  },
  {
   "cell_type": "code",
   "execution_count": null,
   "metadata": {},
   "outputs": [],
   "source": [
    "missingness_vars <- c(\n",
    "    \"age\", \"gender\", \"bmi\", \"RaceEthn\",\n",
    "    \"educ_4lvl.lab\", \"income_4lvl.lab\",\n",
    "    \"energy_kcal\",\n",
    "    \"nut_carb_g\", \"carb2fib\", \"nut_fat_g\", \"nut_prot_g\",\n",
    "    \"alch_currdrnk.lab\", \"smoke_stat.lab\",\n",
    "    \"med_t2d\", \"med_htn\", \"med_lip\")\n",
    "\n",
    "analysis.df %>%\n",
    "    select(all_of(missingness_vars)) %>%\n",
    "    mutate(across(everything(), is.na)) %>%\n",
    "    summarise(across(everything(), sum)) %>% t()"
   ]
  },
  {
   "cell_type": "markdown",
   "metadata": {},
   "source": [
    "Note the abnormally large amount of missingness for T2D medications"
   ]
  },
  {
   "cell_type": "markdown",
   "metadata": {},
   "source": [
    "## Additional phenotype preprocessing"
   ]
  },
  {
   "cell_type": "markdown",
   "metadata": {},
   "source": [
    "We will include a few more preprocessing steps to prepare the data for analysis.\n",
    "\n",
    "* Add log(x+1) sqrt transformation to continuous carbohydrate/carb2fib variables to reduce extreme skewness\n",
    "* Imputation of covariate values to retain sample size, using:\n",
    "    - Median value for continuous variables\n",
    "    - \"Missing\" indicator for categorical income\n",
    "    - \"Never\" for smoking"
   ]
  },
  {
   "cell_type": "code",
   "execution_count": null,
   "metadata": {},
   "outputs": [],
   "source": [
    "#table(analysis.df$educ_4lvl.lab)\n",
    "#analysis.df <- analysis.df %>%\n",
    "#  mutate(\n",
    "#      educ_lvl.lab = case_when(is.na(educ_lvl.lab) == TRUE ~ \"Missing\",\n",
    "#                               !is.na(educ_lvl.lab) ~ educ_lvl.lab),\n",
    "#      educ_4lvl.lab = case_when(is.na(educ_4lvl.lab) == TRUE ~ \"Missing\",\n",
    "#                               !is.na(educ_4lvl.lab) ~ educ_4lvl.lab),\n",
    "#      \n",
    "#\n",
    "#      across(all_of(c(\"nut_carb_g\", \"nut_fat_g\", \"nut_prot_g\", \"nut_fiber_g\", \"carb2fib\")), \n",
    "#                ~ ifelse(is.na(.), median(., na.rm = TRUE), .)))\n",
    "#\n",
    "#table(analysis_clean.df$educ_4lvl.lab)"
   ]
  },
  {
   "cell_type": "code",
   "execution_count": null,
   "metadata": {},
   "outputs": [],
   "source": [
    "# Re-run basic participant descriptives\n",
    "\n",
    "analysis.df %>%\n",
    "    group_by(RaceEthn) %>%\n",
    "    reframe(\n",
    "        N = n(),\n",
    "        Age = mean_sd(age, d=1),\n",
    "        Female = n_pct(female, level=1),\n",
    "        BMI = mean_sd(bmi, d=1)) %>%\n",
    "      arrange(desc(N)) %>% t()"
   ]
  },
  {
   "cell_type": "markdown",
   "metadata": {},
   "source": [
    "# Run basic correlations among diet variables"
   ]
  },
  {
   "cell_type": "markdown",
   "metadata": {},
   "source": [
    "### Carbohydrate & macronutrients"
   ]
  },
  {
   "cell_type": "code",
   "execution_count": null,
   "metadata": {},
   "outputs": [],
   "source": [
    "options(repr.plot.width=14, repr.plot.height=5)\n",
    "options(warn=-1)\n",
    "\n",
    "# Carbohydrates vs. macros\n",
    "carbfat_plt<-plot_xyscatter(\"nut_carb_g\", \"nut_fat_g\")\n",
    "carbprot_plt<-plot_xyscatter(\"nut_carb_g\", \"nut_prot_g\")\n",
    "carbengy_plot <- plot_xyscatter(\"nut_carb_g\", \"energy_kcal\")\n",
    "carbfat_plt + carbprot_plt + carbengy_plot\n",
    "\n",
    "# Carbohydrates vs. types of fat\n",
    "carbmufa_plt<-plot_xyscatter(\"nut_carb_g\", \"nut_mufa_g\")\n",
    "carbpufa_plt<-plot_xyscatter(\"nut_carb_g\", \"nut_pufa_g\")\n",
    "carbsfa_plot <- plot_xyscatter(\"nut_carb_g\", \"nut_sfa_g\")\n",
    "carbmufa_plt + carbpufa_plt + carbsfa_plot\n"
   ]
  },
  {
   "cell_type": "markdown",
   "metadata": {},
   "source": [
    "### Carbohydrate & fiber sources"
   ]
  },
  {
   "cell_type": "code",
   "execution_count": null,
   "metadata": {},
   "outputs": [],
   "source": [
    "carb2fib_plt <- plot_continuous(\"carb2fib\")\n",
    "carbfib_plt<-plot_xyscatter(\"nut_carb_g\", \"nut_fiber_g\")\n",
    "carb2fib_plt + carbfib_plt \n",
    "\n",
    "carbfibsol_plt<-plot_xyscatter(\"nut_carb_g\", \"nut_fiber_sol_g\")\n",
    "carbfibinsol_plt<-plot_xyscatter(\"nut_carb_g\", \"nut_fiber_insol_g\")\n",
    "carbfibsol_plt + carbfibinsol_plt + carbfibcer_plt\n"
   ]
  },
  {
   "cell_type": "markdown",
   "metadata": {},
   "source": [
    "## Merge and align primary and metabolomics datasets"
   ]
  },
  {
   "cell_type": "markdown",
   "metadata": {},
   "source": [
    "## PEER factors"
   ]
  },
  {
   "cell_type": "code",
   "execution_count": null,
   "metadata": {},
   "outputs": [],
   "source": [
    "# system(paste0(\n",
    "#     \"conda config --add channels bioconda &&\",\n",
    "#     \"conda install r-peer\"\n",
    "# ))\n",
    "\n",
    "# system(\"wget https://github.com/downloads/PMBio/peer/R_peer_source_1.3.tgz\", intern=T)\n",
    "# system(\"R CMD INSTALL R_peer_source_1.3.tgz\")"
   ]
  },
  {
   "cell_type": "markdown",
   "metadata": {},
   "source": [
    "# Covariate descriptions across education levels"
   ]
  },
  {
   "cell_type": "markdown",
   "metadata": {},
   "source": [
    "### Demographic, behavioral & lifestyle phenotypes"
   ]
  },
  {
   "cell_type": "code",
   "execution_count": null,
   "metadata": {},
   "outputs": [],
   "source": [
    "analysis.df %>% \n",
    "    group_by(educ_4lvl.lab) %>%\n",
    "    reframe(\n",
    "        N = n(),\n",
    "        Age = mean_sd(age, d=1),\n",
    "        Female = n_pct(female, level=1),\n",
    "        BMI = mean_sd(bmi, d=1),\n",
    "        Smoking_Current = n_pct(smoke_stat.lab, level=\"Current\"),\n",
    "        Smoking_Former_lt1yr = n_pct(smoke_stat.lab, level=\"Former, <1 yr\"),\n",
    "        Smoking_Former_gt1yr = n_pct(smoke_stat.lab, level=\"Former, >1 yr\"),\n",
    "        Smoking_Never = n_pct(smoke_stat.lab, level=\"Never\"),\n",
    "        PA_MVPA = mean_sd(physact_mvpa),\n",
    "        Alchohol_Drinker = n_pct(alch_currdrnk.lab, level=\"Drinker\"),\n",
    "        Medication_t2d = n_pct(med_t2d, level=1),\n",
    "        Medication_htn = n_pct(med_htn, level=1),\n",
    "        Medication_lipid = n_pct(med_lip, level=1),\n",
    "        Fasting_Glucose= mean_sd(glucose),\n",
    "        HbA1c=mean_sd(hba1c),\n",
    "        Triglyceride=mean_sd(tg),\n",
    "        LDL=mean_sd(ldl),\n",
    "        HDL=mean_sd(hdl)\n",
    "    ) %>% t()\n",
    "\n"
   ]
  },
  {
   "cell_type": "markdown",
   "metadata": {},
   "source": [
    "### Diet phenotypes"
   ]
  },
  {
   "cell_type": "markdown",
   "metadata": {},
   "source": [
    "Macronutrients"
   ]
  },
  {
   "cell_type": "code",
   "execution_count": null,
   "metadata": {},
   "outputs": [],
   "source": [
    "analysis.df %>% \n",
    "    group_by(educ_4lvl.lab) %>%\n",
    "    reframe(\n",
    "        N = n(),\n",
    "        Energy_kcal=mean_sd(energy_kcal),\n",
    "        Carb_g=mean_sd(nut_carb_g),\n",
    "        Protein_g=mean_sd(nut_prot_g),\n",
    "        Fat_g=mean_sd(nut_fat_g),\n",
    "        MUFA_g=mean_sd(nut_mufa_g),\n",
    "        PUFA_g=mean_sd(nut_pufa_g),\n",
    "        SFA_g=mean_sd(nut_sfa_g),\n",
    "        Carb_pct=mean_sd(nut_carb_pct),\n",
    "        Protein_pct=mean_sd(nut_prot_pct),\n",
    "        Fat_pct=mean_sd(nut_fat_pct),\n",
    "        MUFA_pct=mean_sd(nut_mufa_pct),\n",
    "        PUFA_pct=mean_sd(nut_pufa_pct),\n",
    "        SFA_pct=mean_sd(nut_sfa_pct)\n",
    "    ) %>% t()\n"
   ]
  },
  {
   "cell_type": "markdown",
   "metadata": {},
   "source": [
    "Carbohydrate Quality"
   ]
  },
  {
   "cell_type": "code",
   "execution_count": null,
   "metadata": {},
   "outputs": [],
   "source": [
    "analysis.df %>% \n",
    "    group_by(educ_4lvl.lab) %>%\n",
    "    reframe(\n",
    "        N = n(),\n",
    "        Carb_to_Fiber=mean_sd(carb2fib),\n",
    "        Fiber_to_Carb=mean_sd(fib2carb, d=3),\n",
    "        Fiber_g=mean_sd(nut_fiber_g),\n",
    "        Fiber_soluble_g=mean_sd(nut_fiber_sol_g),\n",
    "        Fiber_insoluble_g=mean_sd(nut_fiber_insol_g)\n",
    "    ) %>% t()\n"
   ]
  },
  {
   "cell_type": "markdown",
   "metadata": {},
   "source": [
    "\n",
    "\n",
    "\n",
    "\n",
    "\n",
    "\n",
    "\n",
    "\n",
    "\n",
    "\n",
    "\n"
   ]
  },
  {
   "cell_type": "markdown",
   "metadata": {},
   "source": [
    "# Assessment of the SNPs and exposures of interest"
   ]
  },
  {
   "cell_type": "code",
   "execution_count": null,
   "metadata": {},
   "outputs": [],
   "source": [
    "snp_info_df <- read_csv(\"genotypes/snp_info.csv\", col_types=cols())\n",
    "exposures <- c(\"pa_bin\")"
   ]
  },
  {
   "cell_type": "markdown",
   "metadata": {},
   "source": [
    "## Incorporation of technical covariates"
   ]
  },
  {
   "cell_type": "code",
   "execution_count": null,
   "metadata": {},
   "outputs": [],
   "source": [
    "technical_covar_sets <- list(\n",
    "    none = \"\",\n",
    "    add_site = c(\"gender_f0m1\", \"age\", \"site\")\n",
    ")\n",
    "\n",
    "test_univariate <- function(y, x, covar_vec) {\n",
    "    form_str <- paste0(y, \" ~ \", x)\n",
    "    if (!identical(covar_vec, \"\")) {\n",
    "        form_str <- paste0(form_str, \" + \", paste(covar_vec, collapse=\" + \"))\n",
    "    }\n",
    "    lm(as.formula(form_str), data=analysis_df_lcms) %>%\n",
    "        broom::tidy() %>%\n",
    "        filter(term == x)\n",
    "}"
   ]
  },
  {
   "cell_type": "code",
   "execution_count": null,
   "metadata": {},
   "outputs": [],
   "source": [
    "snp_mPC_technical_covar_assoc_df <- expand_grid(\n",
    "    snp = snp_info_df$rsID,\n",
    "    mPC = paste0(\"mPC\", 1:3),\n",
    "    covar_set = names(technical_covar_sets) \n",
    ") %>%\n",
    "    rowwise() %>%\n",
    "    mutate(lm_res = list(test_univariate(mPC, snp, technical_covar_sets[[covar_set]]))) %>%\n",
    "    unnest(lm_res)\n",
    "\n",
    "exp_mPC_technical_covar_assoc_df <- expand_grid(\n",
    "    e = exposures,\n",
    "    mPC = paste0(\"mPC\", 1:3),\n",
    "    covar_set = names(technical_covar_sets) \n",
    ") %>%\n",
    "    rowwise() %>%\n",
    "    mutate(lm_res = list(test_univariate(mPC, e, technical_covar_sets[[covar_set]]))) %>%\n",
    "    unnest(lm_res)"
   ]
  },
  {
   "cell_type": "code",
   "execution_count": null,
   "metadata": {},
   "outputs": [],
   "source": [
    "options(repr.plot.width=8, repr.plot.height=6)\n",
    "\n",
    "snp_mPC_technical_covar_assoc_df %>%\n",
    "    mutate(l95 = estimate - 1.96 * std.error,\n",
    "           u95 = estimate + 1.96 * std.error,\n",
    "           covar_set = factor(covar_set, levels=names(technical_covar_sets))) %>%\n",
    "    ggplot(aes(x=snp, y=estimate, color=covar_set)) +\n",
    "    geom_point(position=position_dodge(width=0.2)) +\n",
    "    geom_errorbar(aes(ymin=l95, ymax=u95), \n",
    "                  position=position_dodge(width=0.2), width=0.1) +\n",
    "    geom_hline(yintercept=0, color=\"gray\") +\n",
    "    facet_wrap(~mPC, ncol=1, scales=\"free\")\n",
    "\n",
    "exp_mPC_technical_covar_assoc_df %>%\n",
    "    mutate(l95 = estimate - 1.96 * std.error,\n",
    "           u95 = estimate + 1.96 * std.error,\n",
    "           covar_set = factor(covar_set, levels=names(technical_covar_sets))) %>%\n",
    "    ggplot(aes(x=e, y=estimate, color=covar_set)) +\n",
    "    geom_point(position=position_dodge(width=0.2)) +\n",
    "    geom_errorbar(aes(ymin=l95, ymax=u95), \n",
    "                  position=position_dodge(width=0.2), width=0.1) +\n",
    "    geom_hline(yintercept=0, color=\"gray\") +\n",
    "    facet_wrap(~mPC, ncol=1, scales=\"free\")"
   ]
  },
  {
   "cell_type": "markdown",
   "metadata": {},
   "source": [
    "## Incorporation of biological covariates"
   ]
  },
  {
   "cell_type": "code",
   "execution_count": null,
   "metadata": {},
   "outputs": [],
   "source": [
    "biological_covar_sets <- list(\n",
    "    basic = \"site\",\n",
    "    add_gender_age = c(\"site\", \"gender_f0m1\", \"age\"),\n",
    "    add_gender_age_race = c(\"site\", \"gender_f0m1\", \"age\", \"race\"),\n",
    "    add_gender_age_ses = c(\"site\", \"gender_f0m1\", \"age\", \"ses_score\", \"income_cat\"),\n",
    "    add_gender_age_ses_HL = c(\"site\", \"gender_f0m1\", \"age\", \"ses_score\", \"income_cat\", \n",
    "                              \"drinks_per_week\", \"smoking\", \"ahei_score\", \"dash_score\"),\n",
    "    add_gender_age_gPC = c(\"gender_f0m1\", \"age\", paste0(\"gPC\", 1:5)),\n",
    "    add_gender_age_race_gPC = c(\"site\", \"gender_f0m1\", \"age\", \"race\", paste0(\"gPC\", 1:5))\n",
    ")"
   ]
  },
  {
   "cell_type": "code",
   "execution_count": null,
   "metadata": {},
   "outputs": [],
   "source": [
    "snp_mPC_biological_covar_assoc_df <- expand_grid(\n",
    "    snp = snp_info_df$rsID,\n",
    "    mPC = paste0(\"mPC\", 1:3),\n",
    "    covar_set = names(biological_covar_sets) \n",
    ") %>%\n",
    "    rowwise() %>%\n",
    "    mutate(lm_res = list(test_univariate(snp, mPC, biological_covar_sets[[covar_set]]))) %>%\n",
    "    unnest(lm_res)\n",
    "\n",
    "exp_mPC_biological_covar_assoc_df <- expand_grid(\n",
    "    e = exposures,\n",
    "    mPC = paste0(\"mPC\", 1:3),\n",
    "    covar_set = names(biological_covar_sets) \n",
    ") %>%\n",
    "    rowwise() %>%\n",
    "    mutate(lm_res = list(test_univariate(e, mPC, biological_covar_sets[[covar_set]]))) %>%\n",
    "    unnest(lm_res)"
   ]
  },
  {
   "cell_type": "code",
   "execution_count": null,
   "metadata": {},
   "outputs": [],
   "source": [
    "options(repr.plot.width=12, repr.plot.height=6)\n",
    "\n",
    "snp_mPC_biological_covar_assoc_df %>%\n",
    "    mutate(l95 = estimate - 1.96 * std.error,\n",
    "           u95 = estimate + 1.96 * std.error,\n",
    "           covar_set = factor(covar_set, levels=names(biological_covar_sets))) %>%\n",
    "    ggplot(aes(x=snp, y=estimate, color=covar_set)) +\n",
    "    geom_point(position=position_dodge(width=0.2)) +\n",
    "    geom_errorbar(aes(ymin=l95, ymax=u95), \n",
    "                  position=position_dodge(width=0.2), width=0.1) +\n",
    "    geom_hline(yintercept=0, color=\"gray\") +\n",
    "    facet_wrap(~mPC, ncol=1, scales=\"free\")\n",
    "\n",
    "exp_mPC_biological_covar_assoc_df %>%\n",
    "    mutate(l95 = estimate - 1.96 * std.error,\n",
    "           u95 = estimate + 1.96 * std.error,\n",
    "           covar_set = factor(covar_set, levels=names(biological_covar_sets))) %>%\n",
    "    ggplot(aes(x=e, y=estimate, color=covar_set)) +\n",
    "    geom_point(position=position_dodge(width=0.2)) +\n",
    "    geom_errorbar(aes(ymin=l95, ymax=u95), \n",
    "                  position=position_dodge(width=0.2), width=0.1) +\n",
    "    geom_hline(yintercept=0, color=\"gray\") +\n",
    "    facet_wrap(~mPC, ncol=1, scales=\"free\")"
   ]
  },
  {
   "cell_type": "markdown",
   "metadata": {},
   "source": [
    "# Conclusions"
   ]
  },
  {
   "cell_type": "markdown",
   "metadata": {},
   "source": [
    "* The most important covariates affecting top PCs are study site and race (highly correlated) as well as gender\n",
    "* It appears that most of the high-level metabolite associations can be captured with about 9 metabolite PCs (for both genotypes and exposures) \n",
    "* So, we want to adjust for PEER factors, and we are OK knowing that they are representing expected variables."
   ]
  },
  {
   "cell_type": "markdown",
   "metadata": {},
   "source": [
    "# Export final datasets for analysis"
   ]
  },
  {
   "cell_type": "code",
   "execution_count": null,
   "metadata": {},
   "outputs": [],
   "source": [
    "write_csv(analysis_df, \"analysis/analysis_df.csv\")  # All individuals\n",
    "write_csv(analysis_df_lcms, \"analysis/analysis_df_lcms.csv\")  # Matched to the LC/MS dataset\n",
    "saveRDS(mesa_metab_mat, \"metabolites/lcms_metabolites.rds\")\n",
    "system(paste0(\"gsutil cp -R phenotypes analysis metabolites \", ws_bucket, \"/\"))"
   ]
  }
 ],
 "metadata": {
  "kernelspec": {
   "display_name": "R",
   "language": "R",
   "name": "ir"
  },
  "language_info": {
   "codemirror_mode": "r",
   "file_extension": ".r",
   "mimetype": "text/x-r-source",
   "name": "R",
   "pygments_lexer": "r",
   "version": "4.3.2"
  },
  "toc": {
   "base_numbering": 1,
   "nav_menu": {},
   "number_sections": true,
   "sideBar": true,
   "skip_h1_title": false,
   "title_cell": "Table of Contents",
   "title_sidebar": "Contents",
   "toc_cell": false,
   "toc_position": {},
   "toc_section_display": true,
   "toc_window_display": false
  }
 },
 "nbformat": 4,
 "nbformat_minor": 2
}
