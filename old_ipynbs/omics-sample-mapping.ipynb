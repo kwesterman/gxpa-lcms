{
 "cells": [
  {
   "cell_type": "markdown",
   "metadata": {},
   "source": [
    "# Import"
   ]
  },
  {
   "cell_type": "code",
   "execution_count": null,
   "metadata": {},
   "outputs": [],
   "source": [
    "bucket <- \"gs://fc-secure-8c0f9180-d3ff-4f0d-8299-78e01606927c\"\n",
    "filenames <- c(\"t2d_f9_sgaynor.4.24_harmonized_postprocessed.csv\",\n",
    "               \"common_covariates_PIC-SURE_12-9-2021_AKM.csv\",\n",
    "               \"ancestry.supervised.fhs.mesa.whi.xlsx\",\n",
    "               \"WHI_omics_technical_phenotypes_2021-05-25_good.csv\",\n",
    "               \"omics_sample_metadata_WHI_RNAseq.xlsx\",\n",
    "               \"omics_sample_metadata_WHI_metabolomics.csv\",\n",
    "               \"TOPMed_MESA_RNAseq_sample_attributes_freeze.xlsx\",\n",
    "               \"MESA_TOPMed_Metab_Proteo_BySidnoExam.csv\",\n",
    "               \"meth_metab_timepoint_visit_info_17FEB2022.csv\",\n",
    "               \"WHI_omics_technical_phenotypes_2021-05-25_good_added_bmi.csv\")\n",
    "filepaths <- paste0(bucket,'/',filenames)\n",
    "sapply(filepaths, function(filepath) system(paste(\"gsutil cp\",filepath,\"./ 2>&1\")) ) # If 1, file failed to copy"
   ]
  },
  {
   "cell_type": "markdown",
   "metadata": {},
   "source": [
    "# Read"
   ]
  },
  {
   "cell_type": "code",
   "execution_count": null,
   "metadata": {},
   "outputs": [],
   "source": [
    "library(readxl)\n",
    "library(data.table)\n",
    "# \"bdl\" stands for \"BIG DF LIST!\", a list of all those clinical variable dfs together.\n",
    "bdl <- lapply(filenames, function(filename) {\n",
    "    if(grepl(\".csv\", filename)) return(read.csv(filename))\n",
    "    if(grepl(\".xlsx\",filename)) return(read_excel(filename))\n",
    "})\n",
    "names(bdl) <- filenames"
   ]
  },
  {
   "cell_type": "code",
   "execution_count": null,
   "metadata": {},
   "outputs": [],
   "source": [
    " # Inspect\n",
    "lapply(bdl,dim)\n",
    "lapply(bdl,head)"
   ]
  },
  {
   "cell_type": "markdown",
   "metadata": {},
   "source": [
    "# Keep only needed cols"
   ]
  },
  {
   "cell_type": "code",
   "execution_count": null,
   "metadata": {},
   "outputs": [],
   "source": [
    "bdl[[1]] <- bdl[[1]][bdl[[1]]$study %in% c(\"MESA\",\"WHI\"),\n",
    "                      c(\"sample.id\", # NWD\n",
    "                        \"subject_id\", # DBG\n",
    "                        \"sex\",\n",
    "                        \"ancestry\", # AF AS EU HS SAS. \"population\" col is an identical()==TRUE copy of this.\n",
    "                                      # NOTE: compare this with \"population\" in kent's file (bdl[[3]]) to make sure they match\n",
    "                        \"topmedid\", # NWD\n",
    "                        \"t2d\", # 0, 1, or 2\n",
    "                        \"t2d_age\",\n",
    "                        \"t2d_bmi\")]\n",
    "bdl[[2]] <- bdl[[2]][bdl[[2]]$`X._VCF.Sample.Id.`!=\"\",\n",
    "                      c(\"X.DCC.Harmonized.data.set.03...Baseline.common.covariates.Indicates.whether.subject.ever.regularly.smoked.cigarettes..\",\n",
    "                        # ^ Current or former cigarette smoker\", or \"Never a cigarette smoker\", or blank \"\" (factor)\n",
    "                        \"X._VCF.Sample.Id.\")] # NWD\n",
    "bdl[[2]] <- bdl[[2]][complete.cases(bdl[[2]]),]\n",
    "bdl[[3]] <- bdl[[3]][bdl[[3]]$study %in% c(\"WHI\",\"MESA\"), # \"population\" & \"group\" are empty for WHI/MESA entries.\n",
    "                      c(\"index\", # \"index\" & \"subject\" are identical, just picked one\n",
    "                        \"europe\",\n",
    "                        \"african\",\n",
    "                        \"american\",\n",
    "                        \"east_asian\",\n",
    "                        \"study\")]\n",
    "bdl[[4]] <- bdl[[4]][,c(\"subject_id\", # \"7#####\" WHI-specific ID\n",
    "                        \"olink_id\", # (just for proteomics)\n",
    "                        \"rnaseq_id\",      # TOR\n",
    "                        \"methylation_id\", # TOE\n",
    "                        \"TOM_ID\",         # TOM\n",
    "                        \"methylation_batch\", # 14 batches \"B0001\"-\"B0014\" and also a blank \"\" batch.\n",
    "                        \"methylation_chip\", # just a constant: 2.03e+11\n",
    "                        \"methylation_row\", # 8 batches \"R01\"-\"RO8\" and also a blank \"\" batch.\n",
    "                        \"rnaseq_batch\",\n",
    "                        \"draw_age\")]\n",
    "bdl[[5]] <- bdl[[5]][,c(\"SUBJECT_ID\", # WHI-specific \"7######\" IDs (RNASeq)\n",
    "                        \"SAMPLE_ID\",  # TOR\n",
    "                        \"Subject_fasting_hours\")]\n",
    "bdl[[6]] <- bdl[[6]][bdl[[6]]$Collection_visit!=\"Baseline\",\n",
    "                     c(\"SUBJECT_ID\", # WHI-specific \"7######\" IDs (metabolomics)\n",
    "                        \"SAMPLE_ID\",  # TOM\n",
    "                        \"Subject_fasting_hours\")]\n",
    "bdl[[7]] <- bdl[[7]][bdl[[7]]$exam==1, # MESA RNASeq\n",
    "                      c(\"tor_id\", # TOR\n",
    "                        \"nwd_id\", # NWD\n",
    "                        \"exclusion_reason\")]\n",
    "bdl[[8]] <- bdl[[8]][bdl[[8]]$Exam==1, # MESA metab & proteo\n",
    "                      c(\"sidno\", # \"1###\" IDs\n",
    "                        \"TOM_ID\", # TOM\n",
    "                        \"TOP_ID\", # TOP\n",
    "                        \"collaboratorsampleid\", # NWD\n",
    "                        \"ageatdraw\",\n",
    "                        \"bmi1c\")]\n",
    "# Just keep all of bdl[[9]] & bdl[[10]]\n",
    "lapply(bdl,dim) # Confim # of cols was cut down\n",
    "lapply(bdl,head)"
   ]
  },
  {
   "cell_type": "code",
   "execution_count": null,
   "metadata": {},
   "outputs": [],
   "source": [
    "# Just exploring WHI duplicates\n",
    "# 0 (so MESA & WHI TORs don't conflict): sum(bdl[[5]]$SAMPLE_ID %in% bdl[[7]]$tor_id)\n",
    "sum(duplicated(bdl[[4]]$rnaseq_id))\n",
    "sum(duplicated(bdl[[4]]$subject_id))\n",
    "sum(duplicated(bdl[[5]]$SUBJECT_ID))\n",
    "sum(duplicated(bdl[[5]]$SAMPLE_ID))\n",
    "# 64 bdl[[7]][duplicated(bdl[[7]]$nwd_id),]\n",
    "# 0 sum(duplicated(bdl[[7]]$nwd_id) & duplicated(bdl[[7]]$tor_id))\n",
    "\n",
    "dim(bdl[[4]])\n",
    "dim(bdl[[5]])\n",
    "head(bdl[[5]]$SAMPLE_ID)\n",
    "\n",
    "# look @ bdl 4 & 5 and if there are two rows which are identical (excluding NAs) except for the TOR, then pick the one with the fewer NAs.\n",
    "\n",
    "# Now exploring MESA duplicates?\n",
    "tmp <- bdl[[8]]$TOP_ID[duplicated(bdl[[8]]$TOP_ID)]\n",
    "tmp\n",
    "tmp <- bdl[[8]]$TOM_ID[duplicated(bdl[[8]]$TOM_ID)]\n",
    "tmp\n",
    "# Phew, they are just blank strings (NAs)"
   ]
  },
  {
   "cell_type": "markdown",
   "metadata": {},
   "source": [
    "# MESA-only File"
   ]
  },
  {
   "cell_type": "markdown",
   "metadata": {},
   "source": [
    "## Merge!"
   ]
  },
  {
   "cell_type": "code",
   "execution_count": null,
   "metadata": {},
   "outputs": [],
   "source": [
    "# bdl[c(4,5,6,9,10)] are WHI-only, needn't bother\n",
    "# All of these merges concern NWD IDs.\n",
    "mesa_df <- merge(x=bdl[[1]], by.x=\"sample.id\",\n",
    "          y=merge(x=bdl[[2]], by.x=\"X._VCF.Sample.Id.\",\n",
    "           y=merge(x=bdl[[3]], by.x=\"index\",\n",
    "            y=merge(x=bdl[[7]], by.x=\"nwd_id\",\n",
    "                     y=bdl[[8]], by.y=\"collaboratorsampleid\", all=T),\n",
    "                                by.y=\"nwd_id\", all=T), \n",
    "                               by.y=\"index\", all=T),\n",
    "                              by.y=\"X._VCF.Sample.Id.\", all=T)\n",
    "mesa_df <- setDT(mesa_df)\n",
    "dim(mesa_df); head(mesa_df)"
   ]
  },
  {
   "cell_type": "markdown",
   "metadata": {},
   "source": [
    "## Remove uninformative rows, Merge/Remove columns"
   ]
  },
  {
   "cell_type": "markdown",
   "metadata": {},
   "source": [
    "### CHECKPOINT: check random rows"
   ]
  },
  {
   "cell_type": "code",
   "execution_count": null,
   "metadata": {},
   "outputs": [],
   "source": [
    "rind <- trunc( runif(1,1,nrow(mesa_df)) ); rind\n",
    "print(mesa_df[rind,])\n",
    "dim(mesa_df)"
   ]
  },
  {
   "cell_type": "markdown",
   "metadata": {},
   "source": [
    "### Remove rows w/o any multi-omic data"
   ]
  },
  {
   "cell_type": "code",
   "execution_count": null,
   "metadata": {},
   "outputs": [],
   "source": [
    "dim(mesa_df)\n",
    "mesa_df <- mesa_df[!is.na(tor_id) | !is.na(TOM_ID) | !is.na(TOP_ID)]\n",
    "dim(mesa_df)"
   ]
  },
  {
   "cell_type": "markdown",
   "metadata": {},
   "source": [
    "### Replace \"study\" column with \"Cohort\" column\n",
    "\"study\" was from a merged file, so there might be some NAs. Want to guarantee it is a solid column of \"MESA\"s (to help in case this MESA file is ever merged with another clinical data file)"
   ]
  },
  {
   "cell_type": "code",
   "execution_count": null,
   "metadata": {},
   "outputs": [],
   "source": [
    "mesa_df[, study := NULL]\n",
    "mesa_df[, Cohort := \"MESA\"]"
   ]
  },
  {
   "cell_type": "markdown",
   "metadata": {},
   "source": [
    "### \"sample.id\" vs. \"topmedid\""
   ]
  },
  {
   "cell_type": "code",
   "execution_count": null,
   "metadata": {},
   "outputs": [],
   "source": [
    "sum(is.na(mesa_df$sample.id)); sum(is.na(mesa_df$topmedid))\n",
    "identical(mesa_df[!is.na(topmedid), sample.id],\n",
    "          mesa_df[!is.na(topmedid), topmedid])\n",
    "all(is.na( mesa_df[is.na(sample.id)]$topmedid ))\n",
    "# They are identical except topmedid is less complete. Just keep sample.id then.\n",
    "mesa_df[, topmedid := NULL]"
   ]
  },
  {
   "cell_type": "markdown",
   "metadata": {},
   "source": [
    "### \"subject_id\" vs. \"sidno\""
   ]
  },
  {
   "cell_type": "code",
   "execution_count": null,
   "metadata": {},
   "outputs": [],
   "source": [
    "sum(is.na(mesa_df$subject_id)); sum(is.na(mesa_df$sidno))\n",
    "mesa_df[!is.na(sidno), sidno,subject_id][sidno!=subject_id] # Noooo! They (exluding NAs) are identical except for ~one~ conflict!\n",
    "# Asked Magda; will trust the sgaynor file (\"subject_id\")\n",
    "# However, sidno does have a couple ids where subject_id is NA, so grab those.\n",
    "mesa_df[is.na(subject_id) & !is.na(sidno), sidno]\n",
    "mesa_df[is.na(subject_id), subject_id:=sidno]\n",
    "\n",
    "mesa_df[, sidno := NULL]"
   ]
  },
  {
   "cell_type": "markdown",
   "metadata": {},
   "source": [
    "### CHECKPOINT: check random rows"
   ]
  },
  {
   "cell_type": "code",
   "execution_count": null,
   "metadata": {},
   "outputs": [],
   "source": [
    "rind <- trunc( runif(1,1,nrow(mesa_df)) ); rind\n",
    "print(mesa_df[rind,])\n",
    "dim(mesa_df)"
   ]
  },
  {
   "cell_type": "markdown",
   "metadata": {},
   "source": [
    "## Prettier Colnames"
   ]
  },
  {
   "cell_type": "code",
   "execution_count": null,
   "metadata": {},
   "outputs": [],
   "source": [
    "colnames(mesa_df)\n",
    "colnames(mesa_df) <- c(\"NWD_Id\", # Renaming\n",
    "                       \"Cohort_Specific_Id\",\n",
    "                       \"Sex\",\n",
    "                       \"Ancestry\",\n",
    "                       \"T2D\",\n",
    "                       \"T2D_Age\",\n",
    "                       \"T2D_BMI\",\n",
    "                       \"Smoking_Status\",\n",
    "                       \"European\",\n",
    "                       \"African\",\n",
    "                       \"American\",\n",
    "                       \"East_Asian\",\n",
    "                       \"TOR_Id\",\n",
    "                       \"Exclusion_Reason\",\n",
    "                       \"TOM_Id\",\n",
    "                       \"TOP_Id\",\n",
    "                       \"Age_at_Draw\",\n",
    "                       \"BMI\",\n",
    "                       \"Cohort\")\n",
    "colnames(mesa_df)\n",
    "mesa_df <- mesa_df[, c(\"Cohort_Specific_Id\", # Rearranging\n",
    "                       \"NWD_Id\",\n",
    "                       \"TOM_Id\",\n",
    "                       \"TOP_Id\",\n",
    "                       \"TOR_Id\",\n",
    "                       \"Cohort\",\n",
    "                       \"Sex\",\n",
    "                       \"Ancestry\",\n",
    "                       \"African\",\n",
    "                       \"American\",\n",
    "                       \"East_Asian\",\n",
    "                       \"European\",\n",
    "                       \"Smoking_Status\",\n",
    "                       \"Age_at_Draw\",\n",
    "                       \"T2D\",\n",
    "                       \"T2D_Age\",\n",
    "                       \"T2D_BMI\",\n",
    "                       \"BMI\",\n",
    "                       \"Exclusion_Reason\")]\n",
    "colnames(mesa_df)"
   ]
  },
  {
   "cell_type": "markdown",
   "metadata": {},
   "source": [
    "## Final inspection (10 random rows)\n",
    "Feel free to press ctrl+enter many times to cycle through many random samples, and make sure everything looks alright."
   ]
  },
  {
   "cell_type": "code",
   "execution_count": null,
   "metadata": {},
   "outputs": [],
   "source": [
    "dim(mesa_df)\n",
    "mesa_df[runif(10,1,nrow(mesa_df))]"
   ]
  },
  {
   "cell_type": "markdown",
   "metadata": {},
   "source": [
    "# WHI-only File"
   ]
  },
  {
   "cell_type": "markdown",
   "metadata": {},
   "source": [
    "## Merge!"
   ]
  },
  {
   "cell_type": "code",
   "execution_count": null,
   "metadata": {},
   "outputs": [],
   "source": [
    "# bdl[7:8] are MESA-only, needn't bother.\n",
    "# What maps what IDs:\n",
    "  # bdl[[1]]: NWD <-> WHI\n",
    "  # bdl[2:3]: NWD\n",
    "  # bld[[4]]:         WHI <-> TOE <-> TOM <-> TOR\n",
    "  # bld[[5]]:         WHI <->                 TOR\n",
    "  # bld[[6]]:         WHI <->         TOM\n",
    "  # bld[[9]]:         WHI <-> TOE <-> TOM\n",
    "  # bld[[10]]:        WHI\n",
    "whi_df <- merge(x=bdl[[10]],by.x=\"subject_id\", all=T,  # WHI\n",
    "       y=merge(x=bdl[[9]], by.x=\"subject_id\", all=T,  # WHI\n",
    "      y=merge(x=bdl[[6]], by.x=\"SUBJECT_ID\", all=T,  # WHI\n",
    "     y=merge(x=bdl[[5]], by.x=\"SUBJECT_ID\", all=T,  # WHI\n",
    "    y=merge(x=bdl[[4]], by.x=\"subject_id\", all=T,  # WHI\n",
    "   y=merge(x=bdl[[3]], by.x=\"index\",      all=T,  # NWD\n",
    "  y=merge(x=bdl[[2]], by.x=\"X._VCF.Sample.Id.\",  # NWD\n",
    "         y=bdl[[1]],  by.y=\"sample.id\", all=T),  # NWD\n",
    "                        by.y=\"X._VCF.Sample.Id.\"),# NWD\n",
    "                         by.y=\"subject_id\"),       # WHI\n",
    "                          by.y=\"subject_id\"),       # WHI\n",
    "                           by.y=\"SUBJECT_ID\"),       # WHI\n",
    "                            by.y=\"SUBJECT_ID\"),       # WHI\n",
    "                             by.y=\"subject_id\")        # WHI\n",
    "whi_df <- setDT(whi_df)\n",
    "dim(whi_df); head(whi_df)"
   ]
  },
  {
   "cell_type": "markdown",
   "metadata": {},
   "source": [
    "## Remove uninformative rows, Merge/Remove columns"
   ]
  },
  {
   "cell_type": "markdown",
   "metadata": {},
   "source": [
    "### CHECKPOINT: Check a random row"
   ]
  },
  {
   "cell_type": "code",
   "execution_count": null,
   "metadata": {},
   "outputs": [],
   "source": [
    "rind <- trunc( runif(1,1,nrow(whi_df)) ); rind\n",
    "print(whi_df[rind,])"
   ]
  },
  {
   "cell_type": "markdown",
   "metadata": {},
   "source": [
    "### Review what is in vaguely-named \"ID\" columns"
   ]
  },
  {
   "cell_type": "code",
   "execution_count": null,
   "metadata": {},
   "outputs": [],
   "source": [
    "colnames(whi_df)\n",
    "head( whi_df[!is.na(subject_id),  subject_id] )\n",
    "head( whi_df[!is.na(SAMPLE_ID.x), SAMPLE_ID.x] )\n",
    "head( whi_df[!is.na(SAMPLE_ID.y), SAMPLE_ID.y] )\n",
    "head( whi_df[!is.na(index), index] )\n",
    "head( whi_df[!is.na(topmedid), topmedid] )\n",
    "head( whi_df[!is.na(olink_id), olink_id])"
   ]
  },
  {
   "cell_type": "markdown",
   "metadata": {},
   "source": [
    "### Remove rows w/o any multi-omic data"
   ]
  },
  {
   "cell_type": "code",
   "execution_count": null,
   "metadata": {
    "code_folding": []
   },
   "outputs": [],
   "source": [
    "dim(whi_df)\n",
    "whi_df <- whi_df[!(is.na(methylaiton_id) & is.na(methylation_id) &\n",
    "                   is.na(metabolomics_id) & is.na(SAMPLE_ID.x) & is.na(TOM_ID) &\n",
    "                   is.na(rnaseq_id) & is.na(SAMPLE_ID.y)\n",
    "                  )]\n",
    "dim(whi_df)"
   ]
  },
  {
   "cell_type": "markdown",
   "metadata": {},
   "source": [
    "### \"index\" vs. \"topmedid\" (NWD IDs)"
   ]
  },
  {
   "cell_type": "code",
   "execution_count": null,
   "metadata": {},
   "outputs": [],
   "source": [
    "identical(whi_df[!is.na(topmedid), index],\n",
    "          whi_df[!is.na(topmedid), topmedid])\n",
    "all(is.na( whi_df[is.na(index), topmedid] ))\n",
    "\n",
    "whi_df[, topmedid := NULL]\n",
    "# \"topmedid\" non-NAs are all identical to \"index\", just less complete."
   ]
  },
  {
   "cell_type": "markdown",
   "metadata": {},
   "source": [
    "### Remove Baseline TOE/TOM IDs \n",
    "Using \"methylation_visit\" and \"metabolomics_visit\" from Jeff's file"
   ]
  },
  {
   "cell_type": "code",
   "execution_count": null,
   "metadata": {},
   "outputs": [],
   "source": [
    "table(whi_df$methylation_visit)\n",
    "table(whi_df$metabolomics_visit)\n",
    "\n",
    "# Set the TOE/TOM IDs associated w/ baseline to NA, omitting them.\n",
    "sum(is.na(whi_df$methylation_id)); sum(is.na(whi_df$methylaiton_id));\n",
    "whi_df[methylation_visit==\"Baseline\", `:=`(methylation_id=NA, methylaiton_id=NA)] # Not a mistake, there is a 2nd mispelled \"methylaiton_id\" col\n",
    "sum(is.na(whi_df$methylation_id)); sum(is.na(whi_df$methylaiton_id)); # Confirm correct amount of additional NAs\n",
    "\n",
    "sum(is.na(whi_df$SAMPLE_ID.x)); sum(is.na(whi_df$TOM_ID));\n",
    "whi_df[metabolomics_visit==\"Base\",    `:=`(SAMPLE_ID.x=NA, TOM_ID=NA)]\n",
    "sum(is.na(whi_df$SAMPLE_ID.x)); sum(is.na(whi_df$TOM_ID));\n",
    "\n",
    "# \"visit\" cols no longer needed\n",
    "whi_df[, methylation_visit := NULL]\n",
    "whi_df[, metabolomics_visit := NULL]"
   ]
  },
  {
   "cell_type": "markdown",
   "metadata": {},
   "source": [
    "###  \"TOM_ID\" vs. \"SAMPLE_ID.x\" vs. \"metabolomics_id\" (TOM IDs)"
   ]
  },
  {
   "cell_type": "code",
   "execution_count": null,
   "metadata": {},
   "outputs": [],
   "source": [
    "identical(whi_df[!is.na(TOM_ID) & !is.na(SAMPLE_ID.x), TOM_ID],\n",
    "          whi_df[!is.na(TOM_ID) & !is.na(SAMPLE_ID.x), SAMPLE_ID.x]) # :] can safely merge\n",
    "identical(whi_df[!is.na(TOM_ID) & !is.na(metabolomics_id), TOM_ID],\n",
    "          whi_df[!is.na(TOM_ID) & !is.na(metabolomics_id), metabolomics_id]) # :] and these too!\n",
    "\n",
    "whi_df[is.na(TOM_ID), TOM_ID := SAMPLE_ID.x]\n",
    "whi_df[is.na(TOM_ID), TOM_ID := metabolomics_id]\n",
    "\n",
    "whi_df[, SAMPLE_ID.x := NULL] # merged into \"TOM_ID\", now redundant\n",
    "whi_df[, metabolomics_id := NULL]"
   ]
  },
  {
   "cell_type": "markdown",
   "metadata": {},
   "source": [
    "### \"methylation_id\" vs. \"methylaiton_id\" [sic]"
   ]
  },
  {
   "cell_type": "code",
   "execution_count": null,
   "metadata": {},
   "outputs": [],
   "source": [
    "identical(whi_df[!is.na(methylation_id) & !is.na(methylaiton_id), methylation_id],\n",
    "          whi_df[!is.na(methylation_id) & !is.na(methylaiton_id), methylaiton_id]) # :] can safely merge\n",
    "\n",
    "whi_df[is.na(methylation_id), methylation_id := methylaiton_id]\n",
    "whi_df[, methylaiton_id := NULL]"
   ]
  },
  {
   "cell_type": "markdown",
   "metadata": {},
   "source": [
    "### \"rnaseq_id\" (from WHI tech phenotype) vs. \"SAMPLE_ID.y\" (WHI RNASeq)"
   ]
  },
  {
   "cell_type": "code",
   "execution_count": null,
   "metadata": {},
   "outputs": [],
   "source": [
    "identical(whi_df[!is.na(rnaseq_id) & !is.na(SAMPLE_ID.y), rnaseq_id],\n",
    "          whi_df[!is.na(rnaseq_id) & !is.na(SAMPLE_ID.y), SAMPLE_ID.y]) # :(\n",
    "head(whi_df[rnaseq_id!=SAMPLE_ID.y, c(\"subject_id\",\"rnaseq_id\",\"SAMPLE_ID.y\")])\n",
    "length(unique(whi_df$rnaseq_id))\n",
    "length(unique(whi_df$SAMPLE_ID.y))\n",
    "unique(whi_df$rnaseq_id)[which(!( unique(whi_df$rnaseq_id) %in% unique(whi_df$SAMPLE_ID.y) ))]  # just 1 TOR ID unique to \"rnaseq_id\", and it's \"\".\n",
    "# So then it's OK to toss rnaseq_id, because SAMPLE_ID.y already contains all of rnaseq_id's unique possibilities and then some.\n",
    "  # It was just those \"\"s in rnaseq_id which made me think both columns had important info which the other did not.\n",
    "whi_df[, rnaseq_id := NULL]"
   ]
  },
  {
   "cell_type": "code",
   "execution_count": null,
   "metadata": {},
   "outputs": [],
   "source": [
    "dim(whi_df)\n",
    "whi_df <- unique(whi_df) # remove duplicate rows\n",
    "dim(whi_df)"
   ]
  },
  {
   "cell_type": "code",
   "execution_count": null,
   "metadata": {},
   "outputs": [],
   "source": [
    "# Simplified the two conflicting rows to one, but still duplicates... what's different about these rows w/ the same TOR?\n",
    "whi_df[1:2]\n",
    "identical(whi_df[1,],whi_df[2,])\n",
    "print(whi_df[1:2,])\n",
    "# Hm, only difference is one has a blank rnaseq_batch. So...\n",
    "whi_df <- whi_df[!duplicated(whi_df[,!\"rnaseq_batch\"])]\n",
    "dim(whi_df) # Wow that helped a lot! Down to 1807 rows."
   ]
  },
  {
   "cell_type": "markdown",
   "metadata": {},
   "source": [
    "#### Example of troubling duplications\n",
    "Checking against the expression data"
   ]
  },
  {
   "cell_type": "code",
   "execution_count": null,
   "metadata": {},
   "outputs": [],
   "source": [
    "system(\"gsutil cp gs://fc-secure-8c0f9180-d3ff-4f0d-8299-78e01606927c/data_TOPMed_Kooperberg_P4.RSEMv1.3.1_gene_expected_count.txt.gz ./ 2>&1\")\n",
    "install.packages(\"R.utils\")\n",
    "rna <- fread(\"data_TOPMed_Kooperberg_P4.RSEMv1.3.1_gene_expected_count.txt.gz\")\n",
    "\n",
    "tmp <- unique( whi_df[duplicated(SAMPLE_ID.y), SAMPLE_ID.y] ) # unique(duplicated TOR IDs)\n",
    "sum(tmp %in% colnames(rna))\n",
    "length(tmp)\n",
    "# 10 TORs which have duplications are not in the RNASeq expression and could thus be removed.\n",
    "  # This does not actually help choose between the duplicated rows which remain though.\n",
    "  # I was mostly hoping ~none~ of the duplicated TORs would be in the expression data so they could just all be removed."
   ]
  },
  {
   "cell_type": "code",
   "execution_count": null,
   "metadata": {},
   "outputs": [],
   "source": [
    "print(whi_df[SAMPLE_ID.y==\"TOR482368\"][c(1,4)])\n",
    "# I see a couple rows could exclude for having more NAs\n",
    "# But between the 1st and 4th row, it is still not clear which one to choose\n",
    "# Pick based on whether TOM716939 or TOM222404 is in the metabolite expression data?\n",
    "system(\"gsutil cp gs://fc-secure-8c0f9180-d3ff-4f0d-8299-78e01606927c/QCd_feb2022/QCd_merged/l2/WHI_met_QCd_l2.csv . 2>&1\")\n",
    "met <- fread(\"WHI_met_QCd_l2.csv\")\n",
    "\"TOM716939\" %in% colnames(met)\n",
    "\"TOM222404\" %in% colnames(met)\n",
    "\n",
    "identical(met[,\"TOM716939\"], met[,\"TOM222404\"])\n",
    "# The expression data is not the same either, so cannot be merged.\n",
    "# So then, is there nothing left to do but choose a row randomly?"
   ]
  },
  {
   "cell_type": "code",
   "execution_count": null,
   "metadata": {},
   "outputs": [],
   "source": [
    "sum(duplicated(whi_df$subject_id))\n",
    "sum(duplicated(whi_df$SAMPLE_ID.y))\n",
    "sum(duplicated(whi_df[!duplicated(subject_id), SAMPLE_ID.y])) # oh no, even removing all duplicate WHI IDs there are still TOR IDs duplicated between different WHI IDs!! :(\n",
    "whi_df[!duplicated(subject_id) & duplicated(SAMPLE_ID.y), c(\"subject_id\", \"SAMPLE_ID.y\", \"methylation_id\", \"TOM_ID\")] # Which are they?\n",
    "# Oh phew! They are just NAs. \n",
    "sum(duplicated(whi_df[!duplicated(subject_id), TOM_ID])) # same for TOM IDs! Hopefully these duplicates are just NAs as well?\n",
    "whi_df[!duplicated(subject_id) & duplicated(TOM_ID), c(\"subject_id\", \"SAMPLE_ID.y\", \"methylation_id\", \"TOM_ID\")] # Yes!"
   ]
  },
  {
   "cell_type": "markdown",
   "metadata": {},
   "source": [
    "#### For duplicate WHI IDs, choose the instance with the least NAs\n",
    "If two rows have the same number of NAs, then randomly choose one (with random seed == 1 for reproducibility). Random choice is done by sorting the rows randomly beforehand, then only choosing the first duplicate with the least NAs."
   ]
  },
  {
   "cell_type": "code",
   "execution_count": null,
   "metadata": {},
   "outputs": [],
   "source": [
    "dup_subj_ids <- unique( whi_df[duplicated(subject_id), subject_id] ) # unique(duplicated WHI IDs)\n",
    "for(id in dup_subj_ids) {\n",
    "    nas_per_instance <- apply(whi_df[subject_id==id],1, function(row) sum(is.na(row))) #print(nas_per_instance)\n",
    "    rows_with_more_nas_than_min <- apply(whi_df,1, function(row) sum(is.na(row)) > min(nas_per_instance) )\n",
    "    whi_df[subject_id==id & rows_with_more_nas_than_min, subject_id := \"REMOVE\"]\n",
    "}\n",
    "whi_df <- whi_df[subject_id!=\"REMOVE\"]\n",
    "sum(duplicated(whi_df[, subject_id]))\n",
    "dim(whi_df)"
   ]
  },
  {
   "cell_type": "markdown",
   "metadata": {},
   "source": [
    "### For the remaining duplicates, choose a random one\n",
    "There are no other criteria which would make it clear which instance of the duplicate should be chosen. So we choose randomly (with a random seed == 1 for reproducibility).\\\n",
    "To do this, we randomly sort whi_df's rows, and then remove all duplicates but the first."
   ]
  },
  {
   "cell_type": "code",
   "execution_count": null,
   "metadata": {},
   "outputs": [],
   "source": [
    "set.seed(1)\n",
    "whi_df <- whi_df[sample(1:nrow(whi_df))]\n",
    "whi_df <- whi_df[!duplicated(subject_id)]\n",
    "dim(whi_df)"
   ]
  },
  {
   "cell_type": "code",
   "execution_count": null,
   "metadata": {},
   "outputs": [],
   "source": [
    "sum(duplicated(whi_df[,subject_id])) # Finally!\n",
    "head(whi_df)"
   ]
  },
  {
   "cell_type": "markdown",
   "metadata": {},
   "source": [
    "### Last thing: cohort/study column"
   ]
  },
  {
   "cell_type": "code",
   "execution_count": null,
   "metadata": {},
   "outputs": [],
   "source": [
    "whi_df$study <- \"WHI\""
   ]
  },
  {
   "cell_type": "markdown",
   "metadata": {},
   "source": [
    "### CHECKPOINT: Check a random row"
   ]
  },
  {
   "cell_type": "code",
   "execution_count": null,
   "metadata": {},
   "outputs": [],
   "source": [
    "rind <- trunc( runif(1,1,nrow(whi_df)) ); rind\n",
    "print(whi_df[rind,])\n",
    "colnames(whi_df)"
   ]
  },
  {
   "cell_type": "markdown",
   "metadata": {},
   "source": [
    "## Prettier colnames"
   ]
  },
  {
   "cell_type": "code",
   "execution_count": null,
   "metadata": {},
   "outputs": [],
   "source": [
    "colnames(whi_df) <- c(\"Subject_Id\",\n",
    "                      \"BMI\",\n",
    "                      \"BMI_Age\",\n",
    "                      \"Subject_Fasting_Hours_WHI_Metabolomics\",\n",
    "                      \"TOR_Id\",\n",
    "                      \"Subject_Fasting_Hours_WHI_RNASeq\",\n",
    "                      \"Olink_Id\",\n",
    "                      \"TOE_Id\",\n",
    "                      \"TOM_Id\",\n",
    "                      \"Methylation_Batch\",\n",
    "                      \"Methylation_Chip\",\n",
    "                      \"Methylation_Row\",\n",
    "                      \"RNASeq_Batch\",\n",
    "                      \"Age_at_Draw\",\n",
    "                      \"NWD_Id\",\n",
    "                      \"European\",\n",
    "                      \"African\",\n",
    "                      \"American\",\n",
    "                      \"East_Asian\",\n",
    "                      \"Cohort\",\n",
    "                      \"Smoking_Status\",\n",
    "                      \"Sex\",\n",
    "                      \"Ancestry\",\n",
    "                      \"T2D\",\n",
    "                      \"T2D_Age\",\n",
    "                      \"T2D_BMI\")\n",
    "colnames(whi_df)"
   ]
  },
  {
   "cell_type": "markdown",
   "metadata": {},
   "source": [
    "## Final inspection (10 random rows)\n",
    "Feel free to press ctrl+enter many times to cycle through many random samples, and make sure everything looks alright."
   ]
  },
  {
   "cell_type": "code",
   "execution_count": null,
   "metadata": {},
   "outputs": [],
   "source": [
    "dim(whi_df)\n",
    "whi_df[runif(10,1,nrow(whi_df))]"
   ]
  },
  {
   "cell_type": "markdown",
   "metadata": {},
   "source": [
    "# Write"
   ]
  },
  {
   "cell_type": "code",
   "execution_count": null,
   "metadata": {},
   "outputs": [],
   "source": [
    "dir.create(file.path(\"clinical_variables_and_ids/\"))\n",
    "#write.csv(mesa_df, file=\"clinical_variables_and_ids/clin_MESA_v2.csv\", row.names=F)\n",
    "write.csv(whi_df,  file=\"clinical_variables_and_ids/clin_WHI_v2.csv\", row.names=F)\n",
    "#write.csv(clin_df, file=\"clinical_variables_and_ids/clin_v1.csv\", row.names=F)"
   ]
  },
  {
   "cell_type": "code",
   "execution_count": null,
   "metadata": {},
   "outputs": [],
   "source": [
    "system(paste(\"gsutil cp -R clinical_variables_and_ids\", bucket))"
   ]
  },
  {
   "cell_type": "markdown",
   "metadata": {},
   "source": [
    "# (Ignore) Messy exploration\n",
    "Ignore me. Just checking all the colnames of all the files to see which variables we want."
   ]
  },
  {
   "cell_type": "markdown",
   "metadata": {},
   "source": [
    "Notes: make one big map file for WHI and MESA separately. No FHS.\\\n",
    "only keep exam1\\\n",
    "make sure to keep the exclusion critera column\\"
   ]
  },
  {
   "cell_type": "markdown",
   "metadata": {},
   "source": [
    "## Import"
   ]
  },
  {
   "cell_type": "code",
   "execution_count": null,
   "metadata": {},
   "outputs": [],
   "source": [
    "bucket <- \"gs://fc-secure-8c0f9180-d3ff-4f0d-8299-78e01606927c\"\n",
    "filenames <- c(\"t2d_f9_sgaynor.4.24_harmonized_postprocessed.csv\", # sex, anc, bmi\n",
    "               \"common_covariates_PIC-SURE_12-9-2021_AKM.csv\", # smoking\n",
    "               \"ancestry.supervised.fhs.mesa.whi.xlsx\", # anc\n",
    "               \"MESA_agebl_bmil_20210604.csv\", # age @ draw\n",
    "               \"WHI_omics_technical_phenotypes_2021-05-25_good.csv\",\n",
    "               \"ids_whi_olink.csv\",\n",
    "               \"omics_sample_metadata_WHI_RNAseq.xlsx\",\n",
    "               \"omics_sample_metadata_WHI_metabolomics.csv\",\n",
    "               \"TOPMed_MESA_RNAseq_sample_attributes_freeze.xlsx\",\n",
    "               \"MESA_TOPMed_Metab_Proteo_BySidnoExam.csv\")\n",
    "filepaths <- paste0(bucket,'/',filenames)\n",
    "sapply(filepaths, function(filepath) system(paste(\"gsutil cp\",filepath,\"./ 2>&1\")) )"
   ]
  },
  {
   "cell_type": "markdown",
   "metadata": {},
   "source": [
    "## Inspect"
   ]
  },
  {
   "cell_type": "code",
   "execution_count": null,
   "metadata": {},
   "outputs": [],
   "source": [
    "library(data.table)\n",
    "sgaynor <- fread(\"t2d_f9_sgaynor.4.24_harmonized_postprocessed.csv\")\n",
    "colnames(sgaynor)\n",
    "head(sgaynor)\n",
    "sgaynor$individual_id\n",
    "sgaynor <- sgaynor[,c(\"sample.id\",\"subject_id\",\"study\",\"sex\",\"ancestry\",\"population\",\"topmedid\",\"t2d\",\"t2d_age\",\"t2d_bmi\")]\n",
    "table(sgaynor$ancestry)\n",
    "table(sgaynor$population)\n",
    "table(sgaynor$t2d)\n",
    "table(sgaynor$study)\n",
    "identical(sgaynor$ancestry, sgaynor$population)\n",
    "sgaynor$topmedid[runif(20,1,nrow(sgaynor))]\n",
    "sgaynor$subject_id"
   ]
  },
  {
   "cell_type": "code",
   "execution_count": null,
   "metadata": {},
   "outputs": [],
   "source": [
    "smoking <- read.csv(\"common_covariates_PIC-SURE_12-9-2021_AKM.csv\")\n",
    "colnames(smoking)\n",
    "dim(smoking)\n",
    "head(smoking)\n",
    "smoking <- smoking[,c(\"X.DCC.Harmonized.data.set.03...Baseline.common.covariates.Indicates.whether.subject.ever.regularly.smoked.cigarettes..\",\n",
    "                      \"X._VCF.Sample.Id.\")]\n",
    "table(smoking$`X.DCC.Harmonized.data.set.03...Baseline.common.covariates.Indicates.whether.subject.ever.regularly.smoked.cigarettes..`)\n",
    "# Note: VCF is NWD#####"
   ]
  },
  {
   "cell_type": "code",
   "execution_count": null,
   "metadata": {},
   "outputs": [],
   "source": [
    "smoking[runif(1,1,nrow(smoking)), ]"
   ]
  },
  {
   "cell_type": "code",
   "execution_count": null,
   "metadata": {},
   "outputs": [],
   "source": [
    "tmp <- read.csv(\"MESA_agebl_bmil_20210604.csv\")\n",
    "dim(tmp)\n",
    "colnames(tmp)\n",
    "head(tmp)"
   ]
  },
  {
   "cell_type": "code",
   "execution_count": null,
   "metadata": {},
   "outputs": [],
   "source": [
    "library(readxl)\n",
    "anc_supervised <- read_excel(\"ancestry.supervised.fhs.mesa.whi.xlsx\")\n",
    "dim(anc_supervised)\n",
    "colnames(anc_supervised)\n",
    "head(anc_supervised)\n",
    "anc_supervised <- anc_supervised[,c(\"subject\", \"study\", \"europe\", \"african\", \"american\", \"east_asian\")]\n",
    "\n",
    "table(anc_supervised$study) # just grab MESA & WHI. You will notice MESA records have the NWD##### IDs\n",
    "head(anc_supervised$subject[anc_supervised$study==\"MESA\"])\n",
    "head(anc_supervised$subject[anc_supervised$study==\"WHI\"])"
   ]
  },
  {
   "cell_type": "code",
   "execution_count": null,
   "metadata": {},
   "outputs": [],
   "source": [
    "tmp <- read.csv(\"WHI_omics_technical_phenotypes_2021-05-25_good.csv\")\n",
    "dim(tmp)\n",
    "colnames(tmp)\n",
    "head(tmp)\n",
    "# want: subject_id   olink_id   rnaseq_id'methylation_id   TOM_ID   methylation_batch  draw_age\n",
    "#         ^7###### are WHI-specific ids, helpful to map to NWDs\n",
    "# oLINK ID IS  for proteomics\n",
    "table(tmp$methylation_batch)\n",
    "head(tmp$ETHNIC)"
   ]
  },
  {
   "cell_type": "code",
   "execution_count": null,
   "metadata": {},
   "outputs": [],
   "source": [
    "tmp <- read_excel(\"omics_sample_metadata_WHI_RNAseq.xlsx\")\n",
    "dim(tmp)\n",
    "colnames(tmp)\n",
    "head(tmp)\n",
    "# want: SUBJECT_ID, SAMPLE_ID, Subject_fasting_hours\n",
    "    #      ^ WHI-specific id 7#### or 8######"
   ]
  },
  {
   "cell_type": "code",
   "execution_count": null,
   "metadata": {},
   "outputs": [],
   "source": [
    "tmp <- read.csv(\"omics_sample_metadata_WHI_metabolomics.csv\")\n",
    "dim(tmp)\n",
    "colnames(tmp)\n",
    "head(tmp)\n",
    "# want: SUBJECT_ID, Subject fasting hours, SAMPLE_ID\n",
    "# same as above but metabolites\n",
    "# maybe make sure that these fasting hours lines up with the above "
   ]
  },
  {
   "cell_type": "code",
   "execution_count": null,
   "metadata": {},
   "outputs": [],
   "source": [
    "tmp <- read_excel(\"TOPMed_MESA_RNAseq_sample_attributes_freeze.xlsx\")\n",
    "dim(tmp)\n",
    "colnames(tmp)\n",
    "#table(tmp$cohort)\n",
    "#table(tmp$cohort2)\n",
    "head(tmp[tmp$exam==1,])\n",
    "#tmp$participant_id\n",
    "head(tmp)\n",
    "head(tmp$participant_id)\n",
    "# want: tor_id, exam, nwd_id, exclusion_reason , participant_id\n",
    "# NOTE: will be using rows only where exam == 1      ^ participant ids in rows w/ also exam==1; they are like 1###, matches with the \"sidno\" ids just below"
   ]
  },
  {
   "cell_type": "code",
   "execution_count": null,
   "metadata": {},
   "outputs": [],
   "source": [
    "tmp <- read.csv(\"MESA_TOPMed_Metab_Proteo_BySidnoExam.csv\")\n",
    "dim(tmp)\n",
    "colnames(tmp)\n",
    "head(tmp)\n",
    "# want: sidno, Exam, TOM_ID, TOP_ID, collaboratorsampleid, ageatdraw, bmi1c, race1c\n",
    "# NOTE: also only exam 1 rows\n",
    "table(tmp$race1c)"
   ]
  },
  {
   "cell_type": "markdown",
   "metadata": {},
   "source": [
    "# (Ignore) MESA-WHI Combined File\n",
    "Too much potential for human error, decided to do MESA and WHI separatelyto simplify things."
   ]
  },
  {
   "cell_type": "markdown",
   "metadata": {},
   "source": [
    "## Merge!"
   ]
  },
  {
   "cell_type": "code",
   "execution_count": null,
   "metadata": {},
   "outputs": [],
   "source": [
    "# What maps what IDs:\n",
    "  # bdl[[1]]: NWD <-> WHI <-> DBG\n",
    "  # bdl[2:3]: NWD only\n",
    "  # bld[[4]]: WHI <-> TOR <-> TOE <-> TOM\n",
    "  # bld[[5]]: WHI <-> TOR\n",
    "  # bld[[6]]: WHI <-> TOM\n",
    "  # bld[[7]]: NWD <-> TOR <-> MESA\n",
    "  # bld[[8]]: NWD <-> TOM <-> TOP <-> MESA\n",
    "\n",
    "clin_df <- merge(x=bdl[[10]],all=T, by.x=\"subject_id\",          # WHI (from WHI tech pheno w/ bmi)\n",
    "        y=merge(x=bdl[[9]], all=T, by.x=\"subject_id\",          # WHI (from meth+met visit timepoints)\n",
    "       y=merge(x=bdl[[8]], all=T, by.x=\"collaboratorsampleid\",# NWD (from MESA metabo-proteo)\n",
    "      y=merge(x=bdl[[7]], all=T, by.x=\"nwd_id\",              # NWD (from MESA RNASeq)\n",
    "     y=merge(x=bdl[[6]], all=T, by.x=\"SUBJECT_ID\",          # WHI (from WHI metabo)\n",
    "    y=merge(x=bdl[[5]], all=T, by.x=\"SUBJECT_ID\",          # WHI (from WHI RNASeq)\n",
    "   y=merge(x=bdl[[4]], all=T, by.x=\"subject_id\",          # WHI (from WHI tech pheno)\n",
    "  y=merge(x=bdl[[3]], all=T, by.x=\"index\",               # NWD (from kent's file)\n",
    " y=merge(x=bdl[[2]], all=T, by.x=\"X._VCF.Sample.Id.\",   # NWD (from smoking)\n",
    "        y=bdl[[1]],         by.y=\"sample.id\"),          # NWD (from sgaynor)\n",
    "                             by.y=\"X._VCF.Sample.Id.\"),  # NWD (from smoking)\n",
    "                              by.y=\"subject_id\"),         # WHI (from sgaynor)\n",
    "                               by.y=\"subject_id\"),         # WHI (from WHI tech pheno)\n",
    "                                by.y=\"SUBJECT_ID\"),         # WHI (from WHI RNASeq)\n",
    "                                 by.y=\"index\"),              # NWD (from kent's file)\n",
    "                                  by.y=\"nwd_id\"),             # NWD (from MESA RNASeq)\n",
    "                                   by.y=\"SUBJECT_ID\"),         # WHI (from WHI metabo)\n",
    "                                    by.y=\"subject_id\")          # WHI (from meth+met visit timepoints)\n",
    "clin_df <- setDT(clin_df)\n",
    "dim(clin_df); head(clin_df)"
   ]
  },
  {
   "cell_type": "markdown",
   "metadata": {},
   "source": [
    "## Explore, determine which rows can be merged/removed"
   ]
  },
  {
   "cell_type": "markdown",
   "metadata": {},
   "source": [
    "### CHECKPOINT: Check colnames and a random row"
   ]
  },
  {
   "cell_type": "code",
   "execution_count": null,
   "metadata": {},
   "outputs": [],
   "source": [
    "rind <- trunc( runif(1,1,nrow(clin_df)) ); rind\n",
    "print(clin_df[rind,])\n",
    "colnames(clin_df); dim(clin_df)"
   ]
  },
  {
   "cell_type": "markdown",
   "metadata": {},
   "source": [
    "### \"collaboratorsampleid\" vs. \"topmedid\" (NWD IDs)"
   ]
  },
  {
   "cell_type": "code",
   "execution_count": null,
   "metadata": {},
   "outputs": [],
   "source": [
    "identical(clin_df[!is.na(topmedid), collaboratorsampleid], \n",
    "          clin_df[!is.na(topmedid), topmedid]) # Where topmedid is not NA, they are identical.\n",
    "all(is.na(clin_df[is.na(collaboratorsampleid), topmedid])) # Where collaboratorsampleid is NA, so it topmedid. No new info.\n",
    "\n",
    "clin_df <- clin_df[, topmedid := NULL] # They are identical except \"topmedid\" is less complete. Rm \"topmedid\"."
   ]
  },
  {
   "cell_type": "markdown",
   "metadata": {},
   "source": [
    "### \"subject_id\" vs. \"sidno\" (NWD IDs)"
   ]
  },
  {
   "cell_type": "code",
   "execution_count": null,
   "metadata": {},
   "outputs": [],
   "source": [
    "sum(is.na(clin_df$subject_id)); sum(is.na(clin_df$sidno))\n",
    "clin_df[!is.na(sidno), sidno,subject_id][sidno!=subject_id] # Noooo! They (exluding NAs) are identical except for ~one~ conflict!\n",
    "# Asked Magda; will trust the sgaynor file (\"subject_id\")\n",
    "\n",
    "clin_df[is.na(subject_id) & !is.na(sidno),sidno] # However, sidno does have a couple ids where subject_id is NA, so grab those. But then rm sidno.\n",
    "clin_df[is.na(subject_id), subject_id:=sidno]\n",
    "\n",
    "clin_df <- clin_df[, sidno := NULL]"
   ]
  },
  {
   "cell_type": "markdown",
   "metadata": {},
   "source": [
    "### \"TOM_ID.x\" (from MESA metabo) vs. \"TOM_ID.y\" (from WHI technical pheno)\n"
   ]
  },
  {
   "cell_type": "code",
   "execution_count": null,
   "metadata": {},
   "outputs": [],
   "source": [
    "identical(clin_df[!is.na(TOM_ID.x) & !is.na(TOM_ID.y), TOM_ID.x],\n",
    "          clin_df[!is.na(TOM_ID.x) & !is.na(TOM_ID.y), TOM_ID.y]) # Where they're both not NA, they agree. Safe to merge them.\n",
    "\n",
    "clin_df[is.na(TOM_ID.x), TOM_ID.x := TOM_ID.y]\n",
    "clin_df <- clin_df[, TOM_ID.y := NULL] # Rm \"TOM_ID.y\". Merged it into the .x one, so no longer needed."
   ]
  },
  {
   "cell_type": "markdown",
   "metadata": {},
   "source": [
    "### \"tor_id\" (from MESA RNASeq) vs. \"SAMPLE_ID.y\" (from WHI RNASeq)"
   ]
  },
  {
   "cell_type": "code",
   "execution_count": null,
   "metadata": {},
   "outputs": [],
   "source": [
    "identical(clin_df[!is.na(tor_id) & !is.na(SAMPLE_ID.y), tor_id],\n",
    "          clin_df[!is.na(tor_id) & !is.na(SAMPLE_ID.y), SAMPLE_ID.y]) # :] safe to merge\n",
    "\n",
    "clin_df[is.na(tor_id), tor_id := SAMPLE_ID.y]\n",
    "clin_df <- clin_df[, SAMPLE_ID.y := NULL] # Rm \"SAMPLE_ID.y\". Merged it into tor_id, so no longer needed."
   ]
  },
  {
   "cell_type": "markdown",
   "metadata": {},
   "source": [
    "### Remove rows which are NA for everything except smoking\n",
    "There are a lot of these, and not so useful."
   ]
  },
  {
   "cell_type": "code",
   "execution_count": null,
   "metadata": {},
   "outputs": [],
   "source": [
    "tmp <- clin_df[, -c(\"collaboratorsampleid\",\n",
    "                    \"X.DCC.Harmonized.data.set.03...Baseline.common.covariates.Indicates.whether.subject.ever.regularly.smoked.cigarettes..\")]\n",
    "rows2keep <- apply(tmp,1, function(row) !all(is.na(row)))\n",
    "\n",
    "head( clin_df[!rows2keep], n=3) # How these NAs row look\n",
    "print(paste(sum(!rows2keep),\"unimportant rows will be removed, leaving\", nrow(clin_df)-sum(!rows2keep)))\n",
    "clin_df <- clin_df[rows2keep]\n",
    "dim(clin_df)"
   ]
  },
  {
   "cell_type": "markdown",
   "metadata": {},
   "source": [
    "### Remove rows which have no TOE,TOM,TOP,TOR ID"
   ]
  },
  {
   "cell_type": "code",
   "execution_count": null,
   "metadata": {},
   "outputs": [],
   "source": [
    "dim(clin_df)\n",
    "clin_df <- clin_df[ !( is.na(methylation_id) &\n",
    "                       is.na(TOM_ID.x) & is.na(SAMPLE_ID.x) &\n",
    "                       is.na(TOP_ID) &\n",
    "                       is.na(tor_id) & is.na(rnaseq_id) )]\n",
    "dim(clin_df)"
   ]
  },
  {
   "cell_type": "markdown",
   "metadata": {},
   "source": [
    "### CHECKPOINT: Check colnames and a random row again"
   ]
  },
  {
   "cell_type": "code",
   "execution_count": null,
   "metadata": {},
   "outputs": [],
   "source": [
    "# Check colnames and a random row\n",
    "rind <- trunc( runif(1,1,nrow(clin_df)) ); rind\n",
    "print(clin_df[rind,])\n",
    "colnames(clin_df); dim(clin_df)"
   ]
  },
  {
   "cell_type": "markdown",
   "metadata": {},
   "source": [
    "### Set TOE/TOM IDs to NA if they are from Baseline\n",
    "Using Jeff's methylation & metabolomic visit timepoint info file. We just want the measurements not at baseline, to match the rest of the data we're using.\\\n",
    "Hopefully this will resolve some of the conflicts and duplicates in IDs?\\\n",
    "WARNING: note there are two different columns \"methylation_id\" and \"methylaiton_id\" \\[sic\\]\\\n",
    "\\\n",
    "I know there are still multiple columns for TOM and TOE IDs each, but there are conflicts and I'm not sure how to resolve them. Hoping that removing these baseline entires will remove some of the conflicts."
   ]
  },
  {
   "cell_type": "code",
   "execution_count": null,
   "metadata": {},
   "outputs": [],
   "source": [
    "table(clin_df$methylation_visit)\n",
    "sum(is.na(clin_df$methylaiton_id)); sum(is.na(clin_df$methylation_id))\n",
    "clin_df <- clin_df[methylation_visit==\"Baseline\", `:=`(methylation_id=NA, methylaiton_id=NA)]\n",
    "sum(is.na(clin_df$methylaiton_id)); sum(is.na(clin_df$methylation_id))\n",
    "\n",
    "table(clin_df$metabolomics_visit)\n",
    "sum(is.na(clin_df$metabolomics_id)); sum(is.na(clin_df$TOM_ID.x)); sum(is.na(clin_df$SAMPLE_ID.x))\n",
    "clin_df <- clin_df[metabolomics_visit==\"Base\", `:=`(metabolomics_id=NA, TOM_ID.x=NA, SAMPLE_ID.x=NA)]\n",
    "sum(is.na(clin_df$metabolomics_id)); sum(is.na(clin_df$TOM_ID.x)); sum(is.na(clin_df$SAMPLE_ID.x))\n",
    "\n",
    "clin_df <- clin_df[, `:=`(methylation_visit=NULL, metabolomics_visit=NULL)]"
   ]
  },
  {
   "cell_type": "markdown",
   "metadata": {},
   "source": [
    "### \"methylaiton_id\" \\[sic\\] (from meth&met visit timepoint info) vs. \"methylation_id\" (from WHI technical phenotype)\n",
    "Are the two methylation colunms identical now (exclusing NAs)? They were not before removing the baseline entires."
   ]
  },
  {
   "cell_type": "code",
   "execution_count": null,
   "metadata": {},
   "outputs": [],
   "source": [
    "identical(clin_df[!is.na(methylaiton_id) & !is.na(methylation_id), methylaiton_id],\n",
    "          clin_df[!is.na(methylaiton_id) & !is.na(methylation_id), methylation_id]) # Yes!! :] safe to merge now.\n",
    "\n",
    "clin_df[is.na(methylation_id), methylation_id := methylaiton_id]\n",
    "clin_df <- clin_df[, methylaiton_id := NULL] # Rm \"methylaiton_id\" [sic]. Merged it into \"methylation_id\", so no longer needed."
   ]
  },
  {
   "cell_type": "markdown",
   "metadata": {},
   "source": [
    "### \"metabolomics_id\" (from meth&met visit timepoint info) vs. \"TOM_ID.x\" (from MESA metabo) vs. \"SAMPLE_ID.x\" (from WHI metabo)\n",
    "Are the TOM colunms identical now (exclusing NAs)? They were not before removing the baseline entires (there were 105 conflicts between \"TOM_ID.x\" and \"SAMPLE_ID.x\")."
   ]
  },
  {
   "cell_type": "code",
   "execution_count": null,
   "metadata": {},
   "outputs": [],
   "source": [
    "identical(clin_df[!is.na(metabolomics_id) & !is.na(TOM_ID.x), metabolomics_id],\n",
    "          clin_df[!is.na(metabolomics_id) & !is.na(TOM_ID.x), TOM_ID.x]) # :] safe to merge\n",
    "identical(clin_df[!is.na(SAMPLE_ID.x) & !is.na(TOM_ID.x), TOM_ID.x],\n",
    "          clin_df[!is.na(SAMPLE_ID.x) & !is.na(TOM_ID.x), SAMPLE_ID.x]) # :] also good!\n",
    "\n",
    "clin_df <- clin_df[is.na(TOM_ID.x), TOM_ID.x := metabolomics_id]\n",
    "clin_df <- clin_df[is.na(TOM_ID.x), TOM_ID.x := SAMPLE_ID.x]\n",
    "\n",
    "clin_df <- clin_df[, metabolomics_id := NULL]\n",
    "clin_df <- clin_df[, SAMPLE_ID.x := NULL]"
   ]
  },
  {
   "cell_type": "markdown",
   "metadata": {},
   "source": [
    "### \"tor_id\" (from MESA & WHI RNASeq) vs. \"rnaseq_id\" (from WHI technical pheno)"
   ]
  },
  {
   "cell_type": "code",
   "execution_count": null,
   "metadata": {},
   "outputs": [],
   "source": [
    "identical(clin_df[!is.na(tor_id) & !is.na(rnaseq_id), tor_id],\n",
    "          clin_df[!is.na(tor_id) & !is.na(rnaseq_id), rnaseq_id]) # conflicts!\n",
    "head( clin_df[tor_id!=rnaseq_id, c(\"subject_id\",\"tor_id\",\"rnaseq_id\")] )\n",
    "\n",
    "# Jeff said for duplicate RNASeq samples, just pick one.\n",
    "# Each conflict shown below is due to the same WHI ID  (in \"subject_id\") being associated w/ multiple TOR IDs (duplicated).\n",
    "clin_df[tor_id!=rnaseq_id, rnaseq_id := tor_id] # Just pick the ones in tor_id.\n",
    "clin_df[is.na(tor_id), tor_id := rnaseq_id] # Now can merge. And no longer need rnaseq_id\n",
    "clin_df[, rnaseq_id := NULL]\n",
    "\n",
    "# May need later?\n",
    "#       dup_subject_ids <- unique(clin_df[         duplicated(subject_id),                   subject_id])\n",
    "#dup_rnaseq_subject_ids <- unique(clin_df[tor_id!=rnaseq_id & subject_id%in%dup_subject_ids, subject_id])\n",
    "#for(id in dup_rnaseq_subject_ids[1]) {\n",
    "#    dup_row_inds <- which(clin_df$subject_id==id)\n",
    "#    each_dup_n_na <- apply(clin_df[dup_row_inds],1, function(row) sum(is.na(row)))\n",
    "#    rows2toss <- dup_row_inds[-which.min(each_dup_n_na)]\n",
    "#    clin_df <- clin_df[-rows2toss]\n",
    "#}"
   ]
  },
  {
   "cell_type": "code",
   "execution_count": null,
   "metadata": {},
   "outputs": [],
   "source": [
    "identical(clin_df[!is.na(ageatdraw) & !is.na(draw_age), ageatdraw],\n",
    "          clin_df[!is.na(ageatdraw) & !is.na(draw_age), draw_age]) # :] can merge\n",
    "clin_df[is.na(ageatdraw), ageatdraw := draw_age]\n",
    "clin_df[, draw_age := NULL]"
   ]
  },
  {
   "cell_type": "markdown",
   "metadata": {},
   "source": [
    "## Prettier colnames"
   ]
  },
  {
   "cell_type": "code",
   "execution_count": null,
   "metadata": {},
   "outputs": [],
   "source": [
    "nrow(clin_df)\n",
    "colnames(clin_df)"
   ]
  },
  {
   "cell_type": "code",
   "execution_count": null,
   "metadata": {},
   "outputs": [],
   "source": [
    "colnames(clin_df) <- c(\"Subject_Id\",\n",
    "                       \"BMI\",\n",
    "                       \"BMI_Age\",\n",
    "                       \"NWD_Id\",\n",
    "                       \"TOM_Id\",\n",
    "                       \"TOP_Id\",\n",
    "                       \"Age_at_Draw\",\n",
    "                       \"BMI1c\",\n",
    "                       \"TOR_Id\",\n",
    "                       \"Exclusion_Reason\",\n",
    "                       \"Subject_Fasting_Hours_WHI_Metabolomics\",\n",
    "                       \"Subject_Fasting_Hours_WHI_RNASeq\",\n",
    "                       \"Olink_Id\",\n",
    "                       \"TOE_Id\",\n",
    "                       \"Methylation_Batch\",\n",
    "                       \"Methylation_Chip\",\n",
    "                       \"Methylation_Row\",\n",
    "                       \"RNASeq_Batch\",\n",
    "                       \"Cohort\",\n",
    "                       \"European\",\n",
    "                       \"African\",\n",
    "                       \"American\",\n",
    "                       \"East_Asian\",\n",
    "                       \"Smoking_Status\",\n",
    "                       \"Sex\",\n",
    "                       \"Ancestry\",\n",
    "                       \"T2D\",\n",
    "                       \"T2D_Age\",\n",
    "                       \"T2D_BMI\")\n",
    "colnames(clin_df)"
   ]
  },
  {
   "cell_type": "code",
   "execution_count": null,
   "metadata": {},
   "outputs": [],
   "source": [
    "dim(clin_df)\n",
    "dim(clin_df[Cohort==\"MESA\"])\n",
    "dim(clin_df[Cohort==\"WHI\"])\n",
    "head(clin_df)\n",
    "# TODO For covariates which are only in e.g. WHI, add \"_WHI\" to the colname or something\n",
    "sum(duplicated(clin_df$Subject_Id))"
   ]
  }
 ],
 "metadata": {
  "kernelspec": {
   "display_name": "R",
   "language": "R",
   "name": "ir"
  },
  "language_info": {
   "codemirror_mode": "r",
   "file_extension": ".r",
   "mimetype": "text/x-r-source",
   "name": "R",
   "pygments_lexer": "r",
   "version": "4.1.3"
  },
  "toc": {
   "base_numbering": 1,
   "nav_menu": {},
   "number_sections": true,
   "sideBar": true,
   "skip_h1_title": false,
   "title_cell": "Table of Contents",
   "title_sidebar": "Contents",
   "toc_cell": false,
   "toc_position": {},
   "toc_section_display": true,
   "toc_window_display": false
  }
 },
 "nbformat": 4,
 "nbformat_minor": 2
}
