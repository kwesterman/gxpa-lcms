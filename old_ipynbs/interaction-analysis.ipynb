{
 "cells": [
  {
   "cell_type": "markdown",
   "metadata": {},
   "source": [
    "# Preliminaries"
   ]
  },
  {
   "cell_type": "code",
   "execution_count": null,
   "metadata": {},
   "outputs": [],
   "source": [
    "library(tidyverse)\n",
    "library(patchwork)\n",
    "\n",
    "if (!require(foreach)) install.packages(\"foreach\")\n",
    "library(foreach)\n",
    "if (!require(iterators)) install.packages(\"iterators\")\n",
    "library(iterators)\n",
    "if (!require(mediation)) install.packages(\"mediation\")\n",
    "library(mediation)"
   ]
  },
  {
   "cell_type": "code",
   "execution_count": null,
   "metadata": {},
   "outputs": [],
   "source": [
    "ws_namespace <- Sys.getenv(\"WORKSPACE_NAMESPACE\")\n",
    "ws_name <- Sys.getenv(\"WORKSPACE_NAME\")\n",
    "ws_bucket <- Sys.getenv(\"WORKSPACE_BUCKET\")"
   ]
  },
  {
   "cell_type": "code",
   "execution_count": null,
   "metadata": {},
   "outputs": [],
   "source": [
    "theme_set(theme_bw())"
   ]
  },
  {
   "cell_type": "markdown",
   "metadata": {},
   "source": [
    "## Read in phenotypic, genotypic, and metabolomic data"
   ]
  },
  {
   "cell_type": "markdown",
   "metadata": {},
   "source": [
    "* Phenotype data come from integrating inputs from dbGaP (/PIC-SURE), MESA investigators, and metadata from metabolomic preprocessing.\n",
    "* Genotype data come from dbGaP (Freeze 9b TOPMed-wide genotype VCF files).\n",
    "* Metabolomic data come directly from MESA (originally) followed by an extensive QC and preprocessing effort led by Magdalena Sevilla-Gonzalez and Paul Hanson."
   ]
  },
  {
   "cell_type": "code",
   "execution_count": null,
   "metadata": {},
   "outputs": [],
   "source": [
    "analysis_df_lcms <- read_csv(\"analysis/analysis_df_lcms.csv\", col_types=cols())\n",
    "names(analysis_df_lcms)"
   ]
  },
  {
   "cell_type": "code",
   "execution_count": null,
   "metadata": {},
   "outputs": [],
   "source": [
    "snp_info_df <- read_csv(\"genotypes/snp_info.csv\", col_types=cols())\n",
    "snps <- c(\"rs295849\", \"rs2862183\")\n",
    "exposures <- c(\"mod_vig_pa_bin\", \"smoking_current\", \"smoking_ever\")"
   ]
  },
  {
   "cell_type": "code",
   "execution_count": null,
   "metadata": {},
   "outputs": [],
   "source": [
    "metabs <- readRDS(\"metabolites/analysis_metabolites.rds\")"
   ]
  },
  {
   "cell_type": "code",
   "execution_count": null,
   "metadata": {},
   "outputs": [],
   "source": [
    "basic_covars <- c(\"site\", \"gender_f0m1\", \"age\")\n",
    "covar_sets <- list(\n",
    "    no_gPC = c(basic_covars, \"ses_score\", \"income_cat\", \n",
    "                              \"drinks_per_week\", \"smoking\", \"ahei_score\", \"dash_score\"),\n",
    "    all = c(basic_covars, \"ses_score\", \"income_cat\", \n",
    "                              \"drinks_per_week\", \"smoking\", \"ahei_score\", \"dash_score\",\n",
    "                       paste0(\"gPC\", 1:5))\n",
    ")\n",
    "covars <- covar_sets$all"
   ]
  },
  {
   "cell_type": "markdown",
   "metadata": {},
   "source": [
    "### What about using a metabolomic E proxy instead?"
   ]
  },
  {
   "cell_type": "code",
   "execution_count": null,
   "metadata": {},
   "outputs": [],
   "source": [
    "e_proxy_mwas_res <- read_csv(\"analysis/e_proxy_mwas_res.csv\", show_col_types=FALSE)\n",
    "metabolite_info_df <- read_csv(\"PH_files/met_info_v12.csv\", show_col_types=FALSE) %>%\n",
    "    dplyr::select(metabolite=Compound_Id_MESA, HMDB_Id, Name, Method)"
   ]
  },
  {
   "cell_type": "code",
   "execution_count": null,
   "metadata": {},
   "outputs": [],
   "source": [
    "sample_n(filter(metabolite_info_df, !is.na(Name)), 3)"
   ]
  },
  {
   "cell_type": "code",
   "execution_count": null,
   "metadata": {},
   "outputs": [],
   "source": [
    "n_eff_metabs <- scan(\"analysis/n_eff_metabolites.txt\", what=double())\n",
    "\n",
    "pa_mwas_res <- read_csv(\"analysis/e_proxy_mwas_res.csv\", show_col_types=FALSE) %>%\n",
    "    filter(exposure == \"pa\") %>%\n",
    "    arrange(p.value) %>%\n",
    "    left_join(metabolite_info_df, by=\"metabolite\")\n",
    "\n",
    "top_pa_mwas_metabolites <- scan(\"analysis/top_pa_metabolites.txt\", what=character())\n",
    "top_vig_pa_mwas_metabolites <- scan(\"analysis/top_vig_pa_metabolites.txt\", what=character())\n",
    "# top_pa_mwas_metabolites <- pa_mwas_res$metabolite[1:100]"
   ]
  },
  {
   "cell_type": "code",
   "execution_count": null,
   "metadata": {},
   "outputs": [],
   "source": [
    "top_pa_mwas_metabolites"
   ]
  },
  {
   "cell_type": "code",
   "execution_count": null,
   "metadata": {},
   "outputs": [],
   "source": [
    "test_g_m_interaction <- function(snp,\n",
    "                                 m_name, \n",
    "                                 df=analysis_df_lcms, \n",
    "                                 covars=covar_sets$all,\n",
    "                                 filter_str=NA) {\n",
    "    df$m <- metabs[, m_name]\n",
    "    if (!is.na(filter_str)) df <- filter(df, !!rlang::parse_expr(filter_str))\n",
    "    form_str <- paste0(\"hdl_log ~ m * \", snp, \" + \", paste(covars, collapse=\" + \"))\n",
    "    lm(as.formula(form_str), data=df) %>%\n",
    "    broom::tidy() %>%\n",
    "    filter(grepl(\":\", term))\n",
    "}\n",
    "\n",
    "m_int_res_df <- expand_grid(\n",
    "    metabolite = top_pa_mwas_metabolites,\n",
    "    snp = snps\n",
    ") %>%\n",
    "    rowwise() %>%\n",
    "    mutate(lm_fit = list(test_g_m_interaction(snp, metabolite))) %>%\n",
    "    unnest(lm_fit) %>%\n",
    "    arrange(p.value) %>%\n",
    "    mutate(q = p.adjust(p.value, method=\"BH\")) %>%\n",
    "    inner_join(metabolite_info_df, by=\"metabolite\")\n",
    "head(m_int_res_df, 6)\n",
    "\n",
    "m_int_res_df <- expand_grid(\n",
    "    metabolite = top_vig_pa_mwas_metabolites,\n",
    "    snp = snps\n",
    ") %>%\n",
    "    rowwise() %>%\n",
    "    mutate(lm_fit = list(test_g_m_interaction(snp, metabolite))) %>%\n",
    "    unnest(lm_fit) %>%\n",
    "    arrange(p.value) %>%\n",
    "    mutate(q = p.adjust(p.value, method=\"BH\")) %>%\n",
    "    inner_join(metabolite_info_df, by=\"metabolite\")\n",
    "head(m_int_res_df, 6)"
   ]
  },
  {
   "cell_type": "code",
   "execution_count": null,
   "metadata": {},
   "outputs": [],
   "source": [
    "0.05 / 8"
   ]
  },
  {
   "cell_type": "code",
   "execution_count": null,
   "metadata": {},
   "outputs": [],
   "source": [
    "m_int_res_df_female <- expand_grid(\n",
    "    metabolite = top_vig_pa_mwas_metabolites,\n",
    "    snp = snps\n",
    ") %>%\n",
    "    rowwise() %>%\n",
    "    mutate(lm_fit = list(test_g_m_interaction(snp, metabolite, \n",
    "                                              filter_str=\"gender_f0m1 == 0\"))) %>%\n",
    "    unnest(lm_fit) %>%\n",
    "    arrange(p.value) %>%\n",
    "    mutate(q = p.adjust(p.value, method=\"BH\")) %>%\n",
    "    inner_join(metabolite_info_df, by=\"metabolite\")\n",
    "head(m_int_res_df_female, 20)"
   ]
  },
  {
   "cell_type": "code",
   "execution_count": null,
   "metadata": {},
   "outputs": [],
   "source": [
    "a <- read_csv(\"PH_files/met_info_v12.csv\", show_col_types=FALSE)\n",
    "# a %>% filter(Compound_Id_MESA == \"QI1084_cp\")\n",
    "# a %>% filter(MZ > 368, MZ < 369, !is.na(Name))\n",
    "\n",
    "# a %>% filter(Compound_Id_MESA == \"QI8416_hp\")\n",
    "# a %>% filter(MZ > 525, MZ < 535, !is.na(Name))\n",
    "\n",
    "\n",
    "a %>% filter(Compound_Id_MESA == \"QI497_cp\")\n",
    "a %>% filter(MZ > 243, MZ < 244, !is.na(Name))\n",
    "\n",
    "a %>% filter(Compound_Id_MESA == \"QI6162_hp\")\n",
    "a %>% filter(MZ > 330, MZ < 335, !is.na(Name))\n",
    "\n",
    "# a %>% filter(Compound_Id_MESA == \"QI8416_hp\")\n",
    "# a %>% filter(MZ > 525, MZ < 535, !is.na(Name))"
   ]
  },
  {
   "cell_type": "markdown",
   "metadata": {},
   "source": [
    "# Test moderated mediation"
   ]
  },
  {
   "cell_type": "code",
   "execution_count": null,
   "metadata": {},
   "outputs": [],
   "source": [
    "test_moderated_mediation <- function(x, m, y, w, covars) {\n",
    "    \n",
    "    # For now, w (the moderating variable) must be binary (0/1)\n",
    "    med_form_str <- paste0(\"m ~ x * w + \", paste(covars, collapse=\" + \"))\n",
    "    med_fit <- lm(as.formula(med_form_str), data=analysis_df_lcms)\n",
    "    out_form_str <- paste0(\"y ~ m * w + x * w + \", paste(covars, collapse=\" + \"))\n",
    "    out_fit <- lm(as.formula(out_form_str), data=analysis_df_lcms)\n",
    "    med_out <- mediate(med_fit, out_fit, \n",
    "                       treat=\"x\", mediator=\"m\",\n",
    "                       robustSE=TRUE, sims=10)  # N_sims doesn't need to be high for this step\n",
    "    modmed_out <- test.modmed(med_out, list(w=0), list(w=1), sims=100)\n",
    "    modmed_out\n",
    "}"
   ]
  },
  {
   "cell_type": "code",
   "execution_count": null,
   "metadata": {},
   "outputs": [],
   "source": [
    "# test_moderated_mediation(analysis_df_lcms$pa, metabs[, 5], analysis_df_lcms$hdl_log, \n",
    "#                          analysis_df_lcms$rs2862183, c(\"age\", \"gender_f0m1\"))"
   ]
  }
 ],
 "metadata": {
  "kernelspec": {
   "display_name": "R",
   "language": "R",
   "name": "ir"
  },
  "language_info": {
   "codemirror_mode": "r",
   "file_extension": ".r",
   "mimetype": "text/x-r-source",
   "name": "R",
   "pygments_lexer": "r",
   "version": "4.3.0"
  },
  "toc": {
   "base_numbering": 1,
   "nav_menu": {},
   "number_sections": true,
   "sideBar": true,
   "skip_h1_title": false,
   "title_cell": "Table of Contents",
   "title_sidebar": "Contents",
   "toc_cell": false,
   "toc_position": {},
   "toc_section_display": true,
   "toc_window_display": false
  }
 },
 "nbformat": 4,
 "nbformat_minor": 2
}
