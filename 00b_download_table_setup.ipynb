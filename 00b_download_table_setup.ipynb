{
 "cells": [
  {
   "cell_type": "code",
   "execution_count": null,
   "metadata": {},
   "outputs": [],
   "source": [
    "%pip install --upgrade --no-cache-dir pip\n",
    "%pip install --upgrade --no-cache-dir terra-notebook-utils\n",
    "\n",
    "import os\n",
    "import io\n",
    "import pandas as pd\n",
    "import firecloud.api as fapi\n",
    "\n",
    "ws_namespace = os.environ['WORKSPACE_NAMESPACE']\n",
    "ws_name = os.path.basename(os.path.dirname(os.getcwd()))\n",
    "ws_bucket = os.environ['WORKSPACE_BUCKET']"
   ]
  },
  {
   "cell_type": "code",
   "execution_count": null,
   "metadata": {},
   "outputs": [],
   "source": [
    "decryption_key = ws_bucket + \"/prj_14641_D17100.ngc\"\n",
    "\n",
    "download_cols = [\"entity:download_id\", \"request_num\", \"downloader\", \"token_string\", \"decryption_key\"]\n",
    "download_tbl = pd.DataFrame.from_records([\n",
    "    (\"MESA_LP4\", \"90865\", \"kwesterman\", \"A75497C4306B34AD49542C4D86C38B3B47C53EA9753904433B1AD0A16416865C86CA4C2A48F0E4F058C954C963AF54038D\", decryption_key)\n",
    "], columns = download_cols)\n",
    "\n",
    "download_tbl_str = download_tbl.to_csv(sep = \"\\t\", index = False)\n",
    "fapi.upload_entities(ws_namespace, ws_name, download_tbl_str, \"flexible\")"
   ]
  },
  {
   "cell_type": "code",
   "execution_count": null,
   "metadata": {},
   "outputs": [],
   "source": [
    "download_tbl"
   ]
  },
  {
   "cell_type": "code",
   "execution_count": null,
   "metadata": {},
   "outputs": [],
   "source": [
    "downloaded_tsv = fapi.get_entities_tsv(ws_namespace, ws_name, \"download\", model=\"flexible\")\n",
    "downloaded_df = (pd.read_csv(io.StringIO(downloaded_tsv.text), sep='\\t'))\n",
    "#            .query(\"callset == 'Freeze 8' & data_type == 'Variant Call'\")\n",
    "#            .filter([\"file_name\", \"project_id\", \"object_id\"])\n",
    "#            .assign(chr = lambda x: x.file_name.str.extract(r'chr([0-9X]*)')))"
   ]
  },
  {
   "cell_type": "code",
   "execution_count": null,
   "metadata": {},
   "outputs": [],
   "source": [
    "downloaded_df"
   ]
  },
  {
   "cell_type": "code",
   "execution_count": null,
   "metadata": {},
   "outputs": [],
   "source": [
    "for r in [\"MESA_LP4\"]:\n",
    "    decrypted_files = downloaded_df.loc[downloaded_df[\"entity:download_id\"] == r, \"decrypted_files\"]\n",
    "    fnames = decrypted_files.iloc[0].strip(\"[]\").split(\",\")\n",
    "    for f in fnames:\n",
    "        f = f.strip(\"\\\"\")\n",
    "        ! gsutil cp $f gs://fc-c5011c7b-5cea-4987-8069-216d079d539f/phenotypes/"
   ]
  }
 ],
 "metadata": {
  "language_info": {
   "name": "python"
  }
 },
 "nbformat": 4,
 "nbformat_minor": 2
}
